{
 "cells": [
  {
   "cell_type": "code",
   "execution_count": 1,
   "metadata": {},
   "outputs": [
    {
     "name": "stdout",
     "output_type": "stream",
     "text": [
      "*************************\n",
      "** A Simple Math Quiz **\n",
      "*************************\n",
      "1.Addition(Easy)\n",
      "2.Subtraction(Easy)\n",
      "3.Multiplication(Normal)\n",
      "4.Integer division(Hard)\n",
      "5.Exit(Bot)\n",
      "-------------------------\n"
     ]
    },
    {
     "ename": "ValueError",
     "evalue": "invalid literal for int() with base 10: ''",
     "output_type": "error",
     "traceback": [
      "\u001b[1;31m---------------------------------------------------------------------------\u001b[0m",
      "\u001b[1;31mValueError\u001b[0m                                Traceback (most recent call last)",
      "Cell \u001b[1;32mIn[1], line 26\u001b[0m\n\u001b[0;32m     24\u001b[0m \u001b[38;5;28mprint\u001b[39m(\u001b[38;5;124m\"\u001b[39m\u001b[38;5;124m-\u001b[39m\u001b[38;5;124m\"\u001b[39m\u001b[38;5;241m*\u001b[39m\u001b[38;5;241m25\u001b[39m)\n\u001b[0;32m     25\u001b[0m \u001b[38;5;66;03m#we make a layout for our quiz\u001b[39;00m\n\u001b[1;32m---> 26\u001b[0m x\u001b[38;5;241m=\u001b[39m\u001b[38;5;28;43mint\u001b[39;49m\u001b[43m(\u001b[49m\u001b[38;5;28;43minput\u001b[39;49m\u001b[43m(\u001b[49m\u001b[38;5;124;43m\"\u001b[39;49m\u001b[38;5;124;43mChoose a quiz! : \u001b[39;49m\u001b[38;5;124;43m\"\u001b[39;49m\u001b[43m)\u001b[49m\u001b[43m)\u001b[49m\n\u001b[0;32m     27\u001b[0m \u001b[38;5;66;03m#ask the user to choose which quiz they want\u001b[39;00m\n\u001b[0;32m     28\u001b[0m \u001b[38;5;28;01mif\u001b[39;00m x\u001b[38;5;241m==\u001b[39m\u001b[38;5;241m1\u001b[39m:\n",
      "\u001b[1;31mValueError\u001b[0m: invalid literal for int() with base 10: ''"
     ]
    }
   ],
   "source": [
    "#this code represents a math quiz which includes addition, subtraction, multiplication and division\n",
    "import random\n",
    "  #this is to randomize our values\n",
    "x=-1\n",
    "#Choices\n",
    "y=0\n",
    "#Total answers\n",
    "z=0\n",
    "#correct answers\n",
    "\n",
    "while x!=5:\n",
    "  # we use a while loop to make choices for a math quiz\n",
    "  n1=random.randint(1,15)\n",
    "  n2=random.randint(1,15)\n",
    "  #we set the minimum and maximum randomised numbers\n",
    "  print(\"*\"*25)\n",
    "  print('** A Simple Math Quiz **')\n",
    "  print(\"*\"*25)\n",
    "  print('1.Addition(Easy)')\n",
    "  print('2.Subtraction(Easy)')\n",
    "  print('3.Multiplication(Normal)')\n",
    "  print('4.Integer division(Hard)')\n",
    "  print('5.Exit(Bot)')\n",
    "  print(\"-\"*25)\n",
    "  #we make a layout for our quiz\n",
    "  x=int(input(\"Choose a quiz! : \"))\n",
    "  #ask the user to choose which quiz they want\n",
    "  if x==1:\n",
    "    y+=1\n",
    "    print(n1,\"+\",n2,'=')\n",
    "    n3=int(input('Enter your answer : '))\n",
    "    if n1+n2==n3:\n",
    "      print('Correct')\n",
    "      z+=1\n",
    "    else:\n",
    "      print('Incorrect')\n",
    "      # Quiz 1 (Addition)\n",
    "  if x==2:\n",
    "    y+=1\n",
    "    print(n1,\"-\",n2,'=')\n",
    "    n3=int(input('Enter your answer : '))\n",
    "    if n1-n2==n3:\n",
    "     print('Correct')\n",
    "     z+=1\n",
    "    else:\n",
    "      print('Incorrect')\n",
    "    # Quiz 2 (Subtraction)\n",
    "  if x==3:\n",
    "    y+=1\n",
    "    print(n1,\"x\",n2,'=')\n",
    "    n3=int(input('Enter your answer : '))\n",
    "    if n1*n2==n3:\n",
    "      print('Correct')\n",
    "      z+=1\n",
    "    else:\n",
    "      print('Incorrect')\n",
    "    # Quiz 3 (Multiplication)\n",
    "  if x==4:\n",
    "    y+=1\n",
    "    print(n1,\"/\",n2,'=')\n",
    "    n3=int(input('Enter your answer : '))\n",
    "    if n1//n2==n3:\n",
    "      print('Correct')\n",
    "      z+=1\n",
    "    else:\n",
    "      print('Incorrect')\n",
    "    # Quiz 4 (Division)\n",
    "  if x==5:\n",
    "    exit()\n",
    "    print('Total : ',y)\n",
    "    print('Correct answers : ',z)\n",
    "    # Exiting the Quiz\n",
    "  if x<0 and x>5:\n",
    "    print('Thats not a choice!')\n",
    "    # This is to avoid having someone choose a value that is not in the choices given"
   ]
  },
  {
   "cell_type": "markdown",
   "metadata": {},
   "source": [
    "I used Google Colab to write the code"
   ]
  },
  {
   "cell_type": "markdown",
   "metadata": {},
   "source": [
    "1. Everything went well\n",
    "2. I didn't have problems\n",
    "3. I wanted to make it so that if you answered incorrectly you would get the actual correct answer"
   ]
  }
 ],
 "metadata": {
  "kernelspec": {
   "display_name": "Python 3",
   "language": "python",
   "name": "python3"
  },
  "language_info": {
   "codemirror_mode": {
    "name": "ipython",
    "version": 3
   },
   "file_extension": ".py",
   "mimetype": "text/x-python",
   "name": "python",
   "nbconvert_exporter": "python",
   "pygments_lexer": "ipython3",
   "version": "3.12.4"
  }
 },
 "nbformat": 4,
 "nbformat_minor": 2
}
