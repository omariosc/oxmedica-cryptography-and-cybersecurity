{
 "cells": [
  {
   "cell_type": "code",
   "execution_count": 3,
   "metadata": {},
   "outputs": [
    {
     "name": "stdout",
     "output_type": "stream",
     "text": [
      "Welcome to the python calculator\n",
      "The total is:\n",
      "2.5\n",
      "Thank you for using the python calculator!\n"
     ]
    }
   ],
   "source": [
    "print(\"Welcome to the python calculator\")\n",
    "#The user will now input the two numbers he wants\n",
    "i=1\n",
    "while i > 0:\n",
    " try:\n",
    "  num_1= float(input (\"Input the first number: \"))\n",
    "  num_2= float(input (\"Input the second number: \"))\n",
    "#The user will chose the operation that he wants to preform\n",
    "  oper = str(input(\"What operation do you want to preform?(*,/,-,+): \"))\n",
    "#The code below will do the calculations\n",
    "  if oper == '*':\n",
    "      print(\"The product is:\")\n",
    "      print(float(num_1 * num_2))\n",
    "  elif  oper == '/':\n",
    "      print(\"The total is:\")\n",
    "      print(float(num_1 / num_2))\n",
    "  elif  oper == '-':\n",
    "      print(\"The total is:\")\n",
    "      print(float(num_1 - num_2))\n",
    "  elif  oper == '+':\n",
    "      print(\"The total is:\")\n",
    "      print(float(num_1 + num_2))\n",
    "  i = int(input(\"If you want to run it again input 1, if not input 0\"))\n",
    " except ValueError:\n",
    "    print(\"Error!, try again\")\n",
    "    i=1\n",
    "print(\"Thank you for using the python calculator!\")"
   ]
  },
  {
   "attachments": {},
   "cell_type": "markdown",
   "metadata": {},
   "source": [
    "Coding the calculator was fun! The problem I ran into was that I wanted the code to run until the user says otherwise. I fixed it by writing the code in a while loop."
   ]
  }
 ],
 "metadata": {
  "kernelspec": {
   "display_name": "Python 3",
   "language": "python",
   "name": "python3"
  },
  "language_info": {
   "codemirror_mode": {
    "name": "ipython",
    "version": 3
   },
   "file_extension": ".py",
   "mimetype": "text/x-python",
   "name": "python",
   "nbconvert_exporter": "python",
   "pygments_lexer": "ipython3",
   "version": "3.9.7"
  },
  "orig_nbformat": 4
 },
 "nbformat": 4,
 "nbformat_minor": 2
}
