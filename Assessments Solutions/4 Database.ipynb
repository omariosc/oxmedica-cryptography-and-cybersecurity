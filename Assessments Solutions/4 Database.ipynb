{
 "cells": [
  {
   "cell_type": "code",
   "execution_count": 2,
   "metadata": {},
   "outputs": [
    {
     "data": {
      "text/plain": [
       "<sqlite3.Cursor at 0x15d9ec91500>"
      ]
     },
     "execution_count": 2,
     "metadata": {},
     "output_type": "execute_result"
    }
   ],
   "source": [
    "import sqlite3\n",
    "\n",
    "conn = sqlite3.connect(':memory:')\n",
    "cursor = conn.cursor()\n",
    "\n",
    "cursor.execute('''CREATE TABLE Books (\n",
    "    book_id INT PRIMARY KEY,\n",
    "    title VARCHAR(100),\n",
    "    author VARCHAR(100),\n",
    "    isbn VARCHAR(20)\n",
    ");\n",
    "''')\n",
    "\n",
    "cursor.execute('''CREATE TABLE Members (\n",
    "    member_id INT PRIMARY KEY,\n",
    "    name VARCHAR(100),\n",
    "    email VARCHAR(100)\n",
    ");\n",
    "''')\n",
    "\n",
    "cursor.execute('''CREATE TABLE Borrowing (\n",
    "    borrowing_id INT PRIMARY KEY,\n",
    "    member_id INT,\n",
    "    book_id INT,\n",
    "    borrow_date DATE,\n",
    "    return_date DATE,\n",
    "    FOREIGN KEY (member_id) REFERENCES Members(member_id),\n",
    "    FOREIGN KEY (book_id) REFERENCES Books(book_id)\n",
    ");\n",
    "''')"
   ]
  },
  {
   "cell_type": "code",
   "execution_count": 3,
   "metadata": {},
   "outputs": [],
   "source": [
    "import sqlite3\n",
    "\n",
    "\n",
    "conn = sqlite3.connect(':memory:')\n",
    "cursor = conn.cursor()\n",
    "\n",
    "\n",
    "cursor.executescript('''\n",
    "CREATE TABLE Books (\n",
    "    book_id INTEGER PRIMARY KEY,\n",
    "    title TEXT,\n",
    "    author TEXT,\n",
    "    isbn TEXT\n",
    ");\n",
    "\n",
    "CREATE TABLE Members (\n",
    "    member_id INTEGER PRIMARY KEY,\n",
    "    name TEXT,\n",
    "    email TEXT\n",
    ");\n",
    "\n",
    "CREATE TABLE Borrowing (\n",
    "    borrowing_id INTEGER PRIMARY KEY,\n",
    "    member_id INTEGER,\n",
    "    book_id INTEGER,\n",
    "    borrow_date DATE,\n",
    "    return_date DATE,\n",
    "    FOREIGN KEY (member_id) REFERENCES Members(member_id),\n",
    "    FOREIGN KEY (book_id) REFERENCES Books(book_id)\n",
    ");\n",
    "''')\n",
    "\n",
    "\n",
    "cursor.execute(\"INSERT INTO Books (book_id, title, author, isbn) VALUES (1, 'Brave New World', 'Aldous Huxley', '9780060850524')\")\n",
    "\n",
    "\n",
    "cursor.execute(\"INSERT INTO Members (member_id, name, email) VALUES (1, 'John Doe', 'john.doe@example.com')\")\n",
    "\n",
    "\n",
    "cursor.execute(\"INSERT INTO Borrowing (borrowing_id, member_id, book_id, borrow_date, return_date) VALUES (1, 1, 1, '2024-07-03', NULL)\")\n",
    "\n",
    "\n",
    "conn.commit()\n",
    "conn.close()\n"
   ]
  },
  {
   "cell_type": "code",
   "execution_count": 4,
   "metadata": {},
   "outputs": [
    {
     "ename": "OperationalError",
     "evalue": "no such table: Members",
     "output_type": "error",
     "traceback": [
      "\u001b[1;31m---------------------------------------------------------------------------\u001b[0m",
      "\u001b[1;31mOperationalError\u001b[0m                          Traceback (most recent call last)",
      "Cell \u001b[1;32mIn[4], line 17\u001b[0m\n\u001b[0;32m     15\u001b[0m \u001b[39m# Example usage with SQL injection\u001b[39;00m\n\u001b[0;32m     16\u001b[0m injected_member_id \u001b[39m=\u001b[39m \u001b[39m\"\u001b[39m\u001b[39m1 OR 1=1\u001b[39m\u001b[39m\"\u001b[39m\n\u001b[1;32m---> 17\u001b[0m results \u001b[39m=\u001b[39m fetch_member_data(injected_member_id)\n\u001b[0;32m     18\u001b[0m \u001b[39mprint\u001b[39m(results)\n",
      "Cell \u001b[1;32mIn[4], line 9\u001b[0m, in \u001b[0;36mfetch_member_data\u001b[1;34m(member_id)\u001b[0m\n\u001b[0;32m      7\u001b[0m \u001b[39m# Vulnerable query (not sanitized for illustration)\u001b[39;00m\n\u001b[0;32m      8\u001b[0m query \u001b[39m=\u001b[39m \u001b[39mf\u001b[39m\u001b[39m\"\u001b[39m\u001b[39mSELECT * FROM Members WHERE member_id = \u001b[39m\u001b[39m{\u001b[39;00mmember_id\u001b[39m}\u001b[39;00m\u001b[39m\"\u001b[39m\n\u001b[1;32m----> 9\u001b[0m cursor\u001b[39m.\u001b[39;49mexecute(query)\n\u001b[0;32m     10\u001b[0m member_data \u001b[39m=\u001b[39m cursor\u001b[39m.\u001b[39mfetchall()\n\u001b[0;32m     12\u001b[0m conn\u001b[39m.\u001b[39mclose()\n",
      "\u001b[1;31mOperationalError\u001b[0m: no such table: Members"
     ]
    }
   ],
   "source": [
    "import sqlite3\n",
    "\n",
    "def fetch_member_data(member_id):\n",
    "    conn = sqlite3.connect(':memory:')\n",
    "    cursor = conn.cursor()\n",
    "\n",
    "    # Vulnerable query (not sanitized for illustration)\n",
    "    query = f\"SELECT * FROM Members WHERE member_id = {member_id}\"\n",
    "    cursor.execute(query)\n",
    "    member_data = cursor.fetchall()\n",
    "\n",
    "    conn.close()\n",
    "    return member_data\n",
    "\n",
    "# Example usage with SQL injection\n",
    "injected_member_id = \"1 OR 1=1\"\n",
    "results = fetch_member_data(injected_member_id)\n",
    "print(results)\n"
   ]
  },
  {
   "cell_type": "code",
   "execution_count": null,
   "metadata": {},
   "outputs": [],
   "source": [
    "import sqlite3\n",
    "\n",
    "def fetch_member_data_safe(member_id):\n",
    "    conn = sqlite3.connect(':memory:')\n",
    "    cursor = conn.cursor()\n",
    "\n",
    "    # Safe query using parameterized query\n",
    "    query = \"SELECT * FROM Members WHERE member_id = ?\"\n",
    "    cursor.execute(query, (member_id,))\n",
    "    member_data = cursor.fetchall()\n",
    "\n",
    "    conn.close()\n",
    "    return member_data\n",
    "\n",
    "# Example usage with safe query\n",
    "member_id = 1\n",
    "results = fetch_member_data_safe(member_id)\n",
    "print(results)\n"
   ]
  }
 ],
 "metadata": {
  "kernelspec": {
   "display_name": "Python 3",
   "language": "python",
   "name": "python3"
  },
  "language_info": {
   "codemirror_mode": {
    "name": "ipython",
    "version": 3
   },
   "file_extension": ".py",
   "mimetype": "text/x-python",
   "name": "python",
   "nbconvert_exporter": "python",
   "pygments_lexer": "ipython3",
   "version": "3.9.7"
  },
  "orig_nbformat": 4
 },
 "nbformat": 4,
 "nbformat_minor": 2
}
