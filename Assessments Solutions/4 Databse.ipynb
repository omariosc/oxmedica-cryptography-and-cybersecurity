{
 "cells": [
  {
   "cell_type": "code",
   "execution_count": 5,
   "metadata": {},
   "outputs": [
    {
     "name": "stdout",
     "output_type": "stream",
     "text": [
      "(None, 'Book1', 'NewStudent1')\n",
      "(None, 'Book1', 'NewStudent1')\n",
      "(None, 'Book1', 'Student1')\n",
      "(None, 'Book2', 'Student2')\n"
     ]
    }
   ],
   "source": [
    "import sqlite3\n",
    "\n",
    "# Connect to SQLite database file 'example.db'\n",
    "conn = sqlite3.connect('example.db')\n",
    "\n",
    "# Create a cursor object to execute SQL queries\n",
    "cursor = conn.cursor()\n",
    "\n",
    "# Create or ensure the existence of the 'Books' table\n",
    "cursor.execute('''\n",
    "CREATE TABLE IF NOT EXISTS Books (\n",
    "    id TEXT PRIMARY KEY,\n",
    "    name TEXT,\n",
    "    members TEXT\n",
    ")\n",
    "''')\n",
    "\n",
    "# Insert data into the 'Books' table\n",
    "cursor.execute('''\n",
    "INSERT INTO Books(name, members) VALUES (?, ?)\n",
    "''', ('Book1', 'Student1'))  # Assuming 'Student1' is a string representing a student's name\n",
    "\n",
    "cursor.execute('''\n",
    "INSERT INTO Books(name, members) VALUES (?, ?)\n",
    "''', ('Book2', 'Student2'))  # Assuming 'Student2' is a string representing another student's name\n",
    "\n",
    "# Select and print all rows from the 'Books' table\n",
    "cursor.execute('SELECT * FROM Books')\n",
    "rows = cursor.fetchall()\n",
    "for row in rows:\n",
    "    print(row)\n",
    "\n",
    "# Update data in the 'Books' table\n",
    "cursor.execute('''\n",
    "UPDATE Books SET members = ? WHERE name = ?\n",
    "''', ('NewStudent1', 'Book1'))  # Update 'members' for 'Book1' to 'NewStudent1'\n",
    "\n",
    "# Delete data from the 'Books' table\n",
    "cursor.execute('''\n",
    "DELETE FROM Books WHERE name = ?\n",
    "''', ('Book2',))  # Delete the row where 'name' is 'Book2'\n",
    "\n",
    "# Commit the transaction\n",
    "conn.commit()\n",
    "\n",
    "# Close the database connection\n",
    "conn.close()"
   ]
  },
  {
   "cell_type": "code",
   "execution_count": 4,
   "metadata": {},
   "outputs": [],
   "source": [
    "import sqlite3\n",
    "\n",
    "# Connect to SQLite database file 'example.db'\n",
    "conn = sqlite3.connect('example.db')\n",
    "\n",
    "# Create a cursor object to execute SQL queries\n",
    "cursor = conn.cursor()\n",
    "\n",
    "# Execute the SQL query\n",
    "cursor.execute(\"SELECT * FROM Books WHERE members = 'StudentNew' -- ' AND Book1 = 'Booknew';\")\n",
    "\n",
    "# Fetch all rows returned by the query\n",
    "rows = cursor.fetchall()\n",
    "\n",
    "# Print the results\n",
    "for row in rows:\n",
    "    print(row)\n",
    "\n",
    "# Close the cursor and connection\n",
    "cursor.close()\n",
    "conn.close()"
   ]
  },
  {
   "attachments": {},
   "cell_type": "markdown",
   "metadata": {},
   "source": [
    "Musaed\n",
    "Albaraa\n",
    "Wael\n",
    "Raid"
   ]
  }
 ],
 "metadata": {
  "kernelspec": {
   "display_name": "Python 3",
   "language": "python",
   "name": "python3"
  },
  "language_info": {
   "codemirror_mode": {
    "name": "ipython",
    "version": 3
   },
   "file_extension": ".py",
   "mimetype": "text/x-python",
   "name": "python",
   "nbconvert_exporter": "python",
   "pygments_lexer": "ipython3",
   "version": "3.9.7"
  },
  "orig_nbformat": 4
 },
 "nbformat": 4,
 "nbformat_minor": 2
}
