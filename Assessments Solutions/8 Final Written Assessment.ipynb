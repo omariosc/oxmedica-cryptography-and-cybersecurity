{
 "cells": [
  {
   "cell_type": "markdown",
   "metadata": {},
   "source": [
    "- ## SNOWFLAKE\n",
    "In recent weeks, Snowflake, a leading cloud-based data storage and analytics provider, has found itself at the center of a cybersecurity controversy. Reports of the Snowflake breach have emerged suggesting unauthorized access to its systems, which may have compromised sensitive data belonging to multiple high-profile clients, including Santander Bank and Ticketmaster. \n",
    "### The Impact\n",
    "\n",
    "A Significant amount of data stolen and more than 10,000 customers known to be potentially impacted."
   ]
  },
  {
   "cell_type": "code",
   "execution_count": 16,
   "metadata": {},
   "outputs": [
    {
     "name": "stdout",
     "output_type": "stream",
     "text": [
      "This is how many times the word apple have been said: 3\n"
     ]
    }
   ],
   "source": [
    "# Python\n",
    "Word = \"apple\"\n",
    "count = 0\n",
    "with open(\"testing_stuff.txt\", 'r') as cooking:\n",
    "    for line in cooking:\n",
    "        words = line.split()    \n",
    "        for i in words:\n",
    "            if(i == Word):\n",
    "                count=count+1\n",
    "print(\"This is how many times the word\", Word, \"have been said:\", count)"
   ]
  },
  {
   "cell_type": "code",
   "execution_count": null,
   "metadata": {
    "vscode": {
     "languageId": "sql"
    }
   },
   "outputs": [],
   "source": [
    "\n",
    "CREATE TABLE Customers (\n",
    "ID INT AUTO_INCREMENT PRIMARY KEY,\n",
    "Name varchar(45) NOT NULL,\n",
    "Age INT NOT NULL\n",
    "CONSTRAINT CHK_AGE CHECK (AGE>0)\n",
    ");\n",
    "CREATE TABLE Products (\n",
    "ID INT AUTO_INCREMENT PRIMARY KEY,\n",
    "Name varchar(45) NOT NULL,\n",
    "Price INT NOT NULL\n",
    ");\n",
    "CREATE TABLE Orders (\n",
    "ID INT AUTO_INCREMENT PRIMARY KEY,\n",
    "Name varchar(45) NOT NULL,\n",
    "Price INT NOT NULL\n",
    ");"
   ]
  },
  {
   "cell_type": "markdown",
   "metadata": {},
   "source": [
    "# RAM\n",
    "Ram is a temporary memory bank where you computer stores data it needs to retreive quickly. \n",
    "\n",
    "### Input\n",
    "RAM receives data that the CPU or other devices need to store temporarily.\n",
    "### Output\n",
    "When requested, RAM sends back the stored data to the CPU or other devices.\n",
    "\n",
    "## the interaction between CPU and storage device\n",
    "**CPU:**\n",
    "The CPU interacts with RAM through the memory controller, which manages the flow of data between the CPU and RAM. In modern systems, the memory controller is often integrated into the CPU.\n",
    "\n",
    "**STORAGE:**\n",
    "The data is transferred between storage devices (like SSDs or HDDs) and RAM as needed. This transfer is managed by the CPU and involves reading data from storage into RAM for processing or writing data from RAM back to storage."
   ]
  },
  {
   "cell_type": "markdown",
   "metadata": {},
   "source": [
    "VPN is basically a virtual private network encrypting your IP, and your comunication\n",
    "### How it works?\n",
    "When you connect to a VPN, your device creates a tunnel through which all your internet traffic passes. This tunnel encrypts the data, making it unreadable to anyone who might intercept it, including hackers and even your ISP (Internet service provider). \n",
    "\n",
    "### Pros & Cons\n",
    "**Pros**\n",
    "Enhanced Security: VPNs encrypt your data, protecting it from hackers and unauthorized access.\n",
    "\n",
    "Privacy: By masking your IP address and encrypting your traffic, VPNs help preserve your anonymity and privacy online.\n",
    "\n",
    "**Cons**\n",
    "Speed Reduction: Encrypting and decrypting data through a VPN can sometimes slow down internet speeds.\n",
    "\n",
    "Stealing data: some free VPNs collect data from you which they sometimes sell. which is why i do not recommend free vpns if you really care about your privacy."
   ]
  },
  {
   "cell_type": "markdown",
   "metadata": {},
   "source": [
    "# Public key cryptography\n",
    "\n",
    "Public key cryptography is a method of encryption where a pair of keys, known as a public key and a private key, is used to secure communication.\n",
    "\n",
    "here's an example:  When Mohammed wants to send an encrypted email to Ahmed:\n",
    "\n",
    "Encryption: Mohammed uses Ahmed's public key to encrypt the email before sending it.\n",
    "\n",
    "Decryption: When Ahmed receives the encrypted email, he uses his private key (which only he possesses) to decrypt and read the message."
   ]
  }
 ],
 "metadata": {
  "kernelspec": {
   "display_name": "Python 3",
   "language": "python",
   "name": "python3"
  },
  "language_info": {
   "codemirror_mode": {
    "name": "ipython",
    "version": 3
   },
   "file_extension": ".py",
   "mimetype": "text/x-python",
   "name": "python",
   "nbconvert_exporter": "python",
   "pygments_lexer": "ipython3",
   "version": "3.12.4"
  }
 },
 "nbformat": 4,
 "nbformat_minor": 2
}
