{
 "cells": [
  {
   "cell_type": "code",
   "execution_count": 3,
   "metadata": {},
   "outputs": [
    {
     "data": {
      "text/plain": [
       "<sqlite3.Cursor at 0x161ed7615e0>"
      ]
     },
     "execution_count": 3,
     "metadata": {},
     "output_type": "execute_result"
    }
   ],
   "source": [
    "import sqlite3\n",
    "\n",
    "conn = sqlite3.connect(':memory:')\n",
    "cursor = conn.cursor()\n",
    "\n",
    "cursor.execute('''CREATE TABLE Products (\n",
    "    product_id INT PRIMARY KEY,\n",
    "    product_name VARCHAR(100),\n",
    "    description VARCHAR(100),\n",
    "    price INT\n",
    ");\n",
    "''')\n",
    "\n",
    "cursor.execute('''CREATE TABLE Customers (\n",
    "    Customer_id INT PRIMARY KEY,\n",
    "    name VARCHAR(100),\n",
    "    email VARCHAR(100),\n",
    "    address VARCHAR(100)\n",
    ");\n",
    "''')\n",
    "\n",
    "cursor.execute('''CREATE TABLE Borrowing (\n",
    "    product_id INT PRIMARY KEY,\n",
    "    Customer_id INT,\n",
    "    order_date DATE,\n",
    "    total_amount INT,\n",
    "    FOREIGN KEY (Customer_id) REFERENCES Customers(Customer_id),\n",
    "    FOREIGN KEY (product_id) REFERENCES Products(product_id)\n",
    ");\n",
    "''')"
   ]
  }
 ],
 "metadata": {
  "kernelspec": {
   "display_name": "Python 3",
   "language": "python",
   "name": "python3"
  },
  "language_info": {
   "codemirror_mode": {
    "name": "ipython",
    "version": 3
   },
   "file_extension": ".py",
   "mimetype": "text/x-python",
   "name": "python",
   "nbconvert_exporter": "python",
   "pygments_lexer": "ipython3",
   "version": "3.9.7"
  },
  "orig_nbformat": 4
 },
 "nbformat": 4,
 "nbformat_minor": 2
}
