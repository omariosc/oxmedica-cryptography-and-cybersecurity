{
 "cells": [
  {
   "cell_type": "code",
   "execution_count": 1,
   "metadata": {},
   "outputs": [
    {
     "ename": "ModuleNotFoundError",
     "evalue": "No module named 'splite3'",
     "output_type": "error",
     "traceback": [
      "\u001b[1;31m---------------------------------------------------------------------------\u001b[0m",
      "\u001b[1;31mModuleNotFoundError\u001b[0m                       Traceback (most recent call last)",
      "Cell \u001b[1;32mIn[1], line 1\u001b[0m\n\u001b[1;32m----> 1\u001b[0m \u001b[38;5;28;01mimport\u001b[39;00m \u001b[38;5;21;01msplite3\u001b[39;00m\n",
      "\u001b[1;31mModuleNotFoundError\u001b[0m: No module named 'splite3'"
     ]
    }
   ],
   "source": [
    "# Connect to SQLite database\n",
    "     import sqlite3\n",
    "\n",
    "     conn = sqlite3.connect('example.db')\n",
    "     cursor = conn.cursor()\n",
    "\n",
    "     # Create a table\n",
    "     cursor.execute('''\n",
    "     CREATE TABLE IF NOT EXISTS Products (\n",
    "         id INTEGER PRIMARY KEY,\n",
    "         name TEXT,\n",
    "         price REAL\n",
    "     )\n",
    "     ''')\n",
    "\n",
    "     # Insert data into the table\n",
    "     cursor.execute('''\n",
    "     INSERT INTO Products (name, price) VALUES (?, ?)\n",
    "     ''', ('Product1', 10.99))\n",
    "\n",
    "     cursor.execute('''\n",
    "     INSERT INTO Products (name, price) VALUES (?, ?)\n",
    "     ''', ('Product2', 20.99))\n",
    "\n",
    "     # Select data from the table\n",
    "     cursor.execute('SELECT * FROM Products')\n",
    "     rows = cursor.fetchall()\n",
    "     for row in rows:\n",
    "         print(row)\n",
    "\n",
    "     # Update data in the table\n",
    "     cursor.execute('''\n",
    "     UPDATE Products SET price = ? WHERE name = ?\n",
    "     ''', (15.99, 'Product1'))\n",
    "\n",
    "     # Delete data from the table\n",
    "     cursor.execute('''\n",
    "     DELETE FROM Products WHERE name = ?\n",
    "     ''', ('Product2',))\n",
    "\n",
    "     conn.commit()\n",
    "     conn.close()\n"
   ]
  }
 ],
 "metadata": {
  "kernelspec": {
   "display_name": "Python 3",
   "language": "python",
   "name": "python3"
  },
  "language_info": {
   "codemirror_mode": {
    "name": "ipython",
    "version": 3
   },
   "file_extension": ".py",
   "mimetype": "text/x-python",
   "name": "python",
   "nbconvert_exporter": "python",
   "pygments_lexer": "ipython3",
   "version": "3.12.4"
  }
 },
 "nbformat": 4,
 "nbformat_minor": 2
}
