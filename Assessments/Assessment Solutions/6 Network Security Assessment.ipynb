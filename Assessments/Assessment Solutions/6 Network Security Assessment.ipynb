{
 "cells": [
  {
   "cell_type": "markdown",
   "metadata": {},
   "source": [
    "# 6 Network Security Concepts Assessment Brief\n",
    "\n",
    "## Overview\n",
    "\n",
    "Welcome to your sixth assessment! This exercise is designed to introduce you to network security concepts, including how the internet works, the importance of security, and how security is implemented. This is an open-book assessment worth 15% of your grade and should take about 30 minutes to complete.\n",
    "\n",
    "This is an open-book assessment, so feel free to refer to any resources you find helpful. It is worth 15% of your final grade.\n",
    "\n",
    "## Instructions\n",
    "\n",
    "### Part 1: How the Internet Works (10 minutes)\n",
    "\n",
    "Write a brief description (150-200 words) of how the internet works. Include key concepts such as IP addresses, DNS, and data packets.\n",
    "\n",
    "<!-- ### Example Answer\n",
    "\n",
    "The internet is a global network of interconnected computers that communicate through a standardized set of protocols. Each device on the internet is assigned a unique IP address that allows it to be identified and located by other devices. When you enter a website address into your browser, a DNS (Domain Name System) server translates the human-readable address into an IP address. Data is then broken into smaller packets and sent over various routes across the network to its destination, where it is reassembled into the original message. -->\n",
    "\n",
    "### Part 2: Importance of Network Security (10 minutes)\n",
    "\n",
    "Explain why network security is crucial. Discuss the potential risks and consequences of weak security, including examples of common threats like malware, phishing, and DDoS attacks.\n",
    "\n",
    "<!-- ### Example Explanation\n",
    "\n",
    "Network security is crucial to protect sensitive data from unauthorized access, theft, and damage. Weak security can lead to various risks, such as malware infections, phishing attacks, and Distributed Denial of Service (DDoS) attacks, which can disrupt services and cause significant financial and reputational damage. For instance, a malware attack can compromise personal information, leading to identity theft, while a DDoS attack can shut down an organization's online services, resulting in lost revenue and customer trust. -->\n",
    "\n",
    "### Part 3: Implementing Network Security (10 minutes)\n",
    "\n",
    "Describe how network security can be implemented. Include at least three methods such as firewalls, encryption, and secure protocols (e.g., HTTPS).\n",
    "\n",
    "<!-- ### Example Implementation\n",
    "\n",
    "Network security can be implemented through various methods:\n",
    "\n",
    "- **Firewalls:** Act as barriers between trusted and untrusted networks, monitoring and controlling incoming and outgoing network traffic based on predetermined security rules.\n",
    "- **Encryption:** Protects data by converting it into a code that can only be deciphered with a key, ensuring that sensitive information remains confidential during transmission.\n",
    "- **Secure Protocols:** Protocols like HTTPS ensure secure communication over the internet by encrypting data between the client and server, preventing interception and tampering. -->\n",
    "\n",
    "## Submission\n",
    "\n",
    "- Write your answers in a digital document.\n",
    "- Include your name at the top of the document.\n",
    "- Save the file with the name `\"6 Network Security Assessment.md\"` in the `\"Solutions\"` folder.\n",
    "\n",
    "Have fun, and take this opportunity to understand the essential concepts of network security!\n"
   ]
  },
  {
   "cell_type": "markdown",
   "metadata": {},
   "source": [
    "## Solution"
   ]
  },
  {
   "cell_type": "markdown",
   "metadata": {},
   "source": [
    "### Part 1: How the Internet Works (10 minutes)\n",
    "    The network is basically what connects all electronic devices together, it connects computers, mobile phones, and even alarm clocks. They are all cojoined by a series of protocols that allows them to contact each other. Internet Protocol also known as IP address is the specific internet address assigned to each device, this makes ways of contact much easier to other devices since each address is unique. The DNS is basically the phonebook of the internet, however instead of numbers it lists ip addresses for each device and it can also connect devices together. Data Packets on the other hand are the actual messages being sent ,but instead of one big message its split up into parts so that it is easier for the other end to accept it. The network also consists of servers that are physical places to store most stuff for ease of access. In the end, all things are connected together like the packets which are first sent to the dns which decides which ip they should head to which then makes them go through many servers to reach their final destination. This connection that is established is what makes the internet."
   ]
  },
  {
   "cell_type": "markdown",
   "metadata": {},
   "source": [
    "### Part 2: Importance of Network Security (10 minutes)\n",
    "    Since the network is considered out in the open many people will try to \"hack\" into these messages which makes them vulnerable, hence throughout the years people have been constantly trying to improve their security by encrypting it and protecting it from any malware. However this has also cause the \"Hackers\" to improve on their methods which mkes both sides aim for the upper hand. Many types of attacks are known, One of the most famous types is the DoS (Denil of Service)\n",
    "    it happens when many request are sent from one ip address. This can only happen if your mip address is known and people want to attck it. Another type of attack is malwares wich are basically viruses that infiltrate a device and causes it to not work properly which makes it even more vulnerable. In most cases people attack the device and try to break it however there are instances where they attack the actual person, one way to achive that is through phishing attacks which are aimed at people who dont have enough knowledge to know that they are being hacked."
   ]
  },
  {
   "cell_type": "markdown",
   "metadata": {},
   "source": [
    "### Part 3: Implementing Network Security (10 minutes)\n",
    "    Network security has become a necessity in todays world. Since hacking is so developed it makes security need to become even more stronger than ever before. There are many ways to achieve that and each is used for different types of attacks:\n",
    "        Firewalls: are used tomprotect the device frokm any intruders that are not welcomed or dont have the nessecary certificates.\n",
    "        Encryption: helps hide a message in plain sight so that if they were to find the encrypted message they wouldnt be able to easily decrypt it.\n",
    "        Secure protocols: Include securing the connection between networks to help protect it from people trying to intercept it or people trying to disuise as the message and infiltrate the device."
   ]
  }
 ],
 "metadata": {
  "language_info": {
   "name": "python"
  }
 },
 "nbformat": 4,
 "nbformat_minor": 2
}
