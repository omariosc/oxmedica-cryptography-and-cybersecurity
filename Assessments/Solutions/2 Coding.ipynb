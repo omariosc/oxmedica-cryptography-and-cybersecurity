{
 "cells": [
  {
   "cell_type": "code",
   "execution_count": 20,
   "metadata": {},
   "outputs": [
    {
     "name": "stdout",
     "output_type": "stream",
     "text": [
      "Welcome to FRP company! \n",
      "To know more about our CEO's, please choose one of them bellow: 1 - Abdullah Alshehri  2 - Sultan Albloi 3 - Ibrahim Al harbi\n",
      "age : 15 | Name :  Abdullah  Alshehri\n",
      "Age given, name given.\n"
     ]
    }
   ],
   "source": [
    "age = (\"15\")  # How old is the first character\n",
    "\n",
    "first_name = (\"Abdullah\")  # The first character first name\n",
    "\n",
    "last_name = (\"Alshehri\")  # The first character last name\n",
    "\n",
    "age2 = (\"15\")  # How old is the second character\n",
    "\n",
    "first_name2 = (\"Sultan\")  # The second haracter first name\n",
    "\n",
    "last_name2 = (\"Albloi\")  # The second character last name\n",
    "\n",
    "age3 = (\"15\")  # How old is the third character\n",
    "\n",
    "first_name3 = (\"Ibrahim\")  # The third character first name\n",
    "\n",
    "last_name3 = (\"Al harbi\")  # The thrid character last name                          \n",
    "\n",
    "                                                                              # !!!!!! Code will run better in python app, or google website!!!!!!!!!!!!!\n",
    "\n",
    "\n",
    "print (\"Welcome to FRP company! \")\n",
    "print (\"To know more about our CEO's, please choose one of them bellow: 1 - Abdullah Alshehri \", \"2 - Sultan Albloi\", \"3 - Ibrahim Al harbi\" )\n",
    "\n",
    "Num_chosen = int(input(\"1, 2, 3\") )\n",
    "\n",
    "\n",
    "if Num_chosen == 1:\n",
    "    print (\"age :\", age, \"| Name : \", first_name, '', last_name )\n",
    "\n",
    "if Num_chosen == 2:\n",
    "    print (\"age :\", age2, \"| Name : \", first_name2, '', last_name2)\n",
    "\n",
    "if Num_chosen == 3:\n",
    "    print (\"age :\", age3, \"| Name : \", first_name3, '', last_name3)\n",
    "\n",
    "if Num_chosen >= 4:\n",
    "    print (\"We don't have more than 3 CEO's, please choose one.\")\n",
    "\n",
    "if Num_chosen == True:\n",
    "    print (\"Age given, name given.\")\n",
    "\n",
    "\n"
   ]
  },
  {
   "attachments": {},
   "cell_type": "markdown",
   "metadata": {},
   "source": [
    "My code is used by new people for their jobs, to know more about their CEO's."
   ]
  },
  {
   "attachments": {},
   "cell_type": "markdown",
   "metadata": {},
   "source": [
    "I wanted to make it proffissional longer and better with more information. Like maybe adding their old working job, living area, and maybe sallery. I can make it, easily, but if I just had more time I could've done it.\n",
    "\n",
    "\n"
   ]
  }
 ],
 "metadata": {
  "kernelspec": {
   "display_name": "Python 3",
   "language": "python",
   "name": "python3"
  },
  "language_info": {
   "codemirror_mode": {
    "name": "ipython",
    "version": 3
   },
   "file_extension": ".py",
   "mimetype": "text/x-python",
   "name": "python",
   "nbconvert_exporter": "python",
   "pygments_lexer": "ipython3",
   "version": "3.9.7"
  },
  "orig_nbformat": 4
 },
 "nbformat": 4,
 "nbformat_minor": 2
}
