{
 "cells": [
  {
   "cell_type": "code",
   "execution_count": 5,
   "metadata": {},
   "outputs": [
    {
     "name": "stdout",
     "output_type": "stream",
     "text": [
      "The sum of squares from 1 to 80 is: 173880\n"
     ]
    }
   ],
   "source": [
    "def calculate_sum_of_squares(n):\n",
    "    sum_squares = 0\n",
    "\n",
    "    for i in range(1, n + 1):\n",
    "\n",
    "        sum_squares += i ** 2\n",
    "        \n",
    "    return sum_squares\n",
    "\n",
    "def main():\n",
    "    try:\n",
    "        num = int(input(\"Enter a positive integer: \"))\n",
    "        if num <= 0:\n",
    "            raise ValueError(\"Please enter a positive integer.\")\n",
    "        \n",
    "        result = calculate_sum_of_squares(num)\n",
    "        print(f\"The sum of squares from 1 to {num} is: {result}\")\n",
    "    \n",
    "    except ValueError as ve:\n",
    "        print(f\"Error: {ve}\")\n",
    "    \n",
    "    except Exception as e:\n",
    "        print(f\"An unexpected error occurred: {e}\")\n",
    "\n",
    "if __name__ == \"__main__\":\n",
    "    main()\n",
    "#The calculate_sum_of_squares function calculates the sum of squares of numbers from 1 to n.\n",
    "#The main function takes user input, calls calculate_sum_of_squares, and prints the result.\n",
    "#Error handling is included to manage cases where the user inputs a non-positive intege\n",
    "#The program uses a for loop to iterate through numbers from 1 to n and calculates the sum of their squares."
   ]
  },
  {
   "attachments": {},
   "cell_type": "markdown",
   "metadata": {},
   "source": [
    "1. It is alright.\n",
    "2. No problems with what i tested.\n",
    "3. No."
   ]
  }
 ],
 "metadata": {
  "kernelspec": {
   "display_name": "Python 3",
   "language": "python",
   "name": "python3"
  },
  "language_info": {
   "codemirror_mode": {
    "name": "ipython",
    "version": 3
   },
   "file_extension": ".py",
   "mimetype": "text/x-python",
   "name": "python",
   "nbconvert_exporter": "python",
   "pygments_lexer": "ipython3",
   "version": "3.9.7"
  },
  "orig_nbformat": 4
 },
 "nbformat": 4,
 "nbformat_minor": 2
}
