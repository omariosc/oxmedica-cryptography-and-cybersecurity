{
 "cells": [
  {
   "cell_type": "code",
   "execution_count": 19,
   "metadata": {},
   "outputs": [
    {
     "name": "stdout",
     "output_type": "stream",
     "text": [
      "Welcome, adc!\n",
      "Invalid input. Please enter '1' , '2' ,or '3'.\n",
      "Please enter what is wrong with your car: ...\n",
      "Please enter what is wrong with your car: ...\n",
      "Please enter what is wrong with your car: ...\n",
      "Please enter what is wrong with your car: ...\n",
      "Please enter what is wrong with your car: ...\n",
      "Please enter what is wrong with your car: ...\n",
      "Please enter what is wrong with your car: ...\n",
      "Please enter what is wrong with your car: ...\n",
      "Please enter what is wrong with your car: ...\n",
      "Invalid input. Please enter '1' , '2' ,or '3'.\n",
      "Invalid input. Please enter '1' , '2' ,or '3'.\n",
      "Invalid input. Please enter '1' , '2' ,or '3'.\n",
      "Invalid input. Please enter '1' , '2' ,or '3'.\n",
      "Invalid input. Please enter '1' , '2' ,or '3'.\n",
      "What car would you like to buy: ...\n"
     ]
    }
   ],
   "source": [
    "import sys\n",
    "#Nasser Alkhaldi\n",
    "#OpenAi's ChatGPT has been used to touch up and beutify the code. However the idea has been made by me Nasser Alkhaldi\n",
    "while True:\n",
    "    user_input_intro = input(\"Hello and welcome to Nasser's Car Company (NCC). If you would like to enter, please insert 'Y'. If not, insert 'N': \")\n",
    "    if user_input_intro == 'N':\n",
    "        print(\"Thank you for visiting NCC. Goodbye!\")\n",
    "        sys.exit()\n",
    "    elif user_input_intro == 'Y':\n",
    "        break  # Exit the loop if 'Y' is entered\n",
    "    else:\n",
    "        print(\"Invalid input. Please enter 'Y' or 'N'.\")\n",
    "\n",
    "#this beginning part is the introduction to the car company.\n",
    "\n",
    "username = input(\"Insert the username: \") #this shall be used at another point in the code probably at the checkout stage\n",
    "password = input(\"Insert the password: \")\n",
    "\n",
    "print(\"Welcome, \" + username + \"!\")\n",
    "\n",
    "while True:\n",
    "    user_input_service = input(\"What service would you like to use? This is the list:\\n1.Buy \\n2.Rent \\n3.Fix. \\nPlease insert the corresponding number for each service:\")\n",
    "    if user_input_service == '1':\n",
    "        print(\"What car would you like to buy: ...\")\n",
    "        break\n",
    "    elif user_input_service == '2':\n",
    "        print(\"Please select what car you want tu buy: ...\")\n",
    "        break\n",
    "    elif user_input_service == '3':\n",
    "        print(\"Please enter what is wrong with your car: ...\")\n",
    "        break\n",
    "    else:\n",
    "        print(\"Invalid input. Please enter '1' , '2' ,or '3'.\")\n",
    "        break\n",
    "#this is the end of the code for now and it would go on to make lists of customers and their services. It would also make a kind of encryption on code.\n",
    "\n",
    "\n"
   ]
  },
  {
   "cell_type": "markdown",
   "metadata": {},
   "source": [
    "This was a refreshing thing to do especially applying stuff that I had just learned.\n",
    "I was disappointed with myself for not remebering key things I had already learned before which forced me to use the help of AI.\n",
    "I learned that I should definitely try to keep on learneing and revising what I had already learned.\n",
    "I face problems with ending the itteration and when I should make it stop."
   ]
  }
 ],
 "metadata": {
  "kernelspec": {
   "display_name": "Python 3",
   "language": "python",
   "name": "python3"
  },
  "language_info": {
   "codemirror_mode": {
    "name": "ipython",
    "version": 3
   },
   "file_extension": ".py",
   "mimetype": "text/x-python",
   "name": "python",
   "nbconvert_exporter": "python",
   "pygments_lexer": "ipython3",
   "version": "3.12.4"
  }
 },
 "nbformat": 4,
 "nbformat_minor": 2
}
