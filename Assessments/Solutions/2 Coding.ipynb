{
 "cells": [
  {
   "cell_type": "code",
   "execution_count": 1,
   "metadata": {},
   "outputs": [
    {
     "name": "stdout",
     "output_type": "stream",
     "text": [
      "welcome to oxmedica\n",
      "hello, albaraa is cool!\n",
      "the current SAR to dollor:\n",
      "7\n",
      "we my be cooked\n"
     ]
    }
   ],
   "source": [
    "print(\"welcome to oxmedica\")\n",
    "\n",
    "first_name = input(\"whats your first name?\")\n",
    "Second_name = input(\"whats your second name?\")\n",
    "\n",
    "print(\"hello, \" + first_name  + Second_name + \"!\" )\n",
    "\n",
    "#first_name is a new variable we made that we can now call whenever, same with Second_name, input refers to them answering the question you asked then the 6th line is just me adding both the first name and the second name to formulate a sentance\n",
    "\n",
    "if first_name == \"Albaraa\":\n",
    "    print(\"hello cool man 1\")\n",
    "\n",
    "# this is called an if statment, what its doing is, if your name is Albaraa, then say \"hello cool maan 1\" of its anyother name then dont print it at all.\n",
    "\n",
    "print(\"the current SAR to dollor:\")\n",
    "\n",
    "current_number = 7\n",
    "if current_number <= 5:\n",
    "    print(current_number)\n",
    "    print(\"its steady at the moment\")\n",
    "\n",
    "if current_number > 5:\n",
    "    print(current_number)\n",
    "    print (\"we my be cooked\")\n",
    "\n"
   ]
  },
  {
   "attachments": {},
   "cell_type": "markdown",
   "metadata": {},
   "source": [
    "1) it went good \n",
    "2) maybe too fast or not enouph time\n",
    "3)nope"
   ]
  }
 ],
 "metadata": {
  "kernelspec": {
   "display_name": "Python 3",
   "language": "python",
   "name": "python3"
  },
  "language_info": {
   "codemirror_mode": {
    "name": "ipython",
    "version": 3
   },
   "file_extension": ".py",
   "mimetype": "text/x-python",
   "name": "python",
   "nbconvert_exporter": "python",
   "pygments_lexer": "ipython3",
   "version": "3.9.7"
  },
  "orig_nbformat": 4
 },
 "nbformat": 4,
 "nbformat_minor": 2
}
