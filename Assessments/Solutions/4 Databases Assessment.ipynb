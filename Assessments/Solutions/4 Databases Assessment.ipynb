{
 "cells": [
  {
   "cell_type": "markdown",
   "metadata": {},
   "source": [
    "> Team Members:\n",
    "> - NSR ALSDS\n",
    "> - Abdullah AlAbbad\n",
    "> - Faisal AlJohany"
   ]
  },
  {
   "cell_type": "code",
   "execution_count": null,
   "metadata": {},
   "outputs": [],
   "source": [
    "import sqlite3\n",
    "\n",
    "# Connect to SQLite database (creates if not exists)\n",
    "conn = sqlite3.connect('library.db')\n",
    "cursor = conn.cursor()\n",
    "\n",
    "# Create Books table\n",
    "cursor.execute('''\n",
    "    CREATE TABLE IF NOT EXISTS Books (\n",
    "        book_id INTEGER PRIMARY KEY AUTOINCREMENT,\n",
    "        title TEXT NOT NULL,\n",
    "        author TEXT NOT NULL,\n",
    "        year INTEGER NOT NULL\n",
    "    )\n",
    "''')\n",
    "\n",
    "# Create Members table\n",
    "cursor.execute('''\n",
    "    CREATE TABLE IF NOT EXISTS Members (\n",
    "        member_id INTEGER PRIMARY KEY AUTOINCREMENT,\n",
    "        name TEXT NOT NULL,\n",
    "        email TEXT NOT NULL,\n",
    "        phone TEXT\n",
    "    )\n",
    "''')\n",
    "\n",
    "# Create Borrowing table\n",
    "cursor.execute('''\n",
    "    CREATE TABLE IF NOT EXISTS Borrowing (\n",
    "        borrowing_id INTEGER PRIMARY KEY AUTOINCREMENT,\n",
    "        book_id INTEGER NOT NULL,\n",
    "        member_id INTEGER NOT NULL,\n",
    "        borrow_date DATE NOT NULL,\n",
    "        return_date DATE,\n",
    "        FOREIGN KEY (book_id) REFERENCES Books(book_id),\n",
    "        FOREIGN KEY (member_id) REFERENCES Members(member_id)\n",
    "    )\n",
    "''')\n",
    "\n",
    "# Commit changes and close connection\n",
    "conn.commit()\n",
    "conn.close()\n"
   ]
  },
  {
   "cell_type": "markdown",
   "metadata": {},
   "source": [
    "### Now we need to insert some sample data to demonstrate functionality"
   ]
  },
  {
   "cell_type": "code",
   "execution_count": null,
   "metadata": {},
   "outputs": [],
   "source": [
    "# Reconnect to the database (if not already connected)\n",
    "conn = sqlite3.connect('library.db')\n",
    "cursor = conn.cursor()\n",
    "\n",
    "# Insert a new book\n",
    "cursor.execute('''\n",
    "    INSERT INTO Books (title, author, year)\n",
    "    VALUES (?, ?, ?)\n",
    "''', ('SQL Injection Explained', 'Security Expert', 2023))\n",
    "\n",
    "# Insert a new member\n",
    "cursor.execute('''\n",
    "    INSERT INTO Members (name, email, phone)\n",
    "    VALUES (?, ?, ?)\n",
    "''', ('John Doe', 'john.doe@example.com', '123-456-7890'))\n",
    "\n",
    "# Insert a new borrowing\n",
    "cursor.execute('''\n",
    "    INSERT INTO Borrowing (book_id, member_id, borrow_date, return_date)\n",
    "    VALUES (?, ?, ?, ?)\n",
    "''', (1, 1, '2024-07-01', None))\n",
    "\n",
    "# Commit changes and close connection\n",
    "conn.commit()\n",
    "conn.close()"
   ]
  },
  {
   "cell_type": "markdown",
   "metadata": {},
   "source": [
    "### Now, for the SQL Injection, we do this:"
   ]
  },
  {
   "cell_type": "code",
   "execution_count": null,
   "metadata": {},
   "outputs": [],
   "source": [
    "# Simulating an SQL injection (DO NOT DO THIS IN PRODUCTION)\n",
    "\n",
    "conn = sqlite3.connect('library.db')\n",
    "cursor = conn.cursor()\n",
    "\n",
    "# Execute the malicious query\n",
    "cursor.execute(f\"SELECT * FROM Members WHERE name = '{unsafe_input}'\")\n",
    "\n",
    "# Fetch all results\n",
    "results = cursor.fetchall()\n",
    "print(results)\n",
    "\n",
    "conn.close()\n"
   ]
  },
  {
   "cell_type": "markdown",
   "metadata": {},
   "source": [
    "> For the above, unsafe_input could be something like `\"'; SELECT * FROM Members; --\"`\n",
    "\n",
    "\n",
    "This would simulate an SQL Injection."
   ]
  }
 ],
 "metadata": {
  "kernelspec": {
   "display_name": "Python 3",
   "language": "python",
   "name": "python3"
  },
  "language_info": {
   "codemirror_mode": {
    "name": "ipython",
    "version": 3
   },
   "file_extension": ".py",
   "mimetype": "text/x-python",
   "name": "python",
   "nbconvert_exporter": "python",
   "pygments_lexer": "ipython3",
   "version": "3.12.1"
  },
  "orig_nbformat": 4
 },
 "nbformat": 4,
 "nbformat_minor": 2
}
