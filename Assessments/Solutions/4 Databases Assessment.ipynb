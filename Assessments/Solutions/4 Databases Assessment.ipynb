{
 "cells": [
  {
   "cell_type": "code",
   "execution_count": 10,
   "metadata": {},
   "outputs": [
    {
     "name": "stdout",
     "output_type": "stream",
     "text": [
      "Tables created successfully.\n"
     ]
    },
    {
     "ename": "OperationalError",
     "evalue": "no such table: Books",
     "output_type": "error",
     "traceback": [
      "\u001b[1;31m---------------------------------------------------------------------------\u001b[0m",
      "\u001b[1;31mOperationalError\u001b[0m                          Traceback (most recent call last)",
      "Cell \u001b[1;32mIn[10], line 103\u001b[0m\n\u001b[0;32m    100\u001b[0m     perform_sql_injection_attack()\n\u001b[0;32m    102\u001b[0m \u001b[39mif\u001b[39;00m \u001b[39m__name__\u001b[39m \u001b[39m==\u001b[39m \u001b[39m\"\u001b[39m\u001b[39m__main__\u001b[39m\u001b[39m\"\u001b[39m:\n\u001b[1;32m--> 103\u001b[0m     main()\n",
      "Cell \u001b[1;32mIn[10], line 97\u001b[0m, in \u001b[0;36mmain\u001b[1;34m()\u001b[0m\n\u001b[0;32m     95\u001b[0m \u001b[39mdef\u001b[39;00m \u001b[39mmain\u001b[39m():\n\u001b[0;32m     96\u001b[0m     create_tables()\n\u001b[1;32m---> 97\u001b[0m     insert_sample_data()\n\u001b[0;32m     99\u001b[0m     \u001b[39mprint\u001b[39m(\u001b[39m\"\u001b[39m\u001b[39m\\n\u001b[39;00m\u001b[39mPerforming SQL Injection Attack:\u001b[39m\u001b[39m\"\u001b[39m)\n\u001b[0;32m    100\u001b[0m     perform_sql_injection_attack()\n",
      "Cell \u001b[1;32mIn[10], line 52\u001b[0m, in \u001b[0;36minsert_sample_data\u001b[1;34m()\u001b[0m\n\u001b[0;32m     49\u001b[0m cursor \u001b[39m=\u001b[39m conn\u001b[39m.\u001b[39mcursor()\n\u001b[0;32m     51\u001b[0m \u001b[39m# Insert a new book\u001b[39;00m\n\u001b[1;32m---> 52\u001b[0m cursor\u001b[39m.\u001b[39;49mexecute(\u001b[39m'''\u001b[39;49m\n\u001b[0;32m     53\u001b[0m \u001b[39m    INSERT INTO Books (title, author, genre)\u001b[39;49m\n\u001b[0;32m     54\u001b[0m \u001b[39m    VALUES (\u001b[39;49m\u001b[39m'\u001b[39;49m\u001b[39mPython Programming\u001b[39;49m\u001b[39m'\u001b[39;49m\u001b[39m, \u001b[39;49m\u001b[39m'\u001b[39;49m\u001b[39mJohn Doe\u001b[39;49m\u001b[39m'\u001b[39;49m\u001b[39m, \u001b[39;49m\u001b[39m'\u001b[39;49m\u001b[39mProgramming\u001b[39;49m\u001b[39m'\u001b[39;49m\u001b[39m)\u001b[39;49m\n\u001b[0;32m     55\u001b[0m \u001b[39m\u001b[39;49m\u001b[39m'''\u001b[39;49m)\n\u001b[0;32m     57\u001b[0m \u001b[39m# Insert a new member\u001b[39;00m\n\u001b[0;32m     58\u001b[0m cursor\u001b[39m.\u001b[39mexecute(\u001b[39m'''\u001b[39m\n\u001b[0;32m     59\u001b[0m \u001b[39m    INSERT INTO Members (name, email, phone)\u001b[39m\n\u001b[0;32m     60\u001b[0m \u001b[39m    VALUES (\u001b[39m\u001b[39m'\u001b[39m\u001b[39mAlice Smith\u001b[39m\u001b[39m'\u001b[39m\u001b[39m, \u001b[39m\u001b[39m'\u001b[39m\u001b[39malice@example.com\u001b[39m\u001b[39m'\u001b[39m\u001b[39m, \u001b[39m\u001b[39m'\u001b[39m\u001b[39m123-456-7890\u001b[39m\u001b[39m'\u001b[39m\u001b[39m)\u001b[39m\n\u001b[0;32m     61\u001b[0m \u001b[39m\u001b[39m\u001b[39m'''\u001b[39m)\n",
      "\u001b[1;31mOperationalError\u001b[0m: no such table: Books"
     ]
    }
   ],
   "source": [
    "import sqlite3\n",
    "\n",
    "# Function to create tables\n",
    "def create_tables():\n",
    "    conn = sqlite3.connect(':memory:')\n",
    "    cursor = conn.cursor()\n",
    "\n",
    "    # Create Books table\n",
    "    cursor.execute('''\n",
    "        CREATE TABLE Books (\n",
    "            book_id INTEGER PRIMARY KEY,\n",
    "            title TEXT,\n",
    "            author TEXT,\n",
    "            genre TEXT\n",
    "        )\n",
    "    ''')\n",
    "\n",
    "    # Create Members table\n",
    "    cursor.execute('''\n",
    "        CREATE TABLE Members (\n",
    "            member_id INTEGER PRIMARY KEY,\n",
    "            name TEXT,\n",
    "            email TEXT,\n",
    "            phone TEXT\n",
    "        )\n",
    "    ''')\n",
    "\n",
    "    # Create Borrowing table\n",
    "    cursor.execute('''\n",
    "        CREATE TABLE Borrowing (\n",
    "            borrowing_id INTEGER PRIMARY KEY,\n",
    "            book_id INTEGER,\n",
    "            member_id INTEGER,\n",
    "            borrow_date DATE,\n",
    "            return_date DATE,\n",
    "            FOREIGN KEY (book_id) REFERENCES Books (book_id),\n",
    "            FOREIGN KEY (member_id) REFERENCES Members (member_id)\n",
    "        )\n",
    "    ''')\n",
    "\n",
    "    conn.commit()\n",
    "    conn.close()\n",
    "\n",
    "    print(\"Tables created successfully.\")\n",
    "\n",
    "# Function to insert sample data\n",
    "def insert_sample_data():\n",
    "    conn = sqlite3.connect(':memory:')\n",
    "    cursor = conn.cursor()\n",
    "\n",
    "    # Insert a new book\n",
    "    cursor.execute('''\n",
    "        INSERT INTO Books (title, author, genre)\n",
    "        VALUES ('Python Programming', 'John Doe', 'Programming')\n",
    "    ''')\n",
    "\n",
    "    # Insert a new member\n",
    "    cursor.execute('''\n",
    "        INSERT INTO Members (name, email, phone)\n",
    "        VALUES ('Alice Smith', 'alice@example.com', '123-456-7890')\n",
    "    ''')\n",
    "\n",
    "    # Insert a new borrowing\n",
    "    cursor.execute('''\n",
    "        INSERT INTO Borrowing (book_id, member_id, borrow_date, return_date)\n",
    "        VALUES (1, 1, '2024-07-02', NULL)\n",
    "    ''')\n",
    "\n",
    "    conn.commit()\n",
    "    conn.close()\n",
    "\n",
    "    print(\"Data inserted successfully.\")\n",
    "\n",
    "# Function to perform SQL injection attack\n",
    "def perform_sql_injection_attack():\n",
    "    conn = sqlite3.connect(':memory:')\n",
    "    cursor = conn.cursor()\n",
    "\n",
    "    # Simulate user input (this could potentially be an attacker's input)\n",
    "    username = \"fakeuser' OR '1'='1' --\"\n",
    "\n",
    "    # Vulnerable SQL query (without any security measures)\n",
    "    sql = f\"SELECT * FROM Members WHERE name = '{username}'\"\n",
    "\n",
    "    cursor.execute(sql)\n",
    "    results = cursor.fetchall()\n",
    "\n",
    "    print(\"SQL Injection Results:\")\n",
    "    for row in results:\n",
    "        print(row)\n",
    "\n",
    "    conn.close()\n",
    "\n",
    "# Main function to demonstrate all steps\n",
    "def main():\n",
    "    create_tables()\n",
    "    insert_sample_data()\n",
    "    \n",
    "    print(\"\\nPerforming SQL Injection Attack:\")\n",
    "    perform_sql_injection_attack()\n",
    "\n",
    "if __name__ == \"__main__\":\n",
    "    main()\n",
    "\n"
   ]
  },
  {
   "cell_type": "code",
   "execution_count": 9,
   "metadata": {},
   "outputs": [
    {
     "ename": "OperationalError",
     "evalue": "no such table: Members",
     "output_type": "error",
     "traceback": [
      "\u001b[1;31m---------------------------------------------------------------------------\u001b[0m",
      "\u001b[1;31mOperationalError\u001b[0m                          Traceback (most recent call last)",
      "Cell \u001b[1;32mIn[9], line 14\u001b[0m\n\u001b[0;32m     11\u001b[0m sql \u001b[39m=\u001b[39m \u001b[39mf\u001b[39m\u001b[39m\"\u001b[39m\u001b[39mSELECT * FROM Members WHERE name = \u001b[39m\u001b[39m'\u001b[39m\u001b[39m{\u001b[39;00musername\u001b[39m}\u001b[39;00m\u001b[39m'\u001b[39m\u001b[39m\"\u001b[39m\n\u001b[0;32m     13\u001b[0m \u001b[39m# Execute the SQL query\u001b[39;00m\n\u001b[1;32m---> 14\u001b[0m cursor\u001b[39m.\u001b[39;49mexecute(sql)\n\u001b[0;32m     16\u001b[0m \u001b[39m# Fetch all results\u001b[39;00m\n\u001b[0;32m     17\u001b[0m results \u001b[39m=\u001b[39m cursor\u001b[39m.\u001b[39mfetchall()\n",
      "\u001b[1;31mOperationalError\u001b[0m: no such table: Members"
     ]
    }
   ],
   "source": [
    "\n",
    "\n"
   ]
  }
 ],
 "metadata": {
  "kernelspec": {
   "display_name": "Python 3",
   "language": "python",
   "name": "python3"
  },
  "language_info": {
   "codemirror_mode": {
    "name": "ipython",
    "version": 3
   },
   "file_extension": ".py",
   "mimetype": "text/x-python",
   "name": "python",
   "nbconvert_exporter": "python",
   "pygments_lexer": "ipython3",
   "version": "3.9.7"
  },
  "orig_nbformat": 4
 },
 "nbformat": 4,
 "nbformat_minor": 2
}
