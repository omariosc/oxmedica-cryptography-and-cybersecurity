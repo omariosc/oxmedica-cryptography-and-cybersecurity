{
 "cells": [
  {
   "cell_type": "code",
   "execution_count": 22,
   "metadata": {},
   "outputs": [
    {
     "name": "stdout",
     "output_type": "stream",
     "text": [
      "Added book: The Great Cats\n",
      "Added member: Omar Done by : Abdullah Al-shehri,  Fares Al-Nemer,   Abdulaziz Al-Mudrfah\n",
      "Book borrowed by member 1\n"
     ]
    }
   ],
   "source": [
    "import sqlite3\n",
    "\n",
    "                                                       # Create a connection to the SQLite database\n",
    "conn = sqlite3.connect('library.db')\n",
    "c = conn.cursor()\n",
    "\n",
    "                                                   # Create the tables\n",
    "c.execute('''CREATE TABLE IF NOT EXISTS Books\n",
    "             (BookID INTEGER PRIMARY KEY, Title TEXT, Author TEXT, PublicationYear INTEGER)''')\n",
    "\n",
    "c.execute('''CREATE TABLE IF NOT EXISTS Members\n",
    "             (MemberID INTEGER PRIMARY KEY, Name TEXT, MembershipDate DATE)''')\n",
    "\n",
    "c.execute('''CREATE TABLE IF NOT EXISTS Borrowing\n",
    "             (BorrowingID INTEGER PRIMARY KEY, BookID INTEGER, MemberID INTEGER, BorrowDate DATE, ReturnDate DATE,\n",
    "              FOREIGN KEY (BookID) REFERENCES Books(BookID),\n",
    "              FOREIGN KEY (MemberID) REFERENCES Members(MemberID))''')\n",
    "\n",
    "conn.commit()\n",
    "\n",
    "                                                             # Function to add a new book\n",
    "def add_book(title, author, publication_year):\n",
    "    c.execute(\"INSERT INTO Books (Title, Author, PublicationYear) VALUES (?, ?, ?)\", (title, author, publication_year))\n",
    "    conn.commit()\n",
    "    print(f\"Added book: {title}\")\n",
    "\n",
    "                                                #  Function to add a new member\n",
    "def add_member(name, membership_date):\n",
    "    c.execute(\"INSERT INTO Members (Name, MembershipDate) VALUES (?, ?)\", (name, membership_date))\n",
    "    conn.commit()\n",
    "    print(f\"Added member: {name}\")\n",
    "\n",
    "\n",
    "def borrow_book(member_id, book_id, borrow_date):                   # Function to borrow a book\n",
    "    c.execute(\"INSERT INTO Borrowing (BookID, MemberID, BorrowDate) VALUES (?, ?, ?)\", (book_id, member_id, borrow_date))\n",
    "    conn.commit()\n",
    "    print(f\"Book borrowed by member {member_id}\")\n",
    "\n",
    "\n",
    "add_book(\"The Great Cats\", \"Abdullah Alshehri\", 1999)                # Example usage\n",
    "add_member(\"Omar Done by : Abdullah Al-shehri,  Fares Al-Nemer,   Abdulaziz Al-Mudrfah\", date(2022, 1, 1))\n",
    "borrow_book(1, 1, date(2023, 6, 1))\n",
    "\n",
    "\n",
    "\n",
    "conn.close()           # Close the database connection\n",
    " \n"
   ]
  }
 ],
 "metadata": {
  "kernelspec": {
   "display_name": "Python 3",
   "language": "python",
   "name": "python3"
  },
  "language_info": {
   "name": "python",
   "version": "3.9.7"
  },
  "orig_nbformat": 4
 },
 "nbformat": 4,
 "nbformat_minor": 2
}
