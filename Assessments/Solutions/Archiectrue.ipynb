{
 "cells": [
  {
   "cell_type": "markdown",
   "metadata": {},
   "source": [
    "Part 1: Computer Component\n",
    "Component: Random Access Memory (RAM)\n",
    "Role: RAM is a type of volatile memory used to store data and machine code currently being used by the computer. It allows for quick read and write access to a storage medium that is much faster than other types of storage like HDDs or SSDs. RAM is crucial for the performance of a computer because it holds the data that the CPU needs to access quickly.\n",
    "\n",
    "Inputs:\n",
    "\n",
    "Address: The location within the RAM where data will be read from or written to.\n",
    "Data In: The data to be written to a specified address in the RAM.\n",
    "Control Signals: These signals include Read/Write commands and chip enable signals that dictate the operation to be performed.\n",
    "Outputs:\n",
    "\n",
    "Data Out: The data read from a specified address in the RAM.\n",
    "Interfaces:\n",
    "\n",
    "CPU: Communicates with the RAM to fetch and store data required for processing.\n",
    "Motherboard: Provides the physical and electrical interface for RAM modules, typically through DIMM (Dual Inline Memory Module) slots.\n",
    "Memory Controller: Manages the flow of data to and from the RAM, coordinating with the CPU and other components.\n",
    "Storage Devices (HDD/SSD): Data is often transferred between RAM and storage devices as part of the computer's operation.\n",
    "Part 2: Logic Gates and Truth Table\n",
    "Logic Gate Circuit: NOT(AND(A, B))\n",
    "Description: The circuit takes two inputs, A and B. The AND gate outputs true only if both A and B are true. The NOT gate then inverts this output.\n",
    "Truth Table:\n",
    "\n",
    "A\tB\tAND(A, B)\tNOT(AND(A, B))\n",
    "0\t0\t0\t1\n",
    "0\t1\t0\t1\n",
    "1\t0\t0\t1\n",
    "1\t1\t1\t0\n",
    "\n",
    "This circuit implements a NAND gate, which is a combination of an AND gate followed by a NOT gate. The output is true (1) except when both inputs are true, in which case the output is false (0)."
   ]
  }
 ],
 "metadata": {
  "language_info": {
   "name": "python"
  }
 },
 "nbformat": 4,
 "nbformat_minor": 2
}
