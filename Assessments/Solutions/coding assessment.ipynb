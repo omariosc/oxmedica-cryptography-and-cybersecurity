{
 "cells": [
  {
   "cell_type": "code",
   "execution_count": 1,
   "metadata": {},
   "outputs": [
    {
     "name": "stdout",
     "output_type": "stream",
     "text": [
      "mohammed Makhtoum\n"
     ]
    }
   ],
   "source": [
    "first_name = \"mohammed\"\n",
    "last_name = \"Makhtoum\"\n",
    "full_name = first_name +' '+last_name\n",
    "print(full_name)\n",
    "\n",
    "age = 17\n",
    "if age <= 15 \n",
    "print (\"You ended \")"
   ]
  },
  {
   "attachments": {},
   "cell_type": "markdown",
   "metadata": {},
   "source": [
    "it got bad after I got too deap into thwe reseach that I got lost in what to do\n",
    "it seams I did not pay itension and some information sliped throu without knowing it"
   ]
  }
 ],
 "metadata": {
  "kernelspec": {
   "display_name": "Python 3",
   "language": "python",
   "name": "python3"
  },
  "language_info": {
   "codemirror_mode": {
    "name": "ipython",
    "version": 3
   },
   "file_extension": ".py",
   "mimetype": "text/x-python",
   "name": "python",
   "nbconvert_exporter": "python",
   "pygments_lexer": "ipython3",
   "version": "3.9.7"
  },
  "orig_nbformat": 4
 },
 "nbformat": 4,
 "nbformat_minor": 2
}
