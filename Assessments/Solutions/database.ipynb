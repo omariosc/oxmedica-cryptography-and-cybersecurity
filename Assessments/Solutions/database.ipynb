{
 "cells": [
  {
   "cell_type": "code",
   "execution_count": 14,
   "metadata": {},
   "outputs": [],
   "source": [
    "import sqlite3\n",
    "\n",
    "# Connect to SQLite database\n",
    "conn = sqlite3.connect('library.db')\n",
    "cursor = conn.cursor()\n",
    "\n",
    "# Create Books table\n",
    "cursor.execute('''\n",
    "    CREATE TABLE IF NOT EXISTS Books (\n",
    "        book_id INTEGER PRIMARY KEY,\n",
    "        title TEXT,\n",
    "        author TEXT\n",
    "    )\n",
    "''')\n",
    "\n",
    "# Create Members table\n",
    "cursor.execute('''\n",
    "    CREATE TABLE IF NOT EXISTS Members (\n",
    "        member_id INTEGER PRIMARY KEY,\n",
    "        name TEXT,\n",
    "        email TEXT\n",
    "    )\n",
    "''')\n",
    "\n",
    "# Create Borrowing table\n",
    "cursor.execute('''\n",
    "    CREATE TABLE IF NOT EXISTS Borrowing (\n",
    "        borrowing_id INTEGER PRIMARY KEY,\n",
    "        book_id INTEGER,\n",
    "        member_id INTEGER,\n",
    "        borrow_date TEXT,\n",
    "        return_date TEXT,\n",
    "        FOREIGN KEY (book_id) REFERENCES Books(book_id),\n",
    "        FOREIGN KEY (member_id) REFERENCES Members(member_id)\n",
    "    )\n",
    "''')\n",
    "\n",
    "# Commit changes and close the connection\n",
    "conn.commit()\n",
    "conn.close()\n"
   ]
  },
  {
   "cell_type": "code",
   "execution_count": 15,
   "metadata": {},
   "outputs": [],
   "source": [
    "# Reconnect to the SQLite database\n",
    "conn = sqlite3.connect('library.db')\n",
    "cursor = conn.cursor()\n",
    "\n",
    "# Insert a new book\n",
    "cursor.execute('''\n",
    "    INSERT INTO Books (title, author) VALUES (?, ?)\n",
    "''', ('The Great Gatsby', 'F. Scott Fitzgerald'))\n",
    "\n",
    "# Insert a new member\n",
    "cursor.execute('''\n",
    "    INSERT INTO Members (name, email) VALUES (?, ?)\n",
    "''', ('John Doe', 'john.doe@example.com'))\n",
    "\n",
    "# Insert a new borrowing\n",
    "cursor.execute('''\n",
    "    INSERT INTO Borrowing (book_id, member_id, borrow_date, return_date) VALUES (?, ?, ?, ?)\n",
    "''', (1, 1, '2024-07-01', '2024-07-15'))\n",
    "\n",
    "# Commit changes and close the connection\n",
    "conn.commit()\n",
    "conn.close()\n"
   ]
  },
  {
   "cell_type": "code",
   "execution_count": 16,
   "metadata": {},
   "outputs": [
    {
     "name": "stdout",
     "output_type": "stream",
     "text": [
      "Injected SQL Query Results:\n",
      "(1, 'John Doe', 'john.doe@example.com')\n",
      "(2, 'John Doe', 'john.doe@example.com')\n",
      "(3, 'John Doe', 'john.doe@example.com')\n",
      "(4, 'John Doe', 'john.doe@example.com')\n",
      "(5, 'John Doe', 'john.doe@example.com')\n"
     ]
    }
   ],
   "source": [
    "# Function to demonstrate SQL injection vulnerability\n",
    "def sql_injection_vulnerable(member_name):\n",
    "    # Reconnect to the SQLite database\n",
    "    conn = sqlite3.connect('library.db')\n",
    "    cursor = conn.cursor()\n",
    "    \n",
    "    # Unsafe query construction (vulnerable to SQL injection)\n",
    "    query = f\"SELECT * FROM Members WHERE name = '{member_name}'\"\n",
    "    cursor.execute(query)\n",
    "    \n",
    "    # Fetch all results\n",
    "    rows = cursor.fetchall()\n",
    "    \n",
    "    # Close the connection\n",
    "    conn.close()\n",
    "    \n",
    "    return rows\n",
    "\n",
    "# Perform SQL injection\n",
    "# Suppose we want to inject: ' OR '1'='1\n",
    "injected_name = \"' OR '1'='1\"\n",
    "members = sql_injection_vulnerable(injected_name)\n",
    "print(\"Injected SQL Query Results:\")\n",
    "for member in members:\n",
    "    print(member)\n"
   ]
  },
  {
   "cell_type": "code",
   "execution_count": 17,
   "metadata": {},
   "outputs": [
    {
     "name": "stdout",
     "output_type": "stream",
     "text": [
      "Safe SQL Query Results:\n"
     ]
    }
   ],
   "source": [
    "# Function to prevent SQL injection using parameterized queries\n",
    "def sql_injection_prevented(member_name):\n",
    "    # Reconnect to the SQLite database\n",
    "    conn = sqlite3.connect('library.db')\n",
    "    cursor = conn.cursor()\n",
    "    \n",
    "    # Safe query construction using parameterized queries\n",
    "    query = \"SELECT * FROM Members WHERE name = ?\"\n",
    "    cursor.execute(query, (member_name,))\n",
    "    \n",
    "    # Fetch all results\n",
    "    rows = cursor.fetchall()\n",
    "    \n",
    "    # Close the connection\n",
    "    conn.close()\n",
    "    \n",
    "    return rows\n",
    "\n",
    "# Attempting SQL injection with parameterized query\n",
    "members_safe = sql_injection_prevented(injected_name)\n",
    "print(\"Safe SQL Query Results:\")\n",
    "for member in members_safe:\n",
    "    print(member)\n"
   ]
  },
  {
   "cell_type": "code",
   "execution_count": 18,
   "metadata": {},
   "outputs": [
    {
     "ename": "",
     "evalue": "",
     "output_type": "error",
     "traceback": [
      "\u001b[1;31mThe Kernel crashed while executing code in the current cell or a previous cell. \n",
      "\u001b[1;31mPlease review the code in the cell(s) to identify a possible cause of the failure. \n",
      "\u001b[1;31mClick <a href='https://aka.ms/vscodeJupyterKernelCrash'>here</a> for more info. \n",
      "\u001b[1;31mView Jupyter <a href='command:jupyter.viewOutput'>log</a> for further details."
     ]
    }
   ],
   "source": [
    "# Team Members:\n",
    "# - Member 1: wael\n",
    "# - Member 2: Raid\n",
    "# - Member 3: Musaed\n",
    "# - Member 4: AlBaraa\n"
   ]
  }
 ],
 "metadata": {
  "kernelspec": {
   "display_name": "Python 3",
   "language": "python",
   "name": "python3"
  },
  "language_info": {
   "codemirror_mode": {
    "name": "ipython",
    "version": 3
   },
   "file_extension": ".py",
   "mimetype": "text/x-python",
   "name": "python",
   "nbconvert_exporter": "python",
   "pygments_lexer": "ipython3",
   "version": "3.12.4"
  }
 },
 "nbformat": 4,
 "nbformat_minor": 2
}
