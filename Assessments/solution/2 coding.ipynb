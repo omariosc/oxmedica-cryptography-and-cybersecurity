{
 "cells": [
  {
   "cell_type": "code",
   "execution_count": 7,
   "metadata": {},
   "outputs": [
    {
     "name": "stdout",
     "output_type": "stream",
     "text": [
      "my name is khalid\n",
      "khalid\n",
      "the exam will be consist of multiple choice question and writing\n",
      "['calico', 'tuxedo', 'siamese']\n",
      "['calico', 'tuxedo', 'siamese']\n",
      "['calico', 'tuxedo', 'siamese']\n",
      "['trek', 'redline', 'giant']\n",
      "[45.5, 52.0, 58.5, 65.0, 71.5, 78.0, 84.5, 91.0, 97.5, 104.0]\n",
      "[65, 78, 91, 104, 117, 130, 143, 156, 169, 182]\n"
     ]
    }
   ],
   "source": [
    "print('my name is khalid') #\n",
    "name='khalid'\n",
    "print (name)\n",
    "first_half='multiple choice question'\n",
    "second_half='writing'\n",
    "full_exam=first_half+' and '+second_half\n",
    "print('the exam will be consist of '+ full_exam)\n",
    "cats=['calico','tuxedo','siamese']\n",
    "best_type=[0]\n",
    "lease_favorite=[-1]\n",
    "for cat in cats:\n",
    "  print(cats)\n",
    "bikes=[]\n",
    "bikes.append('trek')\n",
    "bikes.append('redline')\n",
    "bikes.append('giant')\n",
    "print(bikes)\n",
    "triangles=[]\n",
    "hight=(13)\n",
    "for base in range(7,17):\n",
    " triangles.append(base*hight/2)\n",
    "print(triangles)\n",
    "rectangle=[length*hight for length in range(5,15)]\n",
    "print(rectangle)\n"
   ]
  },
  {
   "attachments": {},
   "cell_type": "markdown",
   "metadata": {},
   "source": [
    "1-it went very smoothly and quickly\n",
    "2-currently i dont have any problms\n",
    "3- i just want a few extra work like 2 for funs and that i wont forget python "
   ]
  }
 ],
 "metadata": {
  "kernelspec": {
   "display_name": "Python 3",
   "language": "python",
   "name": "python3"
  },
  "language_info": {
   "codemirror_mode": {
    "name": "ipython",
    "version": 3
   },
   "file_extension": ".py",
   "mimetype": "text/x-python",
   "name": "python",
   "nbconvert_exporter": "python",
   "pygments_lexer": "ipython3",
   "version": "3.9.7"
  },
  "orig_nbformat": 4
 },
 "nbformat": 4,
 "nbformat_minor": 2
}
