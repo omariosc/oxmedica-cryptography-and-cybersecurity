{
 "cells": [
  {
   "cell_type": "code",
   "execution_count": 14,
   "metadata": {},
   "outputs": [
    {
     "name": "stdout",
     "output_type": "stream",
     "text": [
      "Error: The file 'sample.txt' was not found.\n"
     ]
    }
   ],
   "source": [
    "import string\n",
    "\n",
    "def count_words(filename):\n",
    "    word_count = {}\n",
    "    \n",
    "    try:\n",
    "        with open(filename, 'r') as file:\n",
    "            # Read the entire file\n",
    "            text = file.read()\n",
    "            \n",
    "            # Remove punctuation (replace with whitespace)\n",
    "            translator = str.maketrans(string.punctuation, ' ' * len(string.punctuation))\n",
    "            text = text.translate(translator)\n",
    "            \n",
    "            # Convert all text to lowercase\n",
    "            text = text.lower()\n",
    "            \n",
    "            # Split the text into words\n",
    "            words = text.split()\n",
    "            \n",
    "            # Count occurrences of each word\n",
    "            for word in words:\n",
    "                if word in word_count:\n",
    "                    word_count[word] += 1\n",
    "                else:\n",
    "                    word_count[word] = 1\n",
    "    \n",
    "    except FileNotFoundError:\n",
    "        print(f\"Error: The file '{filename}' was not found.\")\n",
    "        return\n",
    "    \n",
    "    except IOError:\n",
    "        print(f\"Error: Could not read the file '{filename}'.\")\n",
    "        return\n",
    "    \n",
    "    # Print the results\n",
    "    for word, count in word_count.items():\n",
    "        print(f\"{word}: {count}\")\n",
    "\n",
    "# Example usage:\n",
    "if __name__ == \"__main__\":\n",
    "    filename = 'sample.txt'  # Replace with your filename\n",
    "    count_words(filename)\n"
   ]
  },
  {
   "attachments": {},
   "cell_type": "markdown",
   "metadata": {},
   "source": [
    "\n",
    "CREATE TABLE Products (\n",
    "    product_id INT PRIMARY KEY,\n",
    "    name VARCHAR(255) NOT NULL,\n",
    "    description TEXT,\n",
    "    price DECIMAL(10, 2) NOT NULL\n",
    ");\n",
    "\n",
    "\n",
    "\n",
    "CREATE TABLE Customers (\n",
    "    customer_id INT PRIMARY KEY,\n",
    "    name VARCHAR(255) NOT NULL,\n",
    "    email VARCHAR(255) UNIQUE NOT NULL,\n",
    "    address TEXT\n",
    ");\n",
    "\n",
    "\n",
    "\n",
    "\n",
    "CREATE TABLE Orders (\n",
    "    order_id INT PRIMARY KEY,\n",
    "    customer_id INT,\n",
    "    order_date DATE NOT NULL,\n",
    "    total_amount DECIMAL(10, 2) NOT NULL,\n",
    "    FOREIGN KEY (customer_id) REFERENCES Customers(customer_id)\n",
    ");\n",
    "\n",
    "\n",
    "\n",
    "\n",
    "\n",
    "\n",
    "\n",
    "\n",
    "\n",
    "CREATE TABLE OrderDetails (\n",
    "    order_id INT,\n",
    "    product_id INT,\n",
    "    quantity INT NOT NULL DEFAULT 1,\n",
    "    PRIMARY KEY (order_id, product_id),\n",
    "    FOREIGN KEY (order_id) REFERENCES Orders(order_id),\n",
    "    FOREIGN KEY (product_id) REFERENCES Products(product_id)\n",
    "\n"
   ]
  }
 ],
 "metadata": {
  "kernelspec": {
   "display_name": "Python 3",
   "language": "python",
   "name": "python3"
  },
  "language_info": {
   "codemirror_mode": {
    "name": "ipython",
    "version": 3
   },
   "file_extension": ".py",
   "mimetype": "text/x-python",
   "name": "python",
   "nbconvert_exporter": "python",
   "pygments_lexer": "ipython3",
   "version": "3.9.7"
  },
  "orig_nbformat": 4
 },
 "nbformat": 4,
 "nbformat_minor": 2
}
