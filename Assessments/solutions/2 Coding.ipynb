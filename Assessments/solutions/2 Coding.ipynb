{
 "cells": [
  {
   "cell_type": "code",
   "execution_count": 3,
   "metadata": {},
   "outputs": [
    {
     "name": "stdout",
     "output_type": "stream",
     "text": [
      "Fibonacci sequence with 11 terms:\n",
      "[0, 1, 1, 2, 3, 5, 8, 13, 21, 34, 55]\n"
     ]
    }
   ],
   "source": [
    "def fibonacci_sequence(n):\n",
    "    fib_list = []\n",
    "    a, b = 0, 1\n",
    "    for _ in range(n):\n",
    "        fib_list.append(a)\n",
    "        a, b = b, a + b\n",
    "    return fib_list\n",
    "# Take user input for the number of terms\n",
    "try:\n",
    "    num_terms = int(input(\"Enter the number of Fibonacci terms to generate: \"))\n",
    "    if num_terms <= 0:\n",
    "        raise ValueError(\"Number of terms should be positive.\")\n",
    "     # Generate and print Fibonacci sequence\n",
    "    fib_sequence = fibonacci_sequence(num_terms)\n",
    "    print(f\"Fibonacci sequence with {num_terms} terms:\")\n",
    "    print(fib_sequence)\n",
    "\n",
    "except ValueError as ve:\n",
    "    print(f\"Error: {ve}\")\n",
    "except Exception as e:\n",
    "    print(f\"An unexpected error occurred: {e}\")"
   ]
  },
  {
   "attachments": {},
   "cell_type": "markdown",
   "metadata": {},
   "source": [
    "this code demonstrates a fibonacci sequence fibonacci_sequence function:\n",
    "\n",
    "This function generates a Fibonacci sequence up to n terms and returns it as a list.\n",
    "It initializes a and b to 0 and 1, respectively.\n",
    "It iterates n times, appending a to fib_list, and updates a and b to the next Fibonacci numbers (b becomes the sum of a and b, and a becomes b).\n",
    "User Input and Exception Handling:\n",
    "\n",
    "num_terms = int(input(\"Enter the number of Fibonacci terms to generate: \")) prompts the user to enter the number of Fibonacci terms.\n",
    "The try-except block handles potential errors:\n",
    "ValueError: Raised if the user inputs a non-integer or a non-positive number of terms.\n",
    "Exception: Catches any other unexpected errors.\n",
    "Printing the Fibonacci Sequence:\n",
    "\n",
    "If input is valid (num_terms > 0), it calls fibonacci_sequence(num_terms) to generate the sequence and prints it.\n",
    "This program demonstrates basic input handling, computation using loops, and simple error handling in Python."
   ]
  },
  {
   "attachments": {},
   "cell_type": "markdown",
   "metadata": {},
   "source": [
    " "
   ]
  }
 ],
 "metadata": {
  "kernelspec": {
   "display_name": "Python 3",
   "language": "python",
   "name": "python3"
  },
  "language_info": {
   "codemirror_mode": {
    "name": "ipython",
    "version": 3
   },
   "file_extension": ".py",
   "mimetype": "text/x-python",
   "name": "python",
   "nbconvert_exporter": "python",
   "pygments_lexer": "ipython3",
   "version": "3.9.7"
  },
  "orig_nbformat": 4
 },
 "nbformat": 4,
 "nbformat_minor": 2
}
