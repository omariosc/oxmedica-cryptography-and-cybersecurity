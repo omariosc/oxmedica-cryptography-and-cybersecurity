{
 "cells": [
  {
   "cell_type": "code",
   "execution_count": null,
   "metadata": {},
   "outputs": [
    {
     "ename": "",
     "evalue": "",
     "output_type": "error",
     "traceback": [
      "\u001b[1;31mRunning cells with 'c:\\Program Files\\Python39\\python.exe' requires the ipykernel package.\n",
      "\u001b[1;31mRun the following command to install 'ipykernel' into the Python environment. \n",
      "\u001b[1;31mCommand: '\"c:/Program Files/Python39/python.exe\" -m pip install ipykernel -U --user --force-reinstall'"
     ]
    }
   ],
   "source": [
    "print (hello) introduces or open screen\n",
    "print(\"Welcome uess the Number game!\")\n",
    "print(\"I'm thinking of a number between 1 and 100. Can you guess it?\") informs the player of the game\n",
    "\n",
    "secret_number = random.randint(1, 100) chooses 1 random number 1-100\n",
    "attempts = 0    makes the code think of a random number between 1 and 100\n",
    " cars={'sports', 'suv','luxury'}  shows what type of cars\n",
    " first_car=car{0}\n",
    " last_car+=car{-1]\n",
    " for car in cars \n",
    " print {car}\n",
    " cars ={} how it lists the carr\n",
    " car.append('sports')\n",
    " car.append('suv')\n",
    "car.append(luxury)\n",
    "squares={}   makes a numerical list\n",
    "for x in range 1,11\n",
    "squares.append(x**2)\n",
    "\n"
   ]
  },
  {
   "attachments": {},
   "cell_type": "markdown",
   "metadata": {},
   "source": [
    "it went pretty good although im not satisfied but its my first time coding i wanted to make a mathematical calculator but i didnt understand the code it took."
   ]
  }
 ],
 "metadata": {
  "kernelspec": {
   "display_name": "Python 3",
   "language": "python",
   "name": "python3"
  },
  "language_info": {
   "name": "python",
   "version": "3.9.7"
  },
  "orig_nbformat": 4
 },
 "nbformat": 4,
 "nbformat_minor": 2
}
