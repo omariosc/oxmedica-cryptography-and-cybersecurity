{
 "cells": [
  {
   "cell_type": "code",
   "execution_count": 2,
   "metadata": {},
   "outputs": [
    {
     "name": "stdout",
     "output_type": "stream",
     "text": [
      "Hello world!\n",
      "Hello world!\n",
      "albert einstein\n"
     ]
    }
   ],
   "source": [
    "#Hello world\n",
    "print(\"Hello world!\")\n",
    "\n",
    "msg = \"Hello world!\"\n",
    "print(msg)\n",
    "\n",
    "first_name = 'albert'\n",
    "last_name = 'einstein'\n",
    "full_name = first_name + ' ' + last_name\n",
    "print(full_name)\n"
   ]
  },
  {
   "cell_type": "code",
   "execution_count": 3,
   "metadata": {},
   "outputs": [
    {
     "name": "stdout",
     "output_type": "stream",
     "text": [
      "trek\n",
      "redline\n",
      "giant\n"
     ]
    }
   ],
   "source": [
    "\n",
    "#Lists\n",
    "bikes = ['trek', 'redline', 'giant']\n",
    "\n",
    "first_bike = bikes[0]\n",
    "\n",
    "last_bike = bikes[-1]\n",
    "\n",
    "for bike in bikes:\n",
    " print(bike)\n",
    "\n",
    "bikes = []\n",
    "bikes.append('trek')\n",
    "bikes.append('redline')\n",
    "bikes.append('giant')\n",
    "\n",
    "squares = []\n",
    "for x in range(1, 11):\n",
    " squares.append(x**2)\n"
   ]
  },
  {
   "cell_type": "code",
   "execution_count": null,
   "metadata": {},
   "outputs": [],
   "source": [
    "#Lists (cont.)\n",
    "squares = [x**2 for x in range(1, 11)]\n",
    "\n",
    "finishers = ['sam', 'bob', 'ada', 'bea']\n",
    "first_two = finishers[:2]\n",
    "\n",
    "copy_of_bikes = bikes[:]\n"
   ]
  },
  {
   "cell_type": "code",
   "execution_count": 5,
   "metadata": {},
   "outputs": [],
   "source": [
    "#Tuples\n",
    "dimensions = (1920, 1080)"
   ]
  },
  {
   "cell_type": "code",
   "execution_count": 17,
   "metadata": {},
   "outputs": [
    {
     "name": "stdout",
     "output_type": "stream",
     "text": [
      "Error!\n",
      "You can vote!\n"
     ]
    },
    {
     "ename": "",
     "evalue": "",
     "output_type": "error",
     "traceback": [
      "\u001b[1;31mThe Kernel crashed while executing code in the the current cell or a previous cell. Please review the code in the cell(s) to identify a possible cause of the failure. Click <a href='https://aka.ms/vscodeJupyterKernelCrash'>here</a> for more info. View Jupyter <a href='command:jupyter.viewOutput'>log</a> for further details."
     ]
    }
   ],
   "source": [
    "#If statements\n",
    "\n",
    "#equals x == 42\n",
    "#not equal x != 42\n",
    "#greater than x > 42\n",
    "# or equal to x >= 42\n",
    "#less than x < 42\n",
    "# or equal to x <= 42\n",
    "\n",
    "'trek' in bikes\n",
    "'surly' not in bikes\n",
    "\n",
    "game_active = True\n",
    "can_edit = False\n",
    "\n",
    "try:\n",
    "  age = int(input(\"Enter your age: \"))\n",
    "except ValueError:\n",
    " print(\"Error!\")\n",
    " quit()\n",
    "# if not isinstance(age, int):\n",
    " \n",
    "if age >= 18:\n",
    " print(\"You can vote!\")\n",
    "\n",
    "if age < 4:\n",
    " ticket_price = 0\n",
    "elif age < 18:\n",
    " ticket_price = 10\n",
    "else:\n",
    " ticket_price = 15"
   ]
  },
  {
   "cell_type": "code",
   "execution_count": null,
   "metadata": {},
   "outputs": [],
   "source": [
    "#Dictions\n",
    "alien = {'color': 'green', 'points': 5}\n",
    "\n",
    "print(\"The alien's color is \" + alien['color'])\n",
    "\n",
    "alien['x_position'] = 0\n",
    "\n",
    "fav_numbers = {'eric': 17, 'ever': 4}\n",
    "for name, number in fav_numbers.items():\n",
    " print(name + ' loves ' + str(number))\n",
    "\n",
    "fav_numbers = {'eric': 17, 'ever': 4}\n",
    "for name in fav_numbers.keys():\n",
    " print(name + ' loves a number')\n",
    "\n",
    "fav_numbers = {'eric': 17, 'ever': 4}\n",
    "for number in fav_numbers.values():\n",
    " print(str(number) + ' is a favorite')"
   ]
  },
  {
   "cell_type": "code",
   "execution_count": null,
   "metadata": {},
   "outputs": [],
   "source": [
    "#User input\n",
    "name = input(\"What's your name? \")\n",
    "print(\"Hello, \" + name + \"!\")\n",
    "\n",
    "age = input(\"How old are you? \")\n",
    "age = int(age)\n",
    "pi = input(\"What's the value of pi? \")\n",
    "pi = float(pi)"
   ]
  }
 ],
 "metadata": {
  "kernelspec": {
   "display_name": "Python 3",
   "language": "python",
   "name": "python3"
  },
  "language_info": {
   "codemirror_mode": {
    "name": "ipython",
    "version": 3
   },
   "file_extension": ".py",
   "mimetype": "text/x-python",
   "name": "python",
   "nbconvert_exporter": "python",
   "pygments_lexer": "ipython3",
   "version": "3.9.7"
  },
  "orig_nbformat": 4
 },
 "nbformat": 4,
 "nbformat_minor": 2
}
