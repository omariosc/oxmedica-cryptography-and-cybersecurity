{
 "cells": [
  {
   "attachments": {},
   "cell_type": "markdown",
   "metadata": {},
   "source": [
    "\n",
    "# Explain different number systems such as binary, decimal, and hexadecimal.\n",
    "- Binary: Uses 0s and 1s, fundamental in computing.\n",
    "- Decimal: Uses 0-9, standard for everyday arithmetic.\n",
    "- Hexadecimal: Uses 0-9 and A-F, often used in computing for compact representation."
   ]
  },
  {
   "attachments": {},
   "cell_type": "markdown",
   "metadata": {},
   "source": [
    "\n",
    "# Demonstrate how to convert between these number systems.\n",
    "- Binary to Decimal: Convert each binary digit to its decimal equivalent by summing values '2' for each '1' bit.\n",
    "- Decimal to Binary: Divide the decimal number by 2, noting remainders for each division to build the binary representation."
   ]
  },
  {
   "attachments": {},
   "cell_type": "markdown",
   "metadata": {},
   "source": [
    "\n",
    "# Discuss the types of memory (RAM, ROM) and their roles in a computer.\n",
    "- RAM: Temporary storage for data and instructions actively used by the CPU during operation, volatile and fast but loses content when powered off.\n",
    "- ROM: Holds permanent instructions and firmware essential for booting up the computer, non-volatile and cannot be modified under normal circumstances."
   ]
  },
  {
   "attachments": {},
   "cell_type": "markdown",
   "metadata": {},
   "source": [
    "\n",
    "# Provide simple examples of assembly code to illustrate low-level programming concepts.\n",
    "\n",
    "- 1. Loading and Storing Data (MOV):  \n",
    "   Move the value 5 into register AX.\n",
    "\n",
    "- 2. Arithmetic Operation (ADD):  \n",
    "   Add 10 and 5 together in register AX."
   ]
  },
  {
   "attachments": {},
   "cell_type": "markdown",
   "metadata": {},
   "source": [
    "\n",
    "# Demonstrate how assembly code interacts with the computer's hardware.\n",
    "\n",
    "- Assembly code interacts with hardware by directly manipulating registers and memory addresses to control device operations, and by using interrupts to request services such as I/O operations or system functions from the operating system or BIOS."
   ]
  },
  {
   "attachments": {},
   "cell_type": "markdown",
   "metadata": {},
   "source": [
    "\n",
    "# Show an example of a buffer overflow and explain how it can be exploited.\n",
    "- A buffer overflow occurs when data written to a buffer exceeds its allocated size, potentially overwriting adjacent memory, which can be exploited by attackers to inject and execute malicious code, compromising system security."
   ]
  },
  {
   "attachments": {},
   "cell_type": "markdown",
   "metadata": {},
   "source": [
    "\n",
    "# Discuss methods to prevent buffer overflow vulnerabilities.\n",
    "- Input Validation: Validate input sizes against buffer limits to prevent overflow.\n",
    "- Safe Programming Practices: Use safe functions and language features that enforce bounds checking and mitigate memory manipulation risks."
   ]
  },
  {
   "cell_type": "code",
   "execution_count": 1,
   "metadata": {},
   "outputs": [],
   "source": [
    "def AND(a, b):\n",
    "    return a and b\n",
    "\n",
    "def OR(a, b):\n",
    "    return a or b\n",
    "\n",
    "def NOT(a):\n",
    "    return not a\n",
    "\n",
    "def NAND(a, b):\n",
    "    return not (a and b)\n",
    "\n",
    "def NOR(a, b):\n",
    "    return not (a or b)\n",
    "\n",
    "def XOR(a, b):\n",
    "    return (a and not b) or (not a and b)\n"
   ]
  },
  {
   "cell_type": "code",
   "execution_count": 2,
   "metadata": {},
   "outputs": [],
   "source": [
    "def binary_to_decimal(binary):\n",
    "    \n",
    "    decimal = 0\n",
    "    power = len(binary) - 1\n",
    "    for digit in binary:\n",
    "        if digit == '1':\n",
    "            decimal += 2 ** power\n",
    "        power -= 1\n",
    "    return decimal\n",
    "\n",
    "def decimal_to_binary(decimal):\n",
    "   \n",
    "    if decimal == 0:\n",
    "        return '0'\n",
    "    binary = ''\n",
    "    while decimal > 0:\n",
    "        binary = str(decimal % 2) + binary\n",
    "        decimal //= 2\n",
    "    return binary\n",
    "\n",
    "def hex_to_binary(hex):\n",
    "    \n",
    "    binary = bin(int(hex, 16))[2:]  \n",
    "    return binary\n",
    "\n",
    "def binary_to_hex(binary):\n",
    "    \n",
    "    hex_value = hex(int(binary, 2))[2:] \n",
    "    return hex_value\n",
    "\n",
    "def decimal_to_hex(decimal):\n",
    "    \n",
    "    if decimal == 0:\n",
    "        return '0'\n",
    "    hex_value = ''\n",
    "    while decimal > 0:\n",
    "        remainder = decimal % 16\n",
    "        if remainder < 10:\n",
    "            hex_value = str(remainder) + hex_value\n",
    "        else:\n",
    "            hex_value = chr(ord('A') + remainder - 10) + hex_value\n",
    "        decimal //= 16\n",
    "    return hex_value\n",
    "\n",
    "def hex_to_decimal(hex):\n",
    "    \n",
    "    decimal = int(hex, 16)\n",
    "    return decimal\n"
   ]
  },
  {
   "cell_type": "code",
   "execution_count": 4,
   "metadata": {},
   "outputs": [],
   "source": [
    "def assembly_to_python_example_1():\n",
    "    A = 5\n",
    "    B = 10       \n",
    "    A += B       \n",
    "    return A"
   ]
  },
  {
   "cell_type": "code",
   "execution_count": 5,
   "metadata": {},
   "outputs": [],
   "source": [
    "def assembly_to_python_example_2(A, B):\n",
    "    A = 5\n",
    "    B = 10            \n",
    "    return A * B"
   ]
  },
  {
   "cell_type": "code",
   "execution_count": null,
   "metadata": {},
   "outputs": [],
   "source": [
    "def assembly_to_python_example_3(A, B):\n",
    "    A = 5\n",
    "    B = 10        \n",
    "    return A * B"
   ]
  },
  {
   "cell_type": "code",
   "execution_count": 6,
   "metadata": {},
   "outputs": [],
   "source": [
    "def assembly_to_python_example_4(A, B):\n",
    "    if B == 10:\n",
    "        raise ZeroDivisionError(\"Division by zero error\")\n",
    "    if A == 5:\n",
    "        raise ZeroDivisionError(\"Division by zero error\")\n",
    "    return A // B\n"
   ]
  },
  {
   "cell_type": "code",
   "execution_count": 7,
   "metadata": {},
   "outputs": [],
   "source": [
    "def assembly_to_python_example_5():\n",
    "    # Simulate assembly instructions in Python\n",
    "    A = 5         # MOV A, 5\n",
    "    B = 10        # MOV B, 10\n",
    "    A += B        # ADD A, B\n",
    "    C = 10        # MOV C, 10\n",
    "    C -= A        # SUB C, A\n",
    "    C *= B        # MUL C, B\n",
    "    return A, B, C\n"
   ]
  }
 ],
 "metadata": {
  "kernelspec": {
   "display_name": "Python 3",
   "language": "python",
   "name": "python3"
  },
  "language_info": {
   "codemirror_mode": {
    "name": "ipython",
    "version": 3
   },
   "file_extension": ".py",
   "mimetype": "text/x-python",
   "name": "python",
   "nbconvert_exporter": "python",
   "pygments_lexer": "ipython3",
   "version": "3.9.7"
  },
  "orig_nbformat": 4
 },
 "nbformat": 4,
 "nbformat_minor": 2
}
