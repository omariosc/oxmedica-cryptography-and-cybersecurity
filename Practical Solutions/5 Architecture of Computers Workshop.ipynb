{
 "cells": [
  {
   "cell_type": "markdown",
   "metadata": {},
   "source": [
    "**Part1 E1:**\n",
    "\n",
    "| T | F | AND | OR | NOT T |\n",
    "|---|---|-----|----|-------|\n",
    "| 1 | 1 |  1  | 1  |   0   |\n",
    "| 1 | 0 |  0  | 1  |   0   |\n",
    "| 0 | 1 |  0  | 1  |   1   |\n",
    "| 0 | 0 |  0  | 0  |   1   |"
   ]
  },
  {
   "cell_type": "markdown",
   "metadata": {},
   "source": [
    "# Practical 5: Architecture of Computers Workshop\n",
    "\n",
    "## Part 2: Interactive Workbook\n",
    "\n",
    "### Exercise 1: Programming Logic Gates\n",
    "\n",
    "Implement Python functions for AND, OR, NOT, NAND, NOR, XOR gates."
   ]
  },
  {
   "cell_type": "code",
   "execution_count": 9,
   "metadata": {},
   "outputs": [],
   "source": [
    "def AND(x, y):\n",
    "    # TODO: Implement AND gate  \n",
    "    return x & y\n",
    "\n",
    "def OR(a, b):\n",
    "    # TODO: Implement OR gate\n",
    "    return 0\n",
    "\n",
    "def NOT(a):\n",
    "    # TODO: Implement NOT gate\n",
    "    return 0\n",
    "\n",
    "def NAND(a, b):\n",
    "    # TODO: Implement NAND gate\n",
    "    return 0\n",
    "\n",
    "def NOR(a, b):\n",
    "    # TODO: Implement NOR gate\n",
    "    return 0\n",
    "\n",
    "def XOR(a, b):\n",
    "    # TODO: Implement XOR gate\n",
    "    return 0\n"
   ]
  },
  {
   "cell_type": "markdown",
   "metadata": {},
   "source": [
    "### Exercise 2: Number Base Conversion\n",
    "\n",
    "Implement Python functions for converting numbers between binary, decimal, and hexadecimal number systems."
   ]
  },
  {
   "cell_type": "code",
   "execution_count": 6,
   "metadata": {},
   "outputs": [],
   "source": [
    "def binary_to_decimal(binary):\n",
    "    # TODO: Implement binary to decimal conversion\n",
    "    return 0\n",
    "def decimal_to_binary(decimal):\n",
    "    # TODO: Implement decimal to binary conversion\n",
    "    return 0\n",
    "def hex_to_binary(hex):\n",
    "    # TODO: Implement hex to binary conversion\n",
    "    return 0\n",
    "def binary_to_hex(binary):\n",
    "    # TODO: Implement binary to hex conversion\n",
    "    return 0\n",
    "def decimal_to_hex(decimal):\n",
    "    # TODO: Implement decimal to hex conversion\n",
    "    return 0\n",
    "def hex_to_decimal(hex):\n",
    "    # TODO: Implement hex to decimal conversion\n",
    "    return 0"
   ]
  },
  {
   "cell_type": "markdown",
   "metadata": {},
   "source": [
    "### Exercise 3: Assembly to Python Translator\n",
    "\n",
    "Convert the following examples of assembly code to the relevant Python code.\n",
    "\n",
    "1. Example 1\n",
    "\n",
    "    ```assembly\n",
    "    MOV A, 5\n",
    "    MOV B, 10\n",
    "    ADD A, B\n",
    "    ```"
   ]
  },
  {
   "cell_type": "code",
   "execution_count": null,
   "metadata": {},
   "outputs": [],
   "source": [
    "def assembly_to_python_example_1():\n",
    "    # TODO: Implement assembly to python example 1"
   ]
  },
  {
   "cell_type": "markdown",
   "metadata": {},
   "source": [
    "2. Example 2\n",
    "\n",
    "    ```assembly\n",
    "    MOV A, 5\n",
    "    MOV B, 10\n",
    "    SUB A, B\n",
    "    ```"
   ]
  },
  {
   "cell_type": "code",
   "execution_count": null,
   "metadata": {},
   "outputs": [],
   "source": [
    "def assembly_to_python_example_2():\n",
    "    # TODO: Implement assembly to python example 2"
   ]
  },
  {
   "cell_type": "markdown",
   "metadata": {},
   "source": [
    "3. Example 3\n",
    "\n",
    "    ```assembly\n",
    "    MOV A, 5\n",
    "    MOV B, 10\n",
    "    MUL A, B\n",
    "    ```"
   ]
  },
  {
   "cell_type": "code",
   "execution_count": null,
   "metadata": {},
   "outputs": [],
   "source": [
    "def assembly_to_python_example_3():\n",
    "    # TODO: Implement assembly to python example 3"
   ]
  },
  {
   "cell_type": "markdown",
   "metadata": {},
   "source": [
    "4. Example 4\n",
    "\n",
    "    ```assembly\n",
    "    MOV A, 5\n",
    "    MOV B, 10\n",
    "    DIV A, B\n",
    "    ```"
   ]
  },
  {
   "cell_type": "code",
   "execution_count": null,
   "metadata": {},
   "outputs": [],
   "source": [
    "def assembly_to_python_example_4():\n",
    "    # TODO: Implement assembly to python example 4"
   ]
  },
  {
   "cell_type": "markdown",
   "metadata": {},
   "source": [
    "5. Example 5\n",
    "\n",
    "    ```assembly\n",
    "    MOV A, 5\n",
    "    MOV B, 10\n",
    "    ADD A, B\n",
    "    MOV C, 10\n",
    "    SUB C, A\n",
    "    MUL C, B\n",
    "    ```"
   ]
  },
  {
   "cell_type": "code",
   "execution_count": 5,
   "metadata": {},
   "outputs": [
    {
     "ename": "IndentationError",
     "evalue": "expected an indented block (86756083.py, line 2)",
     "output_type": "error",
     "traceback": [
      "\u001b[1;36m  Cell \u001b[1;32mIn[5], line 2\u001b[1;36m\u001b[0m\n\u001b[1;33m    # TODO: Implement assembly to python example 5\u001b[0m\n\u001b[1;37m                                                  ^\u001b[0m\n\u001b[1;31mIndentationError\u001b[0m\u001b[1;31m:\u001b[0m expected an indented block\n"
     ]
    }
   ],
   "source": [
    "def assembly_to_python_example_5():\n",
    "    # TODO: Implement assembly to python example 5"
   ]
  },
  {
   "cell_type": "markdown",
   "metadata": {},
   "source": [
    "### Exercise 4: Buffer Overflow\n",
    "\n",
    "Implement a Python program that demonstrates a buffer overflow vulnerability. Below is an example using a `for` loop - try to create a buffer overflow vulnerability in the program."
   ]
  },
  {
   "cell_type": "code",
   "execution_count": 2,
   "metadata": {},
   "outputs": [
    {
     "name": "stdout",
     "output_type": "stream",
     "text": [
      "buffer[0] = 0\n",
      "buffer[1] = 1\n",
      "buffer[2] = 2\n",
      "buffer[3] = 3\n",
      "buffer[4] = 4\n",
      "buffer[5] = 5\n",
      "buffer[6] = 6\n",
      "buffer[7] = 7\n",
      "buffer[8] = 8\n"
     ]
    }
   ],
   "source": [
    "def buffer_overflow_example():\n",
    "    buffer = [0] * 10  # Create a buffer with 10 elements\n",
    "    for i in range(9):  # Hint: Try to write beyond the buffer's limit\n",
    "        buffer[i] = i\n",
    "        print(f\"buffer[{i}] = {buffer[i]}\")\n",
    "\n",
    "\n",
    "buffer_overflow_example()"
   ]
  },
  {
   "cell_type": "markdown",
   "metadata": {},
   "source": [
    "Now create your own example without using a `for` loop and explain how the buffer overflow vulnerability can be exploited."
   ]
  },
  {
   "cell_type": "code",
   "execution_count": null,
   "metadata": {},
   "outputs": [],
   "source": [
    "def custom_buffer_overflow():\n",
    "    # TODO: Implement a custom buffer overflow example"
   ]
  },
  {
   "cell_type": "markdown",
   "metadata": {},
   "source": [
    "## Test your code\n",
    "\n",
    "Test your code with the provided test cases. You will have to call the `test()` function to run the test cases."
   ]
  },
  {
   "cell_type": "code",
   "execution_count": null,
   "metadata": {},
   "outputs": [],
   "source": [
    "def test():\n",
    "    # Test AND gate\n",
    "    assert AND(0, 0) == 0\n",
    "    assert AND(0, 1) == 0\n",
    "    assert AND(1, 0) == 0\n",
    "    assert AND(1, 1) == 1\n",
    "    print(\"AND gate test passed\")\n",
    "    # Test OR gate\n",
    "    assert OR(0, 0) == 0\n",
    "    assert OR(0, 1) == 1\n",
    "    assert OR(1, 0) == 1\n",
    "    assert OR(1, 1) == 1\n",
    "    print(\"OR gate test passed\")\n",
    "    \n",
    "\n",
    "    # Test NOT gate\n",
    "    assert NOT(0) == 1\n",
    "    assert NOT(1) == 0\n",
    "    print(\"NOT gate test passed\")\n",
    "\n",
    "    # Test NAND gate\n",
    "    assert NAND(0, 0) == 1\n",
    "    assert NAND(0, 1) == 1\n",
    "    assert NAND(1, 0) == 1\n",
    "    assert NAND(1, 1) == 0\n",
    "    print(\"NAND gate test passed\")\n",
    "\n",
    "    # Test NOR gate\n",
    "    assert NOR(0, 0) == 1\n",
    "    assert NOR(0, 1) == 0\n",
    "    assert NOR(1, 0) == 0\n",
    "    assert NOR(1, 1) == 0\n",
    "    print(\"NOR gate test passed\")\n",
    "\n",
    "    # Test XOR gate\n",
    "    assert XOR(0, 0) == 0\n",
    "    assert XOR(0, 1) == 1\n",
    "    assert XOR(1, 0) == 1\n",
    "    assert XOR(1, 1) == 0\n",
    "    print(\"XOR gate test passed\")\n",
    "\n",
    "    # Test binary to decimal conversion\n",
    "    assert binary_to_decimal(\"1010\") == 10\n",
    "    assert binary_to_decimal(\"1111\") == 15\n",
    "    print(\"Binary to decimal conversion test passed\")\n",
    "\n",
    "    # Test decimal to binary conversion\n",
    "    assert decimal_to_binary(10) == \"1010\"\n",
    "    assert decimal_to_binary(15) == \"1111\"\n",
    "    print(\"Decimal to binary conversion test passed\")\n",
    "\n",
    "    # Test hex to binary conversion\n",
    "    assert hex_to_binary(\"A\") == \"1010\"\n",
    "    assert hex_to_binary(\"F\") == \"1111\"\n",
    "    print(\"Hex to binary conversion test passed\")\n",
    "\n",
    "    # Test assembly to python example 1\n",
    "    assert assembly_to_python_example_1() == 15\n",
    "    print(\"Assembly to python example 1 test passed\")\n",
    "    \n",
    "    \n",
    "    # Test assembly to python example 2\n",
    "    assert assembly_to_python_example_2() == 10\n",
    "    \n",
    "    # Test assembly to python example 3\n",
    "    assert assembly_to_python_example_3() == 50\n",
    "    \n",
    "    # Test assembly to python example 4\n",
    "    assert assembly_to_python_example_4() == 2\n",
    "    \n",
    "    # Test assembly to python example 5\n",
    "    assert assembly_to_python_example_5() == 50\n",
    "    quit()\n",
    "    "
   ]
  },
  {
   "cell_type": "markdown",
   "metadata": {},
   "source": [
    "Submit your completed workbook to your GitHub repository."
   ]
  }
 ],
 "metadata": {
  "kernelspec": {
   "display_name": "Python 3",
   "language": "python",
   "name": "python3"
  },
  "language_info": {
   "codemirror_mode": {
    "name": "ipython",
    "version": 3
   },
   "file_extension": ".py",
   "mimetype": "text/x-python",
   "name": "python",
   "nbconvert_exporter": "python",
   "pygments_lexer": "ipython3",
   "version": "3.12.3"
  }
 },
 "nbformat": 4,
 "nbformat_minor": 2
}
