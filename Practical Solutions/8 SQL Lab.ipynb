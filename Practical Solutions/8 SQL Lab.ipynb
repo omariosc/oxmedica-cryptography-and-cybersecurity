{
 "cells": [
  {
   "attachments": {},
   "cell_type": "markdown",
   "metadata": {},
   "source": [
    "    SELECT * FROM Subcribers;\n",
    "    INSERT INTO Subscribers (username, password) VALUES ('user1', 'password1');\n",
    "    UPDATE Subscribers SET password = 'newpassword' WHERE username = 'user1';\n",
    "    DELETE FROM Subscribers WHERE username = 'user1';"
   ]
  },
  {
   "attachments": {},
   "cell_type": "markdown",
   "metadata": {},
   "source": [
    " SELECT * FROM Subscribers WHERE username = 'admin' -- ' AND password = 'password';"
   ]
  },
  {
   "attachments": {},
   "cell_type": "markdown",
   "metadata": {},
   "source": [
    "# SQL INJECTION\n",
    "A Code Injection Technique That Might Destroy The Database.\n",
    "# HOW YOU CAN PREVENT AN INJECTION?\n",
    "Option 1: Use of Prepared Statements (with Parameterized Queries)\n",
    "Option 2: Use of Properly Constructed Stored Procedures\n",
    "Option 3: Allow-list Input Validation\n",
    "Option 4: STRONGLY DISCOURAGED: Escaping All User Supplied Input"
   ]
  },
  {
   "attachments": {},
   "cell_type": "markdown",
   "metadata": {},
   "source": [
    "import sqlite3\n",
    "\n",
    "    conn = sqlite3.connect('GymSubscribers.db')\n",
    "    cursor = conn.cursor()\n",
    "    cursor.execute(\"SELECT * FROM Subscribers WHERE username = ? AND password = ?\", (username, password))"
   ]
  },
  {
   "attachments": {},
   "cell_type": "markdown",
   "metadata": {},
   "source": [
    " CREATE TABLE Subs (\n",
    "         id INTEGER PRIMARY KEY,\n",
    "         name TEXT,\n",
    "         price REAL\n",
    "     );\n",
    "\n",
    "          INSERT INTO Products (name, price) VALUES ('Monthly Sub Lite', 29.99);\n",
    "     INSERT INTO Products (name, price) VALUES ('Monthly Sub Premium', 59.99);\n",
    "\n",
    "      SELECT * FROM Subs;\n",
    "\n",
    "      UPDATE Products SET price = 29.99 WHERE name = 'Monthly Sub Lite';\n",
    "      DELETE FROM Products WHERE name = 'Monthly Sub Premuim';"
   ]
  },
  {
   "cell_type": "code",
   "execution_count": 7,
   "metadata": {},
   "outputs": [],
   "source": [
    "import sqlite3\n",
    "\n",
    "conn = sqlite3.connect('GymSubscribers.db')\n",
    "cursor = conn.cursor()"
   ]
  },
  {
   "cell_type": "code",
   "execution_count": 9,
   "metadata": {},
   "outputs": [
    {
     "data": {
      "text/plain": [
       "<sqlite3.Cursor at 0x1a2c5a170a0>"
      ]
     },
     "execution_count": 9,
     "metadata": {},
     "output_type": "execute_result"
    }
   ],
   "source": [
    "cursor.execute('''\n",
    "     CREATE TABLE IF NOT EXISTS Subs (\n",
    "         id INTEGER PRIMARY KEY,\n",
    "         name TEXT,\n",
    "         price REAL\n",
    "     )\n",
    "     ''')"
   ]
  },
  {
   "cell_type": "code",
   "execution_count": 10,
   "metadata": {},
   "outputs": [
    {
     "data": {
      "text/plain": [
       "<sqlite3.Cursor at 0x1a2c5a170a0>"
      ]
     },
     "execution_count": 10,
     "metadata": {},
     "output_type": "execute_result"
    }
   ],
   "source": [
    "cursor.execute('''\n",
    "     INSERT INTO Subs (name, price) VALUES (?, ?)\n",
    "     ''', ('Monthly Sub Lite', 19.99))\n",
    "\n",
    "cursor.execute('''\n",
    "     INSERT INTO Subs (name, price) VALUES (?, ?)\n",
    "     ''', ('Monthly Sub Premuim', 24.99))"
   ]
  },
  {
   "cell_type": "code",
   "execution_count": 13,
   "metadata": {},
   "outputs": [
    {
     "name": "stdout",
     "output_type": "stream",
     "text": [
      "(1, 'Monthly Sub Lite', 15.99)\n",
      "(2, 'Monthly Sub Premuim', 24.99)\n"
     ]
    }
   ],
   "source": [
    "cursor.execute('SELECT * FROM Subs')\n",
    "rows = cursor.fetchall()\n",
    "for row in rows:\n",
    "         print(row)\n",
    "\n",
    "cursor.execute('''\n",
    "     UPDATE Subs SET price = ? WHERE name = ?\n",
    "     ''', (15.99, 'Monthly Sub Lite'))\n",
    "\n",
    "cursor.execute('''\n",
    "     UPDATE Subs SET price = ? WHERE name = ?\n",
    "     ''', (24.99, 'Monthly Sub Premuim'))\n",
    "\n",
    "cursor.execute('''\n",
    "     DELETE FROM Subs WHERE name = ?\n",
    "     ''', ('Monthly Sub Premuim',))\n",
    "\n",
    "conn.commit()\n",
    "conn.close()"
   ]
  },
  {
   "attachments": {},
   "cell_type": "markdown",
   "metadata": {},
   "source": [
    "# THIS IS A SIMPLE PRICING SYSTEM FOR A GYM WITH : INSERT UPDATE DELETE\n",
    "What Happend Here That We Excuted A Table And Then We Printed The Rows As A Text Then We Excuted The Table And We Updated The Price Of A Row 1 Then We Also Excuted The Second One And We Updated The Price Of Row 2 And In Last We Deleted The Row \"Monthly Sub Premium\" And In The Last 2 Lines We Applied Everything Then We Closed The Connection"
   ]
  }
 ],
 "metadata": {
  "kernelspec": {
   "display_name": "Python 3",
   "language": "python",
   "name": "python3"
  },
  "language_info": {
   "codemirror_mode": {
    "name": "ipython",
    "version": 3
   },
   "file_extension": ".py",
   "mimetype": "text/x-python",
   "name": "python",
   "nbconvert_exporter": "python",
   "pygments_lexer": "ipython3",
   "version": "3.9.7"
  },
  "orig_nbformat": 4
 },
 "nbformat": 4,
 "nbformat_minor": 2
}
