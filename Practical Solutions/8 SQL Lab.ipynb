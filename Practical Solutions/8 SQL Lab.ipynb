{
 "cells": [
  {
   "cell_type": "code",
   "execution_count": null,
   "metadata": {},
   "outputs": [],
   "source": [
    "#Part 3:\n",
    "import sqlite3\n",
    "conn = sqlite3.connect('example.db')\n",
    "cursor = conn.cursor()\n",
    "cursor.execute('''\n",
    "CREATE TABLE IF NOT EXISTS Products (\n",
    "    id INTEGER PRIMARY KEY,\n",
    "    name TEXT,\n",
    "    price REAL\n",
    ")\n",
    "''')\n",
    "cursor.execute('''\n",
    "INSERT INTO Products (name, price) VALUES (?, ?)\n",
    "''', ('Product1', 10.99))\n",
    "cursor.execute('''\n",
    "INSERT INTO Products (name, price) VALUES (?, ?)\n",
    "''', ('Product2', 20.99))\n",
    "cursor.execute('SELECT * FROM Products')\n",
    "rows = cursor.fetchall()\n",
    "for row in rows:\n",
    "    print(row)\n",
    "cursor.execute('''\n",
    "UPDATE Products SET price = ? WHERE name = ?\n",
    "''', (15.99, 'Product1'))\n",
    "cursor.execute('''\n",
    "DELETE FROM Products WHERE name = ?\n",
    "''', ('Product2',))\n",
    "conn.commit()\n",
    "conn.close()"
   ]
  },
  {
   "cell_type": "code",
   "execution_count": 38,
   "metadata": {},
   "outputs": [
    {
     "ename": "OperationalError",
     "evalue": "database is locked",
     "output_type": "error",
     "traceback": [
      "\u001b[1;31m---------------------------------------------------------------------------\u001b[0m",
      "\u001b[1;31mOperationalError\u001b[0m                          Traceback (most recent call last)",
      "Cell \u001b[1;32mIn[38], line 10\u001b[0m\n\u001b[0;32m      3\u001b[0m cursor \u001b[39m=\u001b[39m conn\u001b[39m.\u001b[39mcursor()\n\u001b[0;32m      4\u001b[0m cursor\u001b[39m.\u001b[39mexecute(\u001b[39m'''\u001b[39m\n\u001b[0;32m      5\u001b[0m \u001b[39mCREATE TABLE IF NOT EXISTS Store (\u001b[39m\n\u001b[0;32m      6\u001b[0m \u001b[39mProduct VARCHAR(250),\u001b[39m\n\u001b[0;32m      7\u001b[0m \u001b[39mPrice VARCHAR(250)\u001b[39m\n\u001b[0;32m      8\u001b[0m \u001b[39m)\u001b[39m\n\u001b[0;32m      9\u001b[0m \u001b[39m'''\u001b[39m)\n\u001b[1;32m---> 10\u001b[0m cursor\u001b[39m.\u001b[39;49mexecute(\u001b[39m'''\u001b[39;49m\n\u001b[0;32m     11\u001b[0m \u001b[39mINSERT INTO Store(Product, Price) VALUES (\u001b[39;49m\u001b[39m'\u001b[39;49m\u001b[39mCheese\u001b[39;49m\u001b[39m'\u001b[39;49m\u001b[39m, \u001b[39;49m\u001b[39m'\u001b[39;49m\u001b[39m16\u001b[39;49m\u001b[39m'\u001b[39;49m\u001b[39m)\u001b[39;49m\u001b[39m'''\u001b[39;49m)\n\u001b[0;32m     12\u001b[0m cursor\u001b[39m.\u001b[39mexecute(\u001b[39m'''\u001b[39m\u001b[39mSELECT * FROM Store\u001b[39m\u001b[39m'''\u001b[39m)\n\u001b[0;32m     13\u001b[0m conn\u001b[39m.\u001b[39mcommit()\n",
      "\u001b[1;31mOperationalError\u001b[0m: database is locked"
     ]
    }
   ],
   "source": [
    "import sqlite3\n",
    "conn = sqlite3.connect('example.db')\n",
    "cursor = conn.cursor()\n",
    "cursor.execute('''\n",
    "CREATE TABLE IF NOT EXISTS Store (\n",
    "Product VARCHAR(250),\n",
    "Price VARCHAR(250)\n",
    ")\n",
    "''')\n",
    "cursor.execute('''\n",
    "INSERT INTO Store(Product, Price) VALUES ('Cheese', '16')''')\n",
    "cursor.execute('''SELECT * FROM Store''')\n",
    "conn.commit()\n",
    "conn.close()"
   ]
  },
  {
   "attachments": {},
   "cell_type": "markdown",
   "metadata": {},
   "source": [
    "Part 1:\n",
    "SELECT * From Cars;\n",
    "INSERT INTO Cars(Make, Model) VALUES (Kia, 2022);\n",
    "UPDATE Cars SET Model = 2023 WHERE Make = 'Kia';\n",
    "DELETE FROM Cars WHERE Make = 'Kia';"
   ]
  },
  {
   "attachments": {},
   "cell_type": "markdown",
   "metadata": {},
   "source": [
    "Part 2:\n",
    "SELECT * FROM users WHERE username = '' OR '1'='1' AND password = '$password';\n",
    "\n",
    "\n",
    "$stmt = $pdo->prepare('SELECT * FROM users WHERE username = ? AND password = ?');\n",
    "$stmt->execute([$username, $password]);"
   ]
  },
  {
   "attachments": {},
   "cell_type": "markdown",
   "metadata": {},
   "source": [
    "Part 3:\n",
    "CREATE TABLE Products (\n",
    " id INTEGER PRIMARY KEY,\n",
    " name TEXT,\n",
    " price REAL\n",
    ");\n",
    "INSERT INTO Products (name, price) VALUES ('Product1', 10.99);\n",
    "INSERT INTO Products (name, price) VALUES ('Product2', 20.99);\n",
    "SELECT * FROM Products;\n",
    "UPDATE Products SET price = 15.99 WHERE name = 'Product1';\n",
    "DELETE FROM Products WHERE name = 'Product2';"
   ]
  }
 ],
 "metadata": {
  "kernelspec": {
   "display_name": "Python 3",
   "language": "python",
   "name": "python3"
  },
  "language_info": {
   "codemirror_mode": {
    "name": "ipython",
    "version": 3
   },
   "file_extension": ".py",
   "mimetype": "text/x-python",
   "name": "python",
   "nbconvert_exporter": "python",
   "pygments_lexer": "ipython3",
   "version": "3.9.7"
  },
  "orig_nbformat": 4
 },
 "nbformat": 4,
 "nbformat_minor": 2
}
