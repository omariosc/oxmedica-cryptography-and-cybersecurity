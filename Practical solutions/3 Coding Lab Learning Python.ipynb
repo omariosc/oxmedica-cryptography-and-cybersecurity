{
 "cells": [
  {
   "cell_type": "code",
   "execution_count": null,
   "metadata": {},
   "outputs": [],
   "source": [
    "x=5+2\n",
    "y=5-2\n",
    "z=5*2\n",
    "print(\"5 + 2 =\", x)\n",
    "print(\"5 - 2 =\", y)\n",
    "print(\"5 * 2 =\", z)"
   ]
  },
  {
   "cell_type": "code",
   "execution_count": null,
   "metadata": {},
   "outputs": [],
   "source": [
    "print(\"*\"*20)\n",
    "Name=input(\"Enter your name: \")\n",
    "a=int(input(\"Enter number 1: \"))\n",
    "b=int(input(\"Enter number 2: \"))\n",
    "n1=a/b\n",
    "print(a,\"/\",b,\"=\",n1)\n",
    "print(\"Thank you\",Name)\n",
    "print(\"*\"*20)"
   ]
  },
  {
   "cell_type": "code",
   "execution_count": null,
   "metadata": {},
   "outputs": [],
   "source": [
    "num=int(input(\"Enter an Integer number : \"))\n",
    "if num==0 :\n",
    "  print(\"This is equal to zero\")\n",
    "elif num>0 :\n",
    "  print(\"This is a positive number\")\n",
    "else :\n",
    "  print('This is a negative number')"
   ]
  },
  {
   "cell_type": "code",
   "execution_count": null,
   "metadata": {},
   "outputs": [],
   "source": [
    "count=0\n",
    "num=1\n",
    "while count<5 :\n",
    "  print(num)\n",
    "  num=num+1\n",
    "  count=count+1"
   ]
  },
  {
   "cell_type": "code",
   "execution_count": null,
   "metadata": {},
   "outputs": [],
   "source": []
  }
 ],
 "metadata": {
  "language_info": {
   "name": "python"
  }
 },
 "nbformat": 4,
 "nbformat_minor": 2
}
