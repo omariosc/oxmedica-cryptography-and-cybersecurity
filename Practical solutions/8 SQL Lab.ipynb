{
 "cells": [
  {
   "cell_type": "markdown",
   "metadata": {},
   "source": [
    "SELECT * FROM members;\n",
    "INSERT INTO members (first_name, last_name) VALUES ('fname', 'lname');\n",
    "UPDATE members SET last_name = 'newlname' WHERE first_name = 'fname';\n",
    "DELETE FROM members WHERE first_name = 'fname';"
   ]
  },
  {
   "cell_type": "markdown",
   "metadata": {},
   "source": [
    "SELECT * FROM members WHERE first_name = 'first_name' -- ' AND last_name = 'last_name';"
   ]
  },
  {
   "cell_type": "markdown",
   "metadata": {},
   "source": [
    "import sqlite3\n",
    "\n",
    "    conn = sqlite3.connect('example.db')\n",
    "    cursor = conn.cursor()\n",
    "    cursor.execute(\"SELECT * FROM members WHERE first_name = ? AND last_name = ?\", (first_name, last_name))"
   ]
  },
  {
   "cell_type": "markdown",
   "metadata": {},
   "source": [
    "     ```sql\n",
    "     -- Create a table\n",
    "     CREATE TABLE Products (\n",
    "         id INTEGER PRIMARY KEY,\n",
    "         name TEXT,\n",
    "         price REAL\n",
    "     );\n",
    "\n",
    "     -- Insert data into the table\n",
    "     INSERT INTO Products (name, price) VALUES ('Product1', 10.99);\n",
    "     INSERT INTO Products (name, price) VALUES ('Product2', 20.99);\n",
    "\n",
    "     -- Select data from the table\n",
    "     SELECT * FROM Products;\n",
    "\n",
    "     -- Update data in the table\n",
    "     UPDATE Products SET price = 15.99 WHERE name = 'Product1';\n",
    "\n",
    "     -- Delete data from the table\n",
    "     DELETE FROM Products WHERE name = 'Product2';\n",
    "     ```"
   ]
  },
  {
   "cell_type": "code",
   "execution_count": 1,
   "metadata": {},
   "outputs": [
    {
     "name": "stdout",
     "output_type": "stream",
     "text": [
      "(1, 'Product1', 10.99)\n",
      "(2, 'Product2', 20.99)\n"
     ]
    }
   ],
   "source": [
    "# Connect to SQLite database\n",
    "import sqlite3\n",
    "\n",
    "conn = sqlite3.connect('example.db')\n",
    "cursor = conn.cursor()\n",
    "\n",
    "# Create a table\n",
    "cursor.execute('''\n",
    "CREATE TABLE IF NOT EXISTS Products (\n",
    "   id INTEGER PRIMARY KEY,\n",
    "    name TEXT,\n",
    "    price REAL\n",
    " )\n",
    " ''')\n",
    "\n",
    "     # Insert data into the table\n",
    "cursor.execute('''\n",
    "INSERT INTO Products (name, price) VALUES (?, ?)\n",
    "''', ('Product1', 10.99))\n",
    "\n",
    "cursor.execute('''\n",
    "INSERT INTO Products (name, price) VALUES (?, ?)\n",
    "''', ('Product2', 20.99))\n",
    "\n",
    "     # Select data from the table\n",
    "cursor.execute('SELECT * FROM Products')\n",
    "rows = cursor.fetchall()\n",
    "for row in rows:\n",
    "    print(row)\n",
    "\n",
    "     # Update data in the table\n",
    "cursor.execute('''\n",
    "UPDATE Products SET price = ? WHERE name = ?\n",
    "''', (15.99, 'Product1'))\n",
    "\n",
    "     # Delete data from the table\n",
    "cursor.execute('''\n",
    "DELETE FROM Products WHERE name = ?\n",
    "''', ('Product2',))\n",
    "\n",
    "conn.commit()\n",
    "conn.close()"
   ]
  },
  {
   "cell_type": "code",
   "execution_count": null,
   "metadata": {},
   "outputs": [],
   "source": []
  }
 ],
 "metadata": {
  "kernelspec": {
   "display_name": "Python 3",
   "language": "python",
   "name": "python3"
  },
  "language_info": {
   "codemirror_mode": {
    "name": "ipython",
    "version": 3
   },
   "file_extension": ".py",
   "mimetype": "text/x-python",
   "name": "python",
   "nbconvert_exporter": "python",
   "pygments_lexer": "ipython3",
   "version": "3.12.4"
  }
 },
 "nbformat": 4,
 "nbformat_minor": 2
}
