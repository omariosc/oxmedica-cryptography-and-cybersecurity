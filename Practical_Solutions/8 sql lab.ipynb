{
 "cells": [
  {
   "cell_type": "code",
   "execution_count": null,
   "metadata": {},
   "outputs": [],
   "source": []
  },
  {
   "cell_type": "markdown",
   "metadata": {},
   "source": [
    "discussing the basics of SQL and relational databases: relational databases organize data into tables with rows (entries) and columns (attributes). Relationships link tables, SQL commands like select, insert, update, and delete managed data. together, they form a powerful system for storing and querying structured data efficiently.\n",
    "\n",
    "writing basic SQL queries to select, insert, update, and delete data: \n",
    "\n",
    "SELECT * FROM Students; <- this selects things from the students table. \n",
    "\n",
    "INSERT INTO Students (StudentID, Name, Age, Major)\n",
    "VALUES (1, 'ahmed mohammed', 20, 'computer science'); <- this inserts data into the students table. \n",
    "\n",
    "UPDATE Students\n",
    "SET Major = 'english literature'\n",
    "WHERE StudentID = 1; <- this changes ahmed mohammed's major into english literature\n",
    "\n",
    "DELETE FROM Students\n",
    "WHERE StudentID = 1; <- this deletes ahmed mohammed's entry in the database\n",
    "\n",
    "Explaining what sql injection is and how it can be exploited: sql injection works when user input is incorrectly handled and directly included in sql queries without proper validation.\n",
    "\n",
    "\n",
    " example of vulnerable sql code:\n",
    " import sqlite3\n",
    "\n",
    "def get_user_data(username):\n",
    "    conn = sqlite3.connect('example.db')\n",
    "    cursor = conn.cursor()\n",
    "    query = f\"SELECT * FROM users WHERE username = '{username}';\"\n",
    "    cursor.execute(query)\n",
    "    return cursor.fetchall()\n",
    "\n",
    "# input from user\n",
    "username = input(\"Enter your username: \")\n",
    "print(get_user_data(username))\n",
    "\n",
    "using this string: ' OR '1'='1 we are able to spoof the previous code to return a positive through sql injection and successfully logging in without\n",
    "\n",
    "discussing methods of preventing sql injection:\n",
    "can use prepared statements and parametized entries \n",
    "input validation\n",
    "limiting database account permissions\n",
    "regular audits and checks\n",
    "firewalls\n",
    "\n"
   ]
  }
 ],
 "metadata": {
  "language_info": {
   "name": "python"
  }
 },
 "nbformat": 4,
 "nbformat_minor": 2
}
