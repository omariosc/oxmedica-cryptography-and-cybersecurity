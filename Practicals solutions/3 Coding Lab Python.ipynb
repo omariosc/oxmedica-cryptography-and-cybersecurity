{
 "cells": [
  {
   "cell_type": "code",
   "execution_count": 2,
   "metadata": {},
   "outputs": [
    {
     "name": "stdout",
     "output_type": "stream",
     "text": [
      "hello\n"
     ]
    }
   ],
   "source": [
    "print(\"hello\")"
   ]
  },
  {
   "cell_type": "code",
   "execution_count": 3,
   "metadata": {},
   "outputs": [
    {
     "name": "stdout",
     "output_type": "stream",
     "text": [
      "one\n",
      "two\n",
      "three\n",
      "four\n",
      "five\n"
     ]
    }
   ],
   "source": [
    "numbers = ['one','two','three','four','five']\n",
    "for num in numbers:\n",
    "    print(num)"
   ]
  },
  {
   "cell_type": "code",
   "execution_count": 30,
   "metadata": {},
   "outputs": [
    {
     "name": "stdout",
     "output_type": "stream",
     "text": [
      "found\n"
     ]
    }
   ],
   "source": [
    "numbers = [1,2,3,4,5,5]\n",
    "user_input = input(\"pick a number? \")\n",
    "user_input = int(user_input)\n",
    "\n",
    "found = False\n",
    "\n",
    "for num in numbers:\n",
    "    if user_input == num:\n",
    "        print(\"found\")\n",
    "        found = True\n",
    "        break\n",
    "if found == False:\n",
    "    print(\"not found\")"
   ]
  },
  {
   "cell_type": "code",
   "execution_count": 12,
   "metadata": {},
   "outputs": [
    {
     "name": "stdout",
     "output_type": "stream",
     "text": [
      "quit\n"
     ]
    }
   ],
   "source": [
    "msg = ''\n",
    "while msg != 'quit':\n",
    "    msg = input(\"what ya want? \")\n",
    "    print(msg)"
   ]
  },
  {
   "cell_type": "code",
   "execution_count": 23,
   "metadata": {},
   "outputs": [
    {
     "name": "stdout",
     "output_type": "stream",
     "text": [
      "-3\n"
     ]
    }
   ],
   "source": [
    "user_input = input(\"what ya want? \")\n",
    "\n",
    "def add(x, y):\n",
    "    c = x+y\n",
    "    return c\n",
    "\n",
    "def sub(x, y):\n",
    "    c = x-y\n",
    "    return c\n",
    "\n",
    "if user_input == 'Add':\n",
    "    num_input_x = input()\n",
    "    num_input_x = int(num_input_x)\n",
    "    num_input_y = input()\n",
    "    num_input_y = int(num_input_y)\n",
    "    solution = add(num_input_x, num_input_y)\n",
    "elif user_input == 'Sub':\n",
    "    num_input_x = input()\n",
    "    num_input_x = int(num_input_x)\n",
    "    num_input_y = input()\n",
    "    num_input_y = int(num_input_y)\n",
    "    solution = sub(num_input_x, num_input_y)\n",
    "print(solution)"
   ]
  },
  {
   "cell_type": "code",
   "execution_count": 29,
   "metadata": {},
   "outputs": [
    {
     "name": "stdout",
     "output_type": "stream",
     "text": [
      "found\n"
     ]
    }
   ],
   "source": [
    "numbers = [1,2,3,4,5,5,6]\n",
    "num_input = input()\n",
    "num_input = int(num_input)\n",
    "if num_input in numbers:\n",
    "    print(\"found\")\n",
    "else:\n",
    "    print(\"not found\")"
   ]
  },
  {
   "cell_type": "code",
   "execution_count": 1,
   "metadata": {},
   "outputs": [
    {
     "ename": "IndentationError",
     "evalue": "unexpected indent (2432616102.py, line 3)",
     "output_type": "error",
     "traceback": [
      "\u001b[1;36m  Cell \u001b[1;32mIn[1], line 3\u001b[1;36m\u001b[0m\n\u001b[1;33m    conn = sqlite3.connect('example.db')\u001b[0m\n\u001b[1;37m    ^\u001b[0m\n\u001b[1;31mIndentationError\u001b[0m\u001b[1;31m:\u001b[0m unexpected indent\n"
     ]
    }
   ],
   "source": []
  }
 ],
 "metadata": {
  "kernelspec": {
   "display_name": "Python 3",
   "language": "python",
   "name": "python3"
  },
  "language_info": {
   "codemirror_mode": {
    "name": "ipython",
    "version": 3
   },
   "file_extension": ".py",
   "mimetype": "text/x-python",
   "name": "python",
   "nbconvert_exporter": "python",
   "pygments_lexer": "ipython3",
   "version": "3.9.13"
  },
  "orig_nbformat": 4
 },
 "nbformat": 4,
 "nbformat_minor": 2
}
