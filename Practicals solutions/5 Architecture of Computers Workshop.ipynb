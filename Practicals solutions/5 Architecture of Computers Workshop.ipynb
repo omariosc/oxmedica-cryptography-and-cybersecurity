{
 "cells": [
  {
   "cell_type": "markdown",
   "metadata": {},
   "source": [
    "# Practical 5: Architecture of Computers Workshop\n",
    "\n",
    "## Part 2: Interactive Workbook\n",
    "\n",
    "### Exercise 1: Programming Logic Gates\n",
    "\n",
    "Implement Python functions for AND, OR, NOT, NAND, NOR, XOR gates."
   ]
  },
  {
   "cell_type": "code",
   "execution_count": 10,
   "metadata": {},
   "outputs": [
    {
     "name": "stdout",
     "output_type": "stream",
     "text": [
      "ITS False\n"
     ]
    }
   ],
   "source": [
    "def AND(a,b):\n",
    "    \n",
    "    if a == 1 and b == 1:\n",
    "        return True\n",
    "    else:\n",
    "        return False\n",
    "\n",
    "def OR(a,b):\n",
    "    \n",
    "    if a == 1 or b == 1:\n",
    "        return True\n",
    "    else:\n",
    "        return False\n",
    "\n",
    "def NOTA(a):\n",
    "\n",
    "    if a == 0:\n",
    "        return True\n",
    "    else:\n",
    "        return False\n",
    "\n",
    "def NOTB(b):\n",
    "\n",
    "    if b == 0:\n",
    "        return True\n",
    "    else:\n",
    "        return False\n",
    "\n",
    "def NAND(a,b):\n",
    "    \n",
    "    if a == 1 and b == 1:\n",
    "        return False\n",
    "    else:\n",
    "        return True\n",
    "\n",
    "def NOR(a,b):\n",
    "    \n",
    "    if a == 0 and b == 0:\n",
    "        return True\n",
    "    else:\n",
    "        return False\n",
    "\n",
    "def XOR(a,b):\n",
    "    \n",
    "    if a == 1 and b == 1:\n",
    "        return False\n",
    "    elif a == 1 or b == 1:\n",
    "        return True\n",
    "    else:\n",
    "        return False\n",
    "\n",
    "\n",
    "user_input = input(\"What would you like to do? \") \n",
    "\n",
    "user_input_A = int(input(\"enter A\"))\n",
    "user_input_B = int(input(\"enter B\"))\n",
    "\n",
    "if user_input_A not in [1,0] or user_input_B not in [1,0]:\n",
    "        print(\"invalid input ಠ_ಠ\")\n",
    "\n",
    "if user_input == \"AND\":\n",
    "    Result = AND(user_input_A,user_input_B)\n",
    "elif user_input == \"OR\":\n",
    "    Result = OR(user_input_A,user_input_B)\n",
    "elif user_input == \"NOT A\":\n",
    "    Result = NOTA(user_input_A)\n",
    "elif user_input == \"NOT B\":\n",
    "    Result = NOTB(user_input_B)\n",
    "elif user_input == \"NAND\":\n",
    "    Result = NAND(user_input_A,user_input_B)\n",
    "elif user_input == \"NOR\":\n",
    "    Result = NOR(user_input_A,user_input_B)\n",
    "elif user_input == \"XOR\":\n",
    "    Result = XOR(user_input_A,user_input_B)\n",
    "\n",
    "print(f\"Its {Result}\")"
   ]
  },
  {
   "cell_type": "markdown",
   "metadata": {},
   "source": [
    "### Exercise 2: Number Base Conversion\n",
    "\n",
    "Implement Python functions for converting numbers between binary, decimal, and hexadecimal number systems."
   ]
  },
  {
   "cell_type": "code",
   "execution_count": 14,
   "metadata": {},
   "outputs": [
    {
     "name": "stdout",
     "output_type": "stream",
     "text": [
      "Its equal to 1010\n"
     ]
    }
   ],
   "source": [
    "def binary_to_decimal(binary):\n",
    "    i = int(binary, 2)\n",
    "    return i\n",
    "    \n",
    "def decimal_to_binary(decimal):\n",
    "    i = bin(decimal)[2:]\n",
    "    return i\n",
    "def hex_to_binary(ehex):\n",
    "    i = int(ehex, 16)\n",
    "    i = bin(i)\n",
    "    return i\n",
    "    \n",
    "def binary_to_hex(binary):\n",
    "    i = int(binary, 2)\n",
    "    i = hex(i)\n",
    "    return i\n",
    "    \n",
    "def decimal_to_hex(decimal):\n",
    "    i = hex(decimal)\n",
    "    \n",
    "def hex_to_decimal(ehex):\n",
    "    i = int(ehex, 16)\n",
    "    return i\n",
    "\n",
    "user_input_From = input(\"What would you like to convert from? (Hex/Dec?Bin)\")\n",
    "user_input_To = input(\"What would you like to convert to? (Hex/Dec?Bin)\")\n",
    "user_input_3 = input(\"And what value would you like to convert? \")\n",
    "\n",
    "if user_input_From == \"Hex\":\n",
    "    if user_input_To == \"Hex\":\n",
    "        print(\"Nothing to convert??????\")\n",
    "    if user_input_To == \"Dec\":\n",
    "        i=hex_to_decimal(user_input_3)\n",
    "    if user_input_To == \"Bin\":\n",
    "        i=hex_to_binary(user_input_3)\n",
    "\n",
    "if user_input_From == \"Dec\":\n",
    "    if user_input_To == \"Hex\":\n",
    "        i=decimal_to_hex(int(user_input_3))\n",
    "    if user_input_To == \"Dec\":\n",
    "        print(\"Nothing to convert??????\")\n",
    "    if user_input_To == \"Bin\":\n",
    "        i=decimal_to_binary(int(user_input_3))\n",
    "\n",
    "if user_input_From == \"Bin\":\n",
    "    if user_input_To == \"Hex\":\n",
    "        i=binary_to_hex(user_input_3)\n",
    "    if user_input_To == \"Dec\":\n",
    "        i=binary_to_decimal(user_input_3)\n",
    "    if user_input_To == \"Bin\":\n",
    "        print(\"Nothing to convert??????\")\n",
    "\n",
    "\n",
    "\n",
    "print(f\" {str(i)}\")"
   ]
  },
  {
   "cell_type": "markdown",
   "metadata": {},
   "source": [
    "### Exercise 3: Assembly to Python Translator\n",
    "\n",
    "Convert the following examples of assembly code to the relevant Python code.\n",
    "\n",
    "1. Example 1\n",
    "\n",
    "    ```assembly\n",
    "    MOV A, 5\n",
    "    MOV B, 10\n",
    "    ADD A, B\n",
    "    ```"
   ]
  },
  {
   "cell_type": "code",
   "execution_count": null,
   "metadata": {},
   "outputs": [],
   "source": [
    "def assembly_to_python_example_1():\n",
    "    # TODO: Implement assembly to python example 1"
   ]
  },
  {
   "cell_type": "markdown",
   "metadata": {},
   "source": [
    "2. Example 2\n",
    "\n",
    "    ```assembly\n",
    "    MOV A, 5\n",
    "    MOV B, 10\n",
    "    SUB A, B\n",
    "    ```"
   ]
  },
  {
   "cell_type": "code",
   "execution_count": null,
   "metadata": {},
   "outputs": [],
   "source": [
    "def assembly_to_python_example_2():\n",
    "    # TODO: Implement assembly to python example 2"
   ]
  },
  {
   "cell_type": "markdown",
   "metadata": {},
   "source": [
    "3. Example 3\n",
    "\n",
    "    ```assembly\n",
    "    MOV A, 5\n",
    "    MOV B, 10\n",
    "    MUL A, B\n",
    "    ```"
   ]
  },
  {
   "cell_type": "code",
   "execution_count": null,
   "metadata": {},
   "outputs": [],
   "source": [
    "def assembly_to_python_example_3():\n",
    "    # TODO: Implement assembly to python example 3"
   ]
  },
  {
   "cell_type": "markdown",
   "metadata": {},
   "source": [
    "4. Example 4\n",
    "\n",
    "    ```assembly\n",
    "    MOV A, 5\n",
    "    MOV B, 10\n",
    "    DIV A, B\n",
    "    ```"
   ]
  },
  {
   "cell_type": "code",
   "execution_count": null,
   "metadata": {},
   "outputs": [],
   "source": [
    "def assembly_to_python_example_4():\n",
    "    # TODO: Implement assembly to python example 4"
   ]
  },
  {
   "cell_type": "markdown",
   "metadata": {},
   "source": [
    "5. Example 5\n",
    "\n",
    "    ```assembly\n",
    "    MOV A, 5\n",
    "    MOV B, 10\n",
    "    ADD A, B\n",
    "    MOV C, 10\n",
    "    SUB C, A\n",
    "    MUL C, B\n",
    "    ```"
   ]
  },
  {
   "cell_type": "code",
   "execution_count": null,
   "metadata": {},
   "outputs": [],
   "source": [
    "def assembly_to_python_example_5():\n",
    "    # TODO: Implement assembly to python example 5"
   ]
  },
  {
   "cell_type": "markdown",
   "metadata": {},
   "source": [
    "### Exercise 4: Buffer Overflow\n",
    "\n",
    "Implement a Python program that demonstrates a buffer overflow vulnerability. Below is an example using a `for` loop - try to create a buffer overflow vulnerability in the program."
   ]
  },
  {
   "cell_type": "code",
   "execution_count": 2,
   "metadata": {},
   "outputs": [
    {
     "name": "stdout",
     "output_type": "stream",
     "text": [
      "buffer[0] = 0\n",
      "buffer[1] = 1\n",
      "buffer[2] = 2\n",
      "buffer[3] = 3\n",
      "buffer[4] = 4\n",
      "buffer[5] = 5\n",
      "buffer[6] = 6\n",
      "buffer[7] = 7\n",
      "buffer[8] = 8\n"
     ]
    }
   ],
   "source": [
    "def buffer_overflow_example():\n",
    "    buffer = [0] * 10  # Create a buffer with 10 elements\n",
    "    for i in range(9):  # Hint: Try to write beyond the buffer's limit\n",
    "        buffer[i] = i\n",
    "        print(f\"buffer[{i}] = {buffer[i]}\")\n",
    "\n",
    "\n",
    "buffer_overflow_example()"
   ]
  },
  {
   "cell_type": "markdown",
   "metadata": {},
   "source": [
    "Now create your own example without using a `for` loop and explain how the buffer overflow vulnerability can be exploited."
   ]
  },
  {
   "cell_type": "code",
   "execution_count": null,
   "metadata": {},
   "outputs": [],
   "source": [
    "def custom_buffer_overflow():\n",
    "    # TODO: Implement a custom buffer overflow example"
   ]
  },
  {
   "cell_type": "markdown",
   "metadata": {},
   "source": [
    "## Test your code\n",
    "\n",
    "Test your code with the provided test cases. You will have to call the `test()` function to run the test cases."
   ]
  },
  {
   "cell_type": "code",
   "execution_count": null,
   "metadata": {},
   "outputs": [],
   "source": [
    "def test():\n",
    "    # Test AND gate\n",
    "    assert AND(0, 0) == 0\n",
    "    assert AND(0, 1) == 0\n",
    "    assert AND(1, 0) == 0\n",
    "    assert AND(1, 1) == 1\n",
    "    print(\"AND gate test passed\")\n",
    "\n",
    "    # Test OR gate\n",
    "    assert OR(0, 0) == 0\n",
    "    assert OR(0, 1) == 1\n",
    "    assert OR(1, 0) == 1\n",
    "    assert OR(1, 1) == 1\n",
    "    print(\"OR gate test passed\")\n",
    "\n",
    "    # Test NOT gate\n",
    "    assert NOT(0) == 1\n",
    "    assert NOT(1) == 0\n",
    "    print(\"NOT gate test passed\")\n",
    "\n",
    "    # Test NAND gate\n",
    "    assert NAND(0, 0) == 1\n",
    "    assert NAND(0, 1) == 1\n",
    "    assert NAND(1, 0) == 1\n",
    "    assert NAND(1, 1) == 0\n",
    "    print(\"NAND gate test passed\")\n",
    "\n",
    "    # Test NOR gate\n",
    "    assert NOR(0, 0) == 1\n",
    "    assert NOR(0, 1) == 0\n",
    "    assert NOR(1, 0) == 0\n",
    "    assert NOR(1, 1) == 0\n",
    "    print(\"NOR gate test passed\")\n",
    "\n",
    "    # Test XOR gate\n",
    "    assert XOR(0, 0) == 0\n",
    "    assert XOR(0, 1) == 1\n",
    "    assert XOR(1, 0) == 1\n",
    "    assert XOR(1, 1) == 0\n",
    "    print(\"XOR gate test passed\")\n",
    "\n",
    "    # Test binary to decimal conversion\n",
    "    assert binary_to_decimal(\"1010\") == 10\n",
    "    assert binary_to_decimal(\"1111\") == 15\n",
    "    print(\"Binary to decimal conversion test passed\")\n",
    "\n",
    "    # Test decimal to binary conversion\n",
    "    assert decimal_to_binary(10) == \"1010\"\n",
    "    assert decimal_to_binary(15) == \"1111\"\n",
    "    print(\"Decimal to binary conversion test passed\")\n",
    "\n",
    "    # Test hex to binary conversion\n",
    "    assert hex_to_binary(\"A\") == \"1010\"\n",
    "    assert hex_to_binary(\"F\") == \"1111\"\n",
    "    print(\"Hex to binary conversion test passed\")\n",
    "\n",
    "    # Test assembly to python example 1\n",
    "    assert assembly_to_python_example_1() == 15\n",
    "    print(\"Assembly to python example 1 test passed\")\n",
    "    \n",
    "    # Test assembly to python example 2\n",
    "    assert assembly_to_python_example_2() == 10\n",
    "    \n",
    "    # Test assembly to python example 3\n",
    "    assert assembly_to_python_example_3() == 50\n",
    "    \n",
    "    # Test assembly to python example 4\n",
    "    assert assembly_to_python_example_4() == 2\n",
    "    \n",
    "    # Test assembly to python example 5\n",
    "    assert assembly_to_python_example_5() == 50"
   ]
  },
  {
   "cell_type": "markdown",
   "metadata": {},
   "source": [
    "Submit your completed workbook to your GitHub repository."
   ]
  }
 ],
 "metadata": {
  "kernelspec": {
   "display_name": "Python 3",
   "language": "python",
   "name": "python3"
  },
  "language_info": {
   "codemirror_mode": {
    "name": "ipython",
    "version": 3
   },
   "file_extension": ".py",
   "mimetype": "text/x-python",
   "name": "python",
   "nbconvert_exporter": "python",
   "pygments_lexer": "ipython3",
   "version": "3.9.13"
  }
 },
 "nbformat": 4,
 "nbformat_minor": 2
}
