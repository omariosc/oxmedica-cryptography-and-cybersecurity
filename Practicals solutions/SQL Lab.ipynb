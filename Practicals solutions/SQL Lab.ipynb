{
 "cells": [
  {
   "cell_type": "code",
   "execution_count": null,
   "metadata": {},
   "outputs": [],
   "source": [
    "Name = \"Abdulaziz Badr M Aljoaid\""
   ]
  },
  {
   "attachments": {},
   "cell_type": "markdown",
   "metadata": {},
   "source": [
    "SELECT * FROM People;\n",
    "INSERT INTO People (name, ID_number) VALUES ('Tim', '122842');\n",
    "UPDATE Peopel SET ID_number = '1628462' WHERE name = 'James';\n",
    "DELETE FROM People WHERE name = 'James';"
   ]
  },
  {
   "attachments": {},
   "cell_type": "markdown",
   "metadata": {},
   "source": [
    "SELECT * FROM People WHERE Name =\"\" or \"\"=\"\" AND ID_number =\"\" or \"\"=\"\""
   ]
  },
  {
   "attachments": {},
   "cell_type": "markdown",
   "metadata": {},
   "source": [
    "txtSQL = SELECT * FROM People WHERE Name =\"\" or \"\"=\"\" AND ID_number =\"\" or \"\"=\"\""
   ]
  },
  {
   "cell_type": "code",
   "execution_count": 55,
   "metadata": {},
   "outputs": [
    {
     "name": "stdout",
     "output_type": "stream",
     "text": [
      "[(1, 'James', 128566.0), (2, 'James', 128566.0), (3, 'James', 128566.0), (4, 'James', 128566.0), (5, 'James', 128566.0), (6, 'James', 128566.0), (7, 'James', 128566.0), (8, 'James', 128566.0), (9, 'James', 128566.0), (10, 'James', 128566.0), (11, 'James', 128566.0), (12, 'James', 172946.0), (13, 'Tim', 184636.0)]\n"
     ]
    }
   ],
   "source": [
    "import sqlite3\n",
    "\n",
    "##user_input = input(\"What would you like to do? \")\n",
    "\n",
    "conn = sqlite3.connect('example.db')\n",
    "cursor = conn.cursor()\n",
    "# Create a table\n",
    "cursor.execute('''\n",
    "CREATE TABLE IF NOT EXISTS People (\n",
    "    id INTEGER PRIMARY KEY,\n",
    "    name TEXT,\n",
    "    num REAL\n",
    ")\n",
    "''')\n",
    "\n",
    "# Insert data into the table\n",
    "cursor.execute('''\n",
    "INSERT INTO People (name, num) VALUES (?, ?)\n",
    "''', ('James', 172946))\n",
    "\n",
    "cursor.execute('''\n",
    "INSERT INTO People (name, num) VALUES (?, ?)\n",
    "''', ('Tim', 184636))\n",
    "\n",
    "# Select data from the table\n",
    "cursor.execute('SELECT * FROM People')\n",
    "rows = cursor.fetchall()\n",
    "for row in rows:\n",
    "    print(row)\n",
    "\n",
    "# Update data in the table\n",
    "cursor.execute('''\n",
    "UPDATE People SET num = ? WHERE name = ?\n",
    "''', (128566, 'James'))\n",
    "\n",
    "\n",
    "cursor.execute('''\n",
    "DELETE FROM People WHERE name = ?\n",
    "''', ('Tim',))\n",
    "\n",
    "conn.commit()\n",
    "conn.close()"
   ]
  }
 ],
 "metadata": {
  "kernelspec": {
   "display_name": "Python 3",
   "language": "python",
   "name": "python3"
  },
  "language_info": {
   "codemirror_mode": {
    "name": "ipython",
    "version": 3
   },
   "file_extension": ".py",
   "mimetype": "text/x-python",
   "name": "python",
   "nbconvert_exporter": "python",
   "pygments_lexer": "ipython3",
   "version": "3.9.13"
  },
  "orig_nbformat": 4
 },
 "nbformat": 4,
 "nbformat_minor": 2
}
