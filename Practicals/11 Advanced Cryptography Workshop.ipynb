{
 "cells": [
  {
   "cell_type": "markdown",
   "metadata": {},
   "source": [
    "# Practical 11: Advanced Cryptography Labs - Python\n",
    "\n",
    "## Overview\n",
    "\n",
    "This practical exercise is designed to introduce you to advanced cryptographic concepts. We will discuss symmetric ciphers, the RSA algorithm, advanced encryption standards (AES), electronic code books (ECB), and issues with randomness. You will also interact with these concepts using Python. This session will take about 1 hour to complete.\n",
    "\n",
    "## Task\n",
    "\n",
    "### Part 1: Symmetric Ciphers (10 minutes)\n",
    "\n",
    "1. **Introduction to Symmetric Ciphers:**\n",
    "   - Symmetric encryption uses the same key for both encryption and decryption.\n",
    "   - Examples: AES, DES, 3DES."
   ]
  },
  {
   "cell_type": "code",
   "execution_count": null,
   "metadata": {},
   "outputs": [],
   "source": [
    "def pad(s, block_size=16):\n",
    "    pad_len = block_size - len(s) % block_size\n",
    "    return s + chr(pad_len) * pad_len\n",
    "\n",
    "\n",
    "def unpad(s):\n",
    "    return s[: -ord(s[-1])]\n",
    "\n",
    "\n",
    "def xor_bytes(a, b):\n",
    "    return bytes(x ^ y for x, y in zip(a, b))\n",
    "\n",
    "\n",
    "def symmetric_encrypt(message, key):\n",
    "    block_size = 16\n",
    "    message = pad(message)\n",
    "    encrypted_message = b\"\"\n",
    "    previous_block = b\"\\x00\" * block_size\n",
    "    for i in range(0, len(message), block_size):\n",
    "        block = message[i : i + block_size].encode()\n",
    "        block = xor_bytes(block, key)\n",
    "        block = xor_bytes(block, previous_block)\n",
    "        encrypted_message += block\n",
    "        previous_block = block\n",
    "    return encrypted_message\n",
    "\n",
    "\n",
    "def symmetric_decrypt(ciphertext, key):\n",
    "    block_size = 16\n",
    "    decrypted_message = b\"\"\n",
    "    previous_block = b\"\\x00\" * block_size\n",
    "    for i in range(0, len(ciphertext), block_size):\n",
    "        block = ciphertext[i : i + block_size]\n",
    "        decrypted_block = xor_bytes(block, previous_block)\n",
    "        decrypted_block = xor_bytes(decrypted_block, key)\n",
    "        decrypted_message += decrypted_block\n",
    "        previous_block = block\n",
    "    return unpad(decrypted_message.decode())"
   ]
  },
  {
   "cell_type": "markdown",
   "metadata": {},
   "source": [
    "2. **Example Usage:**\n",
    "   - Encrypt and decrypt a message using a simple symmetric cipher."
   ]
  },
  {
   "cell_type": "code",
   "execution_count": null,
   "metadata": {},
   "outputs": [],
   "source": [
    "key = b\"Sixteen byte key\"\n",
    "message = \"This is a secret message\"\n",
    "ciphertext = symmetric_encrypt(message, key)\n",
    "decrypted_message = symmetric_decrypt(ciphertext, key)\n",
    "\n",
    "print(f\"Symmetric Cipher - Plaintext: {message}\")\n",
    "print(f\"Symmetric Cipher - Ciphertext: {ciphertext}\")\n",
    "print(f\"Symmetric Cipher - Decrypted Message: {decrypted_message}\")"
   ]
  },
  {
   "cell_type": "markdown",
   "metadata": {},
   "source": [
    "### Part 2: RSA Algorithm (20 minutes)\n",
    "\n",
    "1. **Introduction to RSA:**\n",
    "   - RSA is an asymmetric encryption algorithm that uses a pair of keys: a public key for encryption and a private key for decryption.\n"
   ]
  },
  {
   "cell_type": "code",
   "execution_count": null,
   "metadata": {},
   "outputs": [],
   "source": [
    "import random\n",
    "\n",
    "\n",
    "def gcd(a, b):\n",
    "    while b != 0:\n",
    "        a, b = b, a % b\n",
    "    return a\n",
    "\n",
    "\n",
    "def multiplicative_inverse(e, phi):\n",
    "    d, x1, x2, y1 = 0, 0, 1, 1\n",
    "    temp_phi = phi\n",
    "    while e > 0:\n",
    "        temp1, temp2 = temp_phi // e, temp_phi - temp_phi // e * e\n",
    "        x, y = x2 - temp1 * x1, d - temp1 * y1\n",
    "        temp_phi, e, x2, x1, d, y1 = e, temp2, x1, x, y1, y\n",
    "    if temp_phi == 1:\n",
    "        return d + phi\n",
    "\n",
    "\n",
    "def is_prime(num):\n",
    "    if num < 2:\n",
    "        return False\n",
    "    for n in range(2, int(num**0.5) + 1):\n",
    "        if num % n == 0:\n",
    "            return False\n",
    "    return True\n",
    "\n",
    "\n",
    "def generate_keypair(p, q):\n",
    "    if not (is_prime(p) and is_prime(q)):\n",
    "        raise ValueError(\"Both numbers must be prime.\")\n",
    "    elif p == q:\n",
    "        raise ValueError(\"p and q cannot be equal\")\n",
    "    n = p * q\n",
    "    phi = (p - 1) * (q - 1)\n",
    "    e = random.randrange(1, phi)\n",
    "    g = gcd(e, phi)\n",
    "    while g != 1:\n",
    "        e = random.randrange(1, phi)\n",
    "        g = gcd(e, phi)\n",
    "    d = multiplicative_inverse(e, phi)\n",
    "    return ((e, n), (d, n))\n",
    "\n",
    "\n",
    "def rsa_encrypt(message, public_key):\n",
    "    key, n = public_key\n",
    "    cipher = [(ord(char) ** key) % n for char in message]\n",
    "    return cipher\n",
    "\n",
    "\n",
    "def rsa_decrypt(ciphertext, private_key):\n",
    "    key, n = private_key\n",
    "    plain = [chr((char**key) % n) for char in ciphertext]\n",
    "    return \"\".join(plain)"
   ]
  },
  {
   "cell_type": "markdown",
   "metadata": {},
   "source": [
    "2. **Example Usage:**\n",
    "   - Encrypt and decrypt a message using RSA."
   ]
  },
  {
   "cell_type": "code",
   "execution_count": null,
   "metadata": {},
   "outputs": [],
   "source": [
    "p = 61\n",
    "q = 53\n",
    "public_key, private_key = generate_keypair(p, q)\n",
    "message = \"This is a secret message\"\n",
    "ciphertext = rsa_encrypt(message, public_key)\n",
    "decrypted_message = rsa_decrypt(ciphertext, private_key)\n",
    "\n",
    "print(f\"RSA - Plaintext: {message}\")\n",
    "print(f\"RSA - Ciphertext: {ciphertext}\")\n",
    "print(f\"RSA - Decrypted Message: {decrypted_message}\")"
   ]
  },
  {
   "cell_type": "markdown",
   "metadata": {},
   "source": [
    "### Part 3: Advanced Encryption Standards (AES) and Electronic Code Book (ECB) Mode (10 minutes)\n",
    "\n",
    "1. **Introduction to AES and ECB:**\n",
    "   - AES is a widely used symmetric encryption standard.\n",
    "   - ECB is a mode of operation for block ciphers, but it has significant security weaknesses."
   ]
  },
  {
   "cell_type": "code",
   "execution_count": null,
   "metadata": {},
   "outputs": [],
   "source": [
    "def aes_ecb_encrypt(message, key):\n",
    "    block_size = 16\n",
    "    message = pad(message)\n",
    "    encrypted_message = b\"\"\n",
    "    for i in range(0, len(message), block_size):\n",
    "        block = message[i : i + block_size].encode()\n",
    "        block = xor_bytes(block, key)\n",
    "        encrypted_message += block\n",
    "    return encrypted_message\n",
    "\n",
    "\n",
    "def aes_ecb_decrypt(ciphertext, key):\n",
    "    block_size = 16\n",
    "    decrypted_message = b\"\"\n",
    "    for i in range(0, len(ciphertext), block_size):\n",
    "        block = ciphertext[i : i + block_size]\n",
    "        block = xor_bytes(block, key)\n",
    "        decrypted_message += block\n",
    "    return unpad(decrypted_message.decode())"
   ]
  },
  {
   "cell_type": "markdown",
   "metadata": {},
   "source": [
    "2. **Example Usage:**\n",
    "   - Encrypt and decrypt a message using AES in ECB mode."
   ]
  },
  {
   "cell_type": "code",
   "execution_count": null,
   "metadata": {},
   "outputs": [],
   "source": [
    "key = b\"Sixteen byte key\"\n",
    "message = \"This is a secret message\"\n",
    "ciphertext = aes_ecb_encrypt(message, key)\n",
    "decrypted_message = aes_ecb_decrypt(ciphertext, key)\n",
    "\n",
    "print(f\"AES ECB - Plaintext: {message}\")\n",
    "print(f\"AES ECB - Ciphertext: {ciphertext}\")\n",
    "print(f\"AES ECB - Decrypted Message: {decrypted_message}\")"
   ]
  },
  {
   "cell_type": "markdown",
   "metadata": {},
   "source": [
    "### Part 4: Issues with Randomness (10 minutes)\n",
    "\n",
    "1. **Introduction to Randomness:**\n",
    "   - Randomness is crucial for secure cryptographic operations.\n",
    "   - Poor sources of randomness can lead to predictable encryption keys and vulnerabilities."
   ]
  },
  {
   "cell_type": "code",
   "execution_count": null,
   "metadata": {},
   "outputs": [],
   "source": [
    "def generate_random_key(length):\n",
    "    return bytes([random.randint(0, 255) for _ in range(length)])"
   ]
  },
  {
   "cell_type": "markdown",
   "metadata": {},
   "source": [
    "2. **Example Usage:**\n",
    "   - Generate a random key and use it for encryption."
   ]
  },
  {
   "cell_type": "code",
   "execution_count": null,
   "metadata": {},
   "outputs": [],
   "source": [
    "random_key = generate_random_key(16)\n",
    "message = \"This is a secret message\"\n",
    "ciphertext = symmetric_encrypt(message, random_key)\n",
    "decrypted_message = symmetric_decrypt(ciphertext, random_key)\n",
    "\n",
    "print(f\"Random Key - Plaintext: {message}\")\n",
    "print(f\"Random Key - Ciphertext: {ciphertext}\")\n",
    "print(f\"Random Key - Decrypted Message: {decrypted_message}\")"
   ]
  },
  {
   "cell_type": "markdown",
   "metadata": {},
   "source": [
    "### Part 5: Exercises (10 minutes)\n",
    "\n",
    "1. **Exercise 1: Implement CBC Mode**\n",
    "   - TODO: Implement encryption and decryption functions for AES in CBC mode.\n",
    "   - TODO: Write a function to demonstrate CBC mode encryption and decryption."
   ]
  },
  {
   "cell_type": "code",
   "execution_count": null,
   "metadata": {},
   "outputs": [],
   "source": [
    "# TODO: Solve Exercise 1"
   ]
  },
  {
   "cell_type": "markdown",
   "metadata": {},
   "source": [
    "2. **Exercise 2: Hybrid Encryption Scheme**\n",
    "   - TODO: Implement a hybrid encryption scheme combining RSA and AES.\n",
    "   - TODO: Write a function that uses RSA to encrypt the AES key and AES to encrypt the message."
   ]
  },
  {
   "cell_type": "code",
   "execution_count": null,
   "metadata": {},
   "outputs": [],
   "source": [
    "# TODO: Solve Exercise 2"
   ]
  },
  {
   "cell_type": "markdown",
   "metadata": {},
   "source": [
    "3. **Exercise 3: RSA Key Management**\n",
    "   - TODO: Write functions to save and load RSA keys from files.\n",
    "   - TODO: Demonstrate encryption and decryption using saved keys."
   ]
  },
  {
   "cell_type": "code",
   "execution_count": null,
   "metadata": {},
   "outputs": [],
   "source": [
    "# TODO: Solve Exercise 3"
   ]
  },
  {
   "cell_type": "markdown",
   "metadata": {},
   "source": [
    "4. **Exercise 4: Analysis of ECB Mode**\n",
    "   - TODO: Write a function to encrypt an image file using AES in ECB mode.\n",
    "   - TODO: Analyze and visualize the security weaknesses of ECB mode with the encrypted image."
   ]
  },
  {
   "cell_type": "code",
   "execution_count": null,
   "metadata": {},
   "outputs": [],
   "source": [
    "# TODO: Solve Exercise 4"
   ]
  },
  {
   "cell_type": "markdown",
   "metadata": {},
   "source": [
    "## Submission\n",
    "\n",
    "- Submit your completed workbook to your GitHub repository."
   ]
  }
 ],
 "metadata": {
  "kernelspec": {
   "display_name": "Python 3",
   "language": "python",
   "name": "python3"
  },
  "language_info": {
   "codemirror_mode": {
    "name": "ipython",
    "version": 3
   },
   "file_extension": ".py",
   "mimetype": "text/x-python",
   "name": "python",
   "nbconvert_exporter": "python",
   "pygments_lexer": "ipython3",
   "version": "3.12.3"
  }
 },
 "nbformat": 4,
 "nbformat_minor": 2
}
