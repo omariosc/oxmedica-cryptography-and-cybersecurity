{
 "cells": [
  {
   "cell_type": "markdown",
   "metadata": {},
   "source": [
    "# Practical 5: Architecture of Computers Workshop\n",
    "\n",
    "## Part 2: Interactive Workbook\n",
    "\n",
    "### Exercise 1: Programming Logic Gates\n",
    "\n",
    "Implement Python functions for AND, OR, NOT, NAND, NOR, XOR gates."
   ]
  },
  {
   "cell_type": "code",
   "execution_count": 2,
   "metadata": {},
   "outputs": [],
   "source": [
    "def AND(a, b):         \n",
    "    return a and b \n",
    "\n",
    "def OR(a, b):\n",
    "    return a or b\n",
    "\n",
    "def NOT(a):\n",
    "    return not a\n",
    "\n",
    "def NAND(a, b):\n",
    "    return not (a and b)\n",
    "\n",
    "def NOR(a, b):\n",
    "    return not (a or b)\n",
    "\n",
    "def XOR(a, b):\n",
    "    if a == b:\n",
    "        return 0\n",
    "    else:\n",
    "        return 1\n"
   ]
  },
  {
   "cell_type": "markdown",
   "metadata": {},
   "source": [
    "### Exercise 2: Number Base Conversion\n",
    "\n",
    "Implement Python functions for converting numbers between binary, decimal, and hexadecimal number systems."
   ]
  },
  {
   "cell_type": "code",
   "execution_count": null,
   "metadata": {},
   "outputs": [],
   "source": [
    "def decimal_to_binary(n):\n",
    "    return bin(n).replace(\"0b\", \"\")\n",
    "\n",
    "def binary_to_decimal(n):\n",
    "    return int(n, 2)\n",
    "\n",
    "def decimal_to_hexadecimal(n):\n",
    "    return hex(n).replace(\"0x\", \"\")\n",
    "\n",
    "def hexadecimal_to_decimal(n):\n",
    "    return int(n, 16)\n",
    "\n",
    "def binary_to_hexadecimal(n):\n",
    "    return hex(int(n, 2)).replace(\"0x\", \"\")\n",
    "\n",
    "def hexadecimal_to_binary(n):\n",
    "    return bin(int(n, 16))[2:]"
   ]
  },
  {
   "attachments": {},
   "cell_type": "markdown",
   "metadata": {},
   "source": [
    "### Exercise 3: Assembly to Python Translator\n",
    "\n",
    "Convert the following examples of assembly code to the relevant Python code.\n",
    "\n",
    "1. Example 1\n",
    "\n",
    "    ```assembly\n",
    "    MOV A, 5\n",
    "    MOV B, 10\n",
    "    ADD A, B\n",
    "    ```"
   ]
  },
  {
   "cell_type": "code",
   "execution_count": 6,
   "metadata": {},
   "outputs": [],
   "source": [
    "def assembly_to_python_example_1():\n",
    "    A = 5\n",
    "    B = 10\n",
    "    A = A + B\n",
    "    return A\n",
    "    # TODO: Implement assembly to python example 1"
   ]
  },
  {
   "cell_type": "markdown",
   "metadata": {},
   "source": [
    "2. Example 2\n",
    "\n",
    "    ```assembly\n",
    "    MOV A, 5\n",
    "    MOV B, 10\n",
    "    SUB A, B\n",
    "    ```"
   ]
  },
  {
   "cell_type": "code",
   "execution_count": null,
   "metadata": {},
   "outputs": [],
   "source": [
    "def assembly_to_python_example_2():\n",
    "    a = 5\n",
    "    b = 10\n",
    "    a -= b\n",
    "    return a\n",
    "    # TODO: Implement assembly to python example 2"
   ]
  },
  {
   "cell_type": "markdown",
   "metadata": {},
   "source": [
    "3. Example 3\n",
    "\n",
    "    ```assembly\n",
    "    MOV A, 5\n",
    "    MOV B, 10\n",
    "    MUL A, B\n",
    "    ```"
   ]
  },
  {
   "cell_type": "code",
   "execution_count": null,
   "metadata": {},
   "outputs": [],
   "source": [
    "def assembly_to_python_example_3():\n",
    "    a = 5\n",
    "    b = 10\n",
    "    result = a * b\n",
    "    return result\n",
    "    # TODO: Implement assembly to python example 3"
   ]
  },
  {
   "cell_type": "markdown",
   "metadata": {},
   "source": [
    "4. Example 4\n",
    "\n",
    "    ```assembly\n",
    "    MOV A, 5\n",
    "    MOV B, 10\n",
    "    DIV A, B\n",
    "    ```"
   ]
  },
  {
   "cell_type": "code",
   "execution_count": null,
   "metadata": {},
   "outputs": [],
   "source": [
    "def assembly_to_python_example_4():\n",
    "    a = 5\n",
    "    b = 10\n",
    "    a = a // b\n",
    "    return a\n",
    "\n",
    "print(assembly_to_python_example_1())\n",
    "\n",
    "    # TODO: Implement assembly to python example 4"
   ]
  },
  {
   "cell_type": "markdown",
   "metadata": {},
   "source": [
    "5. Example 5\n",
    "\n",
    "    ```assembly\n",
    "    MOV A, 5\n",
    "    MOV B, 10\n",
    "    ADD A, B\n",
    "    MOV C, 10\n",
    "    SUB C, A\n",
    "    MUL C, B\n",
    "    ```"
   ]
  },
  {
   "cell_type": "code",
   "execution_count": null,
   "metadata": {},
   "outputs": [],
   "source": [
    "def assembly_to_python_example_5():\n",
    "    a = 5\n",
    "    b = 10\n",
    "    a += b\n",
    "    c = 10\n",
    "    c -= a\n",
    "    c *= b\n",
    "\n",
    "print(assembly_to_python_example_1())\n",
    "    # TODO: Implement assembly to python example 5"
   ]
  },
  {
   "cell_type": "markdown",
   "metadata": {},
   "source": [
    "### Exercise 4: Buffer Overflow\n",
    "\n",
    "Implement a Python program that demonstrates a buffer overflow vulnerability. Below is an example using a `for` loop - try to create a buffer overflow vulnerability in the program."
   ]
  },
  {
   "cell_type": "code",
   "execution_count": 15,
   "metadata": {},
   "outputs": [
    {
     "name": "stdout",
     "output_type": "stream",
     "text": [
      "buffer[0] = 0\n",
      "buffer[1] = 1\n",
      "buffer[2] = 2\n",
      "buffer[3] = 3\n",
      "buffer[4] = 4\n",
      "buffer[5] = 5\n",
      "buffer[6] = 6\n",
      "buffer[7] = 7\n",
      "buffer[8] = 8\n"
     ]
    }
   ],
   "source": [
    "def buffer_overflow_example():\n",
    "    buffer = [0] * 10  # Create a buffer with 10 elements\n",
    "    for i in range(9):  # Hint: Try to write beyond the buffer's limit\n",
    "        buffer[i] = i\n",
    "        print(f\"buffer[{i}] = {buffer[i]}\")\n",
    "\n",
    "\n",
    "buffer_overflow_example()     "
   ]
  },
  {
   "cell_type": "markdown",
   "metadata": {},
   "source": [
    "Now create your own example without using a `for` loop and explain how the buffer overflow vulnerability can be exploited."
   ]
  },
  {
   "cell_type": "code",
   "execution_count": 17,
   "metadata": {},
   "outputs": [
    {
     "name": "stdout",
     "output_type": "stream",
     "text": [
      "AAAAAAAAAA This is a buffer overflow attack!\n"
     ]
    }
   ],
   "source": [
    "def vulnerable_function(buffer):\n",
    "    result = \"A\" * 10  # Fill the buffer with 'A's\n",
    "    result += buffer\n",
    "    return result\n",
    "\n",
    "def main():\n",
    "    buffer = \" This is a buffer overflow attack!\"  # Create a buffer that's larger than 10 bytes\n",
    "    result = vulnerable_function(buffer)\n",
    "    print(result)\n",
    "\n",
    "if __name__ == \"__main__\":\n",
    "    main()"
   ]
  },
  {
   "cell_type": "markdown",
   "metadata": {},
   "source": [
    "## Test your code\n",
    "\n",
    "Test your code with the provided test cases. You will have to call the `test()` function to run the test cases."
   ]
  },
  {
   "cell_type": "code",
   "execution_count": 23,
   "metadata": {},
   "outputs": [],
   "source": [
    "def test():\n",
    "    # Test AND gate\n",
    "    assert AND(0, 0) == 0\n",
    "    assert AND(0, 1) == 0\n",
    "    assert AND(1, 0) == 0\n",
    "    assert AND(1, 1) == 1\n",
    "    print(\"AND gate test passed\")\n",
    "\n",
    "    # Test OR gate\n",
    "    assert OR(0, 0) == 0\n",
    "    assert OR(0, 1) == 1\n",
    "    assert OR(1, 0) == 1\n",
    "    assert OR(1, 1) == 1\n",
    "    print(\"OR gate test passed\")\n",
    "\n",
    "    # Test NOT gate\n",
    "    assert NOT(0) == 1\n",
    "    assert NOT(1) == 0\n",
    "    print(\"NOT gate test passed\")\n",
    "\n",
    "    # Test NAND gate\n",
    "    assert NAND(0, 0) == 1\n",
    "    assert NAND(0, 1) == 1\n",
    "    assert NAND(1, 0) == 1\n",
    "    assert NAND(1, 1) == 0\n",
    "    print(\"NAND gate test passed\")\n",
    "\n",
    "    # Test NOR gate\n",
    "    assert NOR(0, 0) == 1\n",
    "    assert NOR(0, 1) == 0\n",
    "    assert NOR(1, 0) == 0\n",
    "    assert NOR(1, 1) == 0\n",
    "    print(\"NOR gate test passed\")\n",
    "\n",
    "    # Test XOR gate\n",
    "    assert XOR(0, 0) == 0\n",
    "    assert XOR(0, 1) == 1\n",
    "    assert XOR(1, 0) == 1\n",
    "    assert XOR(1, 1) == 0\n",
    "    print(\"XOR gate test passed\")\n",
    "\n",
    "    # Test binary to decimal conversion\n",
    "    assert binary_to_decimal(\"1010\") == 10\n",
    "    assert binary_to_decimal(\"1111\") == 15\n",
    "    print(\"Binary to decimal conversion test passed\")\n",
    "\n",
    "    # Test decimal to binary conversion\n",
    "    assert decimal_to_binary(10) == \"1010\"\n",
    "    assert decimal_to_binary(15) == \"1111\"\n",
    "    print(\"Decimal to binary conversion test passed\")\n",
    "\n",
    "    # Test hex to binary conversion\n",
    "    assert hex_to_binary(\"A\") == \"1010\"\n",
    "    assert hex_to_binary(\"F\") == \"1111\"\n",
    "    print(\"Hex to binary conversion test passed\")\n",
    "\n",
    "    # Test assembly to python example 1\n",
    "    assert assembly_to_python_example_1() == 15\n",
    "    print(\"Assembly to python example 1 test passed\")\n",
    "    \n",
    "    # Test assembly to python example 2\n",
    "    assert assembly_to_python_example_2() == 10\n",
    "    \n",
    "    # Test assembly to python example 3\n",
    "    assert assembly_to_python_example_3() == 50\n",
    "    \n",
    "    # Test assembly to python example 4\n",
    "    assert assembly_to_python_example_4() == 2\n",
    "    \n",
    "    # Test assembly to python example 5\n",
    "    assert assembly_to_python_example_5() == 50"
   ]
  },
  {
   "cell_type": "markdown",
   "metadata": {},
   "source": [
    "Submit your completed workbook to your GitHub repository."
   ]
  },
  {
   "cell_type": "code",
   "execution_count": 22,
   "metadata": {},
   "outputs": [
    {
     "ename": "NameError",
     "evalue": "name 'AND' is not defined",
     "output_type": "error",
     "traceback": [
      "\u001b[1;31m---------------------------------------------------------------------------\u001b[0m",
      "\u001b[1;31mNameError\u001b[0m                                 Traceback (most recent call last)",
      "Cell \u001b[1;32mIn[22], line 1\u001b[0m\n\u001b[1;32m----> 1\u001b[0m test()\n",
      "Cell \u001b[1;32mIn[21], line 3\u001b[0m, in \u001b[0;36mtest\u001b[1;34m()\u001b[0m\n\u001b[0;32m      1\u001b[0m \u001b[39mdef\u001b[39;00m \u001b[39mtest\u001b[39m():\n\u001b[0;32m      2\u001b[0m     \u001b[39m# Test AND gate\u001b[39;00m\n\u001b[1;32m----> 3\u001b[0m     \u001b[39massert\u001b[39;00m AND(\u001b[39m0\u001b[39m, \u001b[39m0\u001b[39m) \u001b[39m==\u001b[39m \u001b[39m0\u001b[39m\n\u001b[0;32m      4\u001b[0m     \u001b[39massert\u001b[39;00m AND(\u001b[39m0\u001b[39m, \u001b[39m1\u001b[39m) \u001b[39m==\u001b[39m \u001b[39m0\u001b[39m\n\u001b[0;32m      5\u001b[0m     \u001b[39massert\u001b[39;00m AND(\u001b[39m1\u001b[39m, \u001b[39m0\u001b[39m) \u001b[39m==\u001b[39m \u001b[39m0\u001b[39m\n",
      "\u001b[1;31mNameError\u001b[0m: name 'AND' is not defined"
     ]
    }
   ],
   "source": [
    "test()"
   ]
  }
 ],
 "metadata": {
  "kernelspec": {
   "display_name": "Python 3",
   "language": "python",
   "name": "python3"
  },
  "language_info": {
   "codemirror_mode": {
    "name": "ipython",
    "version": 3
   },
   "file_extension": ".py",
   "mimetype": "text/x-python",
   "name": "python",
   "nbconvert_exporter": "python",
   "pygments_lexer": "ipython3",
   "version": "3.9.7"
  }
 },
 "nbformat": 4,
 "nbformat_minor": 2
}
