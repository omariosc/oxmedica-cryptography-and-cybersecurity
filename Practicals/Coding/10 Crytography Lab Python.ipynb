{
 "cells": [
  {
   "cell_type": "markdown",
   "metadata": {},
   "source": [
    "# Practical 10: Cryptography Labs - Python\n",
    "\n",
    "## Overview\n",
    "\n",
    "This practical exercise is designed to show you how to actually encrypt a message using Python. You will implement encryption algorithms in Python. This session will take about 30 minutes to complete.\n",
    "\n",
    "## Task\n",
    "\n",
    "### Part 1: Caesar Cipher\n",
    "\n",
    "1. **Introduction to Caesar Cipher:**\n",
    "   - The Caesar Cipher is a substitution cipher where each letter in the plaintext is shifted a certain number of places down the alphabet.\n",
    "   - Example: With a shift of 3, 'A' becomes 'D', 'B' becomes 'E', and so on.\n"
   ]
  },
  {
   "cell_type": "code",
   "execution_count": null,
   "metadata": {},
   "outputs": [],
   "source": [
    "def caesar_encrypt(plaintext, key):\n",
    "    ciphertext = \"\"\n",
    "    for char in plaintext:\n",
    "        if char.isalpha():\n",
    "            shift = ord(\"A\") if char.isupper() else ord(\"a\")\n",
    "            ciphertext += chr((ord(char) - shift + key) % 26 + shift)\n",
    "        else:\n",
    "            ciphertext += char\n",
    "    return ciphertext\n",
    "\n",
    "\n",
    "def caesar_decrypt(ciphertext, key):\n",
    "    return caesar_encrypt(ciphertext, -key)"
   ]
  },
  {
   "cell_type": "markdown",
   "metadata": {},
   "source": [
    "2. **Example Usage:**\n",
    "   - Encrypt and decrypt a message using the Caesar Cipher."
   ]
  },
  {
   "cell_type": "code",
   "execution_count": null,
   "metadata": {},
   "outputs": [],
   "source": [
    "plaintext = \"HELLO\"\n",
    "key = 3\n",
    "ciphertext = caesar_encrypt(plaintext, key)\n",
    "decrypted_text = caesar_decrypt(ciphertext, key)\n",
    "\n",
    "print(f\"Caesar Cipher - Plaintext: {plaintext}\")\n",
    "print(f\"Caesar Cipher - Ciphertext: {ciphertext}\")\n",
    "print(f\"Caesar Cipher - Decrypted Text: {decrypted_text}\")"
   ]
  },
  {
   "cell_type": "markdown",
   "metadata": {},
   "source": [
    "### Part 2: Vigenère Cipher\n",
    "\n",
    "1. **Introduction to Vigenère Cipher:**\n",
    "   - The Vigenère Cipher is a more complex form of substitution cipher that uses a keyword to shift letters by different amounts.\n"
   ]
  },
  {
   "cell_type": "code",
   "execution_count": null,
   "metadata": {},
   "outputs": [],
   "source": [
    "def vigenere_encrypt(plaintext, keyword):\n",
    "    ciphertext = \"\"\n",
    "    keyword = keyword.upper()\n",
    "    keyword_length = len(keyword)\n",
    "    keyword_index = 0\n",
    "\n",
    "    for char in plaintext:\n",
    "        if char.isalpha():\n",
    "            shift = ord(\"A\") if char.isupper() else ord(\"a\")\n",
    "            key_char = keyword[keyword_index % keyword_length]\n",
    "            key_shift = ord(key_char) - ord(\"A\")\n",
    "            ciphertext += chr((ord(char) - shift + key_shift) % 26 + shift)\n",
    "            keyword_index += 1\n",
    "        else:\n",
    "            ciphertext += char\n",
    "\n",
    "    return ciphertext\n",
    "\n",
    "\n",
    "def vigenere_decrypt(ciphertext, keyword):\n",
    "    plaintext = \"\"\n",
    "    keyword = keyword.upper()\n",
    "    keyword_length = len(keyword)\n",
    "    keyword_index = 0\n",
    "\n",
    "    for char in ciphertext:\n",
    "        if char.isalpha():\n",
    "            shift = ord(\"A\") if char.isupper() else ord(\"a\")\n",
    "            key_char = keyword[keyword_index % keyword_length]\n",
    "            key_shift = ord(key_char) - ord(\"A\")\n",
    "            plaintext += chr((ord(char) - shift - key_shift + 26) % 26 + shift)\n",
    "            keyword_index += 1\n",
    "        else:\n",
    "            plaintext += char\n",
    "\n",
    "    return plaintext"
   ]
  },
  {
   "cell_type": "markdown",
   "metadata": {},
   "source": [
    "2. **Example Usage:**\n",
    "   - Encrypt and decrypt a message using the Vigenère Cipher."
   ]
  },
  {
   "cell_type": "code",
   "execution_count": null,
   "metadata": {},
   "outputs": [],
   "source": [
    "plaintext = \"ATTACKATDAWN\"\n",
    "keyword = \"KEY\"\n",
    "ciphertext = vigenere_encrypt(plaintext, keyword)\n",
    "decrypted_text = vigenere_decrypt(ciphertext, keyword)\n",
    "\n",
    "print(f\"Vigenère Cipher - Plaintext: {plaintext}\")\n",
    "print(f\"Vigenère Cipher - Ciphertext: {ciphertext}\")\n",
    "print(f\"Vigenère Cipher - Decrypted Text: {decrypted_text}\")"
   ]
  },
  {
   "cell_type": "markdown",
   "metadata": {},
   "source": [
    "### Part 3: Substitution Cipher\n",
    "\n",
    "1. **Introduction to Substitution Cipher:**\n",
    "   - A substitution cipher is a method of encryption by which units of plaintext are replaced with ciphertext according to a fixed system.\n"
   ]
  },
  {
   "cell_type": "code",
   "execution_count": null,
   "metadata": {},
   "outputs": [],
   "source": [
    "def substitution_encrypt(plaintext, substitution_alphabet):\n",
    "    alphabet = \"ABCDEFGHIJKLMNOPQRSTUVWXYZ\"\n",
    "    substitution_dict = dict(zip(alphabet, substitution_alphabet.upper()))\n",
    "    ciphertext = \"\"\n",
    "\n",
    "    for char in plaintext.upper():\n",
    "        if char in substitution_dict:\n",
    "            ciphertext += substitution_dict[char]\n",
    "        else:\n",
    "            ciphertext += char\n",
    "\n",
    "    return ciphertext\n",
    "\n",
    "\n",
    "def substitution_decrypt(ciphertext, substitution_alphabet):\n",
    "    alphabet = \"ABCDEFGHIJKLMNOPQRSTUVWXYZ\"\n",
    "    substitution_dict = dict(zip(substitution_alphabet.upper(), alphabet))\n",
    "    plaintext = \"\"\n",
    "\n",
    "    for char in ciphertext.upper():\n",
    "        if char in substitution_dict:\n",
    "            plaintext += substitution_dict[char]\n",
    "        else:\n",
    "            plaintext += char\n",
    "\n",
    "    return plaintext"
   ]
  },
  {
   "cell_type": "markdown",
   "metadata": {},
   "source": [
    "2. **Example Usage:**\n",
    "   - Encrypt and decrypt a message using the Substitution Cipher.\n"
   ]
  },
  {
   "cell_type": "code",
   "execution_count": null,
   "metadata": {},
   "outputs": [],
   "source": [
    "plaintext = \"ENCRYPTIONISFUN\"\n",
    "substitution_alphabet = \"QWERTYUIOPLKJHGFDSAZXCVBNM\"\n",
    "ciphertext = substitution_encrypt(plaintext, substitution_alphabet)\n",
    "decrypted_text = substitution_decrypt(ciphertext, substitution_alphabet)\n",
    "\n",
    "print(f\"Substitution Cipher - Plaintext: {plaintext}\")\n",
    "print(f\"Substitution Cipher - Ciphertext: {ciphertext}\")\n",
    "print(f\"Substitution Cipher - Decrypted Text: {decrypted_text}\")"
   ]
  },
  {
   "cell_type": "markdown",
   "metadata": {},
   "source": [
    "### Part 4: Exercises (30 minutes)\n",
    "\n",
    "1. **Exercise 1: Modify Caesar Cipher**\n",
    "   - TODO: Modify the `caesar_encrypt` function to handle both uppercase and lowercase letters properly.\n",
    "   - TODO: Implement a function `caesar_brute_force` that tries all possible keys to decrypt a given ciphertext."
   ]
  },
  {
   "cell_type": "code",
   "execution_count": null,
   "metadata": {},
   "outputs": [],
   "source": [
    "# TODO: Solve Exercise 1"
   ]
  },
  {
   "cell_type": "markdown",
   "metadata": {},
   "source": [
    "2. **Exercise 2: Extend Vigenère Cipher**\n",
    "   - TODO: Modify the `vigenere_encrypt` function to ignore non-alphabet characters in the plaintext but include them in the ciphertext.\n",
    "   - TODO: Write a function `vigenere_frequency_analysis` to perform frequency analysis on the ciphertext to guess the keyword length."
   ]
  },
  {
   "cell_type": "code",
   "execution_count": null,
   "metadata": {},
   "outputs": [],
   "source": [
    "# TODO: Solve Exercise 2"
   ]
  },
  {
   "cell_type": "markdown",
   "metadata": {},
   "source": [
    "3. **Exercise 3: Create a New Substitution Cipher**\n",
    "   - TODO: Implement a function `random_substitution_alphabet` that generates a random substitution alphabet.\n",
    "   - TODO: Use this function to encrypt and decrypt a message with a randomly generated substitution alphabet."
   ]
  },
  {
   "cell_type": "code",
   "execution_count": null,
   "metadata": {},
   "outputs": [],
   "source": [
    "# TODO: Solve Exercise 3"
   ]
  },
  {
   "cell_type": "markdown",
   "metadata": {},
   "source": [
    "4. **Exercise 4: Implement a Simple Transposition Cipher**\n",
    "   - TODO: Write functions `transposition_encrypt` and `transposition_decrypt` to implement a simple transposition cipher.\n",
    "   - Example: \"HELLO WORLD\" -> \"HWEOLRLLDO\""
   ]
  },
  {
   "cell_type": "code",
   "execution_count": null,
   "metadata": {},
   "outputs": [],
   "source": [
    "# TODO: Solve Exercise 4"
   ]
  },
  {
   "cell_type": "markdown",
   "metadata": {},
   "source": [
    "## Summary\n",
    "\n",
    "- The Caesar Cipher is a simple substitution cipher that shifts each letter by a fixed value.\n",
    "- The Vigenère Cipher is a more complex substitution cipher that uses a keyword to shift letters by different amounts.\n",
    "- The Substitution Cipher replaces each letter in the plaintext with a corresponding letter in the substitution alphabet.\n",
    "\n",
    "## Submission\n",
    "\n",
    "- Submit your completed workbook to your GitHub repository.\n"
   ]
  }
 ],
 "metadata": {
  "language_info": {
   "name": "python"
  }
 },
 "nbformat": 4,
 "nbformat_minor": 2
}
