{
 "cells": [
  {
   "cell_type": "markdown",
   "metadata": {},
   "source": [
    "# Practical 16: Brute Force Lab Python\n",
    "\n",
    "## Overview\n",
    "\n",
    "This practical exercise is designed to show you how to perform brute force attacks using Python. You will learn how to implement a basic brute force attack on a simple password system. This session will take about 1 hour to complete.\n",
    "\n",
    "## Task\n",
    "\n",
    "### Part 1: Introduction to Brute Force Attacks (10 minutes)\n",
    "\n",
    "1. **What is a Brute Force Attack?**\n",
    "   - A brute force attack is a trial-and-error method used to decode encrypted data such as passwords or Data Encryption Standard (DES) keys.\n",
    "   - In a brute force attack, automated software is used to generate a large number of consecutive guesses as to the value of the desired data.\n",
    "\n",
    "2. **Basic Concepts:**\n",
    "   - **Password Hashing:** A method to securely store passwords by converting them into fixed-size strings of characters, which are typically much shorter than the original password.\n",
    "   - **Dictionary Attack:** A type of brute force attack where the attacker uses a predefined list of potential passwords (a dictionary).\n",
    "\n",
    "### Part 2: Implementing a Simple Brute Force Attack (20 minutes)\n",
    "\n",
    "1. **Set Up a Simple Password System:**"
   ]
  },
  {
   "cell_type": "code",
   "execution_count": null,
   "metadata": {},
   "outputs": [],
   "source": [
    "import hashlib\n",
    "\n",
    "\n",
    "# Hashing a password using SHA-256\n",
    "def hash_password(password):\n",
    "    return hashlib.sha256(password.encode()).hexdigest()\n",
    "\n",
    "\n",
    "# Example password hash (password is 'password123')\n",
    "password_hash = hash_password(\"password123\")"
   ]
  },
  {
   "cell_type": "code",
   "execution_count": null,
   "metadata": {},
   "outputs": [],
   "source": [
    "import itertools\n",
    "import string\n",
    "\n",
    "\n",
    "def brute_force_attack(hash_to_crack, max_length=4):\n",
    "    characters = string.ascii_lowercase + string.digits\n",
    "    for length in range(1, max_length + 1):\n",
    "        for guess in itertools.product(characters, repeat=length):\n",
    "            guess = \"\".join(guess)\n",
    "            guess_hash = hash_password(guess)\n",
    "            if guess_hash == hash_to_crack:\n",
    "                return guess\n",
    "    return None"
   ]
  },
  {
   "cell_type": "markdown",
   "metadata": {},
   "source": [
    "3. **Example Usage:**\n",
    "   - Perform a brute force attack to crack the password."
   ]
  },
  {
   "cell_type": "code",
   "execution_count": null,
   "metadata": {},
   "outputs": [],
   "source": [
    "max_length = 4\n",
    "cracked_password = brute_force_attack(password_hash, max_length)\n",
    "print(f\"Cracked Password: {cracked_password}\")"
   ]
  },
  {
   "cell_type": "markdown",
   "metadata": {},
   "source": [
    "### Part 3: Dictionary Attack (20 minutes)\n",
    "\n",
    "1. **Set Up a Dictionary of Common Passwords:**"
   ]
  },
  {
   "cell_type": "code",
   "execution_count": null,
   "metadata": {},
   "outputs": [],
   "source": [
    "common_passwords = [\n",
    "    \"123456\",\n",
    "    \"password\",\n",
    "    \"123456789\",\n",
    "    \"12345678\",\n",
    "    \"12345\",\n",
    "    \"1234567\",\n",
    "    \"password1\",\n",
    "    \"1234\",\n",
    "]"
   ]
  },
  {
   "cell_type": "markdown",
   "metadata": {},
   "source": [
    "2. **Implementing the Dictionary Attack:**\n",
    "   - Write a function to perform a dictionary attack using the list of common passwords.\n",
    "\n"
   ]
  },
  {
   "cell_type": "code",
   "execution_count": null,
   "metadata": {},
   "outputs": [],
   "source": [
    "def dictionary_attack(hash_to_crack, dictionary):\n",
    "    for guess in dictionary:\n",
    "        guess_hash = hash_password(guess)\n",
    "        if guess_hash == hash_to_crack:\n",
    "            return guess\n",
    "    return None"
   ]
  },
  {
   "cell_type": "markdown",
   "metadata": {},
   "source": [
    "3. **Example Usage:**\n",
    "   - Perform a dictionary attack to crack the password."
   ]
  },
  {
   "cell_type": "code",
   "execution_count": null,
   "metadata": {},
   "outputs": [],
   "source": [
    "cracked_password = dictionary_attack(password_hash, common_passwords)\n",
    "print(f\"Cracked Password (Dictionary Attack): {cracked_password}\")"
   ]
  },
  {
   "cell_type": "markdown",
   "metadata": {},
   "source": [
    "### Part 4: Exercises (10 minutes)\n",
    "\n",
    "1. **Exercise 1: Enhance Brute Force Attack**\n",
    "   - TODO: Modify the `brute_force_attack` function to handle uppercase letters and special characters.\n"
   ]
  },
  {
   "cell_type": "code",
   "execution_count": null,
   "metadata": {},
   "outputs": [],
   "source": [
    "# TODO: Solve Exercise 1"
   ]
  },
  {
   "cell_type": "markdown",
   "metadata": {},
   "source": [
    "2. **Exercise 2: Implement a Reverse Brute Force Attack**\n",
    "   - TODO: Write a function to perform a reverse brute force attack where you start with a known hash and try to find a matching password from a large dataset.\n"
   ]
  },
  {
   "cell_type": "code",
   "execution_count": null,
   "metadata": {},
   "outputs": [],
   "source": [
    "# TODO: Solve Exercise 2"
   ]
  },
  {
   "cell_type": "markdown",
   "metadata": {},
   "source": [
    "3. **Exercise 3: Time Complexity Analysis**\n",
    "   - TODO: Measure the time complexity of both the brute force and dictionary attacks by calculating the time taken to crack different passwords of varying lengths.\n"
   ]
  },
  {
   "cell_type": "code",
   "execution_count": null,
   "metadata": {},
   "outputs": [],
   "source": [
    "# TODO: Solve Exercise 3"
   ]
  },
  {
   "cell_type": "markdown",
   "metadata": {},
   "source": [
    "4. **Exercise 4: Securing Passwords**\n",
    "   - TODO: Research and implement techniques to secure passwords against brute force attacks (e.g., salting, key stretching).\n"
   ]
  },
  {
   "cell_type": "code",
   "execution_count": null,
   "metadata": {},
   "outputs": [],
   "source": [
    "# TODO: Solve Exercise 4"
   ]
  },
  {
   "cell_type": "markdown",
   "metadata": {},
   "source": [
    "## Summary\n",
    "\n",
    "- You have learned about brute force attacks and how they work.\n",
    "- You have implemented a basic brute force attack and a dictionary attack in Python.\n",
    "- You have explored different methods to enhance and analyze brute force attacks.\n",
    "- You have researched techniques to secure passwords against brute force attacks."
   ]
  }
 ],
 "metadata": {
  "language_info": {
   "name": "python"
  }
 },
 "nbformat": 4,
 "nbformat_minor": 2
}
