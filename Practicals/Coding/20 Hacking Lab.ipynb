{
 "cells": [
  {
   "cell_type": "markdown",
   "metadata": {},
   "source": [
    "# Practical 20: Hacking Lab Python\n",
    "\n",
    "## Overview\n",
    "\n",
    "This practical exercise is designed to help you understand and implement the theory learnt in the threat-vectors session through hands-on exercises. You will perform a series of tasks that simulate common hacking techniques and explore how to protect against them. This session will take about 30 minutes to complete.\n",
    "\n",
    "## Task\n",
    "\n",
    "### Part 1: Brute Force Attack on a Password (5 minutes)\n",
    "\n",
    "1. **Set Up a Simple Password System:**"
   ]
  },
  {
   "cell_type": "code",
   "execution_count": null,
   "metadata": {},
   "outputs": [],
   "source": [
    "import hashlib\n",
    "\n",
    "\n",
    "def hash_password(password):\n",
    "    return hashlib.sha256(password.encode()).hexdigest()\n",
    "\n",
    "\n",
    "# Example password hash (password is 'password123')\n",
    "password_hash = hash_password(\"password123\")"
   ]
  },
  {
   "cell_type": "markdown",
   "metadata": {},
   "source": [
    "2. **Implementing a Brute Force Attack:**"
   ]
  },
  {
   "cell_type": "code",
   "execution_count": null,
   "metadata": {},
   "outputs": [],
   "source": [
    "import itertools\n",
    "import string\n",
    "\n",
    "\n",
    "def brute_force_attack(hash_to_crack, max_length=4):\n",
    "    characters = string.ascii_lowercase + string.digits\n",
    "    for length in range(1, max_length + 1):\n",
    "        for guess in itertools.product(characters, repeat=length):\n",
    "            guess = \"\".join(guess)\n",
    "            guess_hash = hash_password(guess)\n",
    "            if guess_hash == hash_to_crack:\n",
    "                return guess\n",
    "    return None"
   ]
  },
  {
   "cell_type": "markdown",
   "metadata": {},
   "source": [
    "3. **Exercise 1: Brute Force Attack (Recap):**\n",
    "   - Perform a brute force attack to crack the password.\n",
    "\n",
    "<!-- \n",
    "max_length = 4\n",
    "cracked_password = brute_force_attack(password_hash, max_length)\n",
    "print(f\"Cracked Password: {cracked_password}\")\n",
    "   -->"
   ]
  },
  {
   "cell_type": "code",
   "execution_count": null,
   "metadata": {},
   "outputs": [],
   "source": [
    "# TODO: Solve Exercise 1"
   ]
  },
  {
   "cell_type": "markdown",
   "metadata": {},
   "source": [
    "4. **Exercise 2:**\n",
    "   - Enhance the `brute_force_attack` function to include uppercase letters and special characters in the character set."
   ]
  },
  {
   "cell_type": "code",
   "execution_count": null,
   "metadata": {},
   "outputs": [],
   "source": [
    "# TODO: Solve Exercise 2"
   ]
  },
  {
   "cell_type": "markdown",
   "metadata": {},
   "source": [
    "### Part 2: SQL Injection Simulation (10 minutes)\n",
    "\n",
    "1. **Set Up a Simple SQL Query:**\n",
    "   - Simulate an SQL query that is vulnerable to SQL injection."
   ]
  },
  {
   "cell_type": "code",
   "execution_count": null,
   "metadata": {},
   "outputs": [],
   "source": [
    "def simulate_sql_query(user_input):\n",
    "    query = f\"SELECT * FROM users WHERE username = '{user_input}'\"\n",
    "    return query"
   ]
  },
  {
   "cell_type": "markdown",
   "metadata": {},
   "source": [
    "2. **Exercise 3: SQL Injection (Recap):**\n",
    "   - Show how a malicious input can exploit the SQL query.\n",
    "\n",
    "<!-- \n",
    "user_input = \"admin' OR '1'='1\"\n",
    "malicious_query = simulate_sql_query(user_input)\n",
    "print(f\"Malicious SQL Query: {malicious_query}\")\n",
    " -->"
   ]
  },
  {
   "cell_type": "code",
   "execution_count": null,
   "metadata": {},
   "outputs": [],
   "source": [
    "# TODO: Solve Exercise 3"
   ]
  },
  {
   "cell_type": "markdown",
   "metadata": {},
   "source": [
    "3. **Secure the SQL Query:**\n",
    "   - Modify the function to use parameterized queries to prevent SQL injection."
   ]
  },
  {
   "cell_type": "code",
   "execution_count": null,
   "metadata": {},
   "outputs": [],
   "source": [
    "def secure_sql_query(user_input):\n",
    "    query = \"SELECT * FROM users WHERE username = %s\"\n",
    "    parameters = (user_input,)\n",
    "    return query, parameters"
   ]
  },
  {
   "cell_type": "markdown",
   "metadata": {},
   "source": [
    "4. **Exercise 4:**\n",
    "   - Test the `secure_sql_query` function with a malicious input."
   ]
  },
  {
   "cell_type": "code",
   "execution_count": null,
   "metadata": {},
   "outputs": [],
   "source": [
    "# TODO: Solve Exercise 4"
   ]
  },
  {
   "cell_type": "markdown",
   "metadata": {},
   "source": [
    "### Part 3: Phishing Simulation (5 minutes)\n",
    "\n",
    "1. **Exercise 5: Create a Simple Phishing Email:**\n",
    "   - Write a function to generate a phishing email that looks like it is from a legitimate source."
   ]
  },
  {
   "cell_type": "code",
   "execution_count": null,
   "metadata": {},
   "outputs": [],
   "source": [
    "# TODO: Solve Exercise 5\n",
    "def generate_phishing_email():\n",
    "    email = \"\"\"\n",
    "    Dear ...\n",
    "    \n",
    "    ...\n",
    "    \"\"\"\n",
    "    return email"
   ]
  },
  {
   "cell_type": "markdown",
   "metadata": {},
   "source": [
    "2. **Exercise 6: Educate Users on Phishing Detection:**\n",
    "   - Discuss common signs of phishing emails and how to avoid falling victim to them.\n",
    "   - Encourage users to verify the sender's email address, check for spelling and grammar mistakes, and avoid clicking on suspicious links.\n"
   ]
  },
  {
   "cell_type": "markdown",
   "metadata": {},
   "source": [
    "// TODO: Solve Exercise 6\n",
    "\n",
    "(Note this is in md and not python code, so it won't run.)"
   ]
  },
  {
   "cell_type": "markdown",
   "metadata": {},
   "source": [
    "### Part 4: Additional Threat Vectors (10 minutes)\n",
    "\n",
    "1. **Cross-Site Scripting (XSS):**\n",
    "   - Write a function to simulate an XSS attack by injecting a malicious script into a web page.\n",
    "   - Example\n",
    "   \n",
    "        ```py\n",
    "        def simulate_xss(user_input):\n",
    "            web_page = f\"<html><body>Welcome {user_input}</body></html>\"\n",
    "            return web_page\n",
    "        ```\n",
    "2. **Example of XSS:**\n",
    "   - Show how a malicious input can exploit the web page.\n",
    "   - Example\n",
    "   \n",
    "        ```py\n",
    "        user_input = \"<script>alert('Hacked!');</script>\"\n",
    "        malicious_page = simulate_xss(user_input)\n",
    "        print(f\"Malicious Web Page: {malicious_page}\")\n",
    "        ```"
   ]
  },
  {
   "cell_type": "markdown",
   "metadata": {},
   "source": [
    "3. **Exercise 7:**\n",
    "   - TODO: Implement a function to sanitize user input to prevent XSS attacks."
   ]
  },
  {
   "cell_type": "code",
   "execution_count": null,
   "metadata": {},
   "outputs": [],
   "source": [
    "# TODO: Solve Exercise 7"
   ]
  },
  {
   "cell_type": "markdown",
   "metadata": {},
   "source": [
    "4. **Man-in-the-Middle (MITM) Attack Simulation:**\n",
    "   - Write a function to simulate a simple MITM attack where an attacker intercepts and alters communication between two parties.\n",
    "    - Example\n",
    "    \n",
    "        ```py\n",
    "        def mitm_attack(original_message):\n",
    "            intercepted_message = original_message.replace(\"Hello\", \"Hacked\")\n",
    "            return intercepted_message\n",
    "        ```\n",
    "\n",
    "5. **Example of MITM:**\n",
    "   - Show how an intercepted message can be altered.\n",
    "    - Example\n",
    "    \n",
    "        ```py\n",
    "        original_message = \"Hello, how are you?\"\n",
    "        intercepted_message = mitm_attack(original_message)\n",
    "        print(f\"Intercepted Message: {intercepted_message}\")\n",
    "        ```"
   ]
  },
  {
   "cell_type": "markdown",
   "metadata": {},
   "source": [
    "## Summary\n",
    "\n",
    "- You have performed a brute force attack to crack a hashed password.\n",
    "- You have simulated an SQL injection and learned how to secure SQL queries using parameterized queries.\n",
    "- You have generated a phishing email and discussed how to detect and avoid phishing attacks.\n",
    "- You have explored additional threat vectors such as XSS and MITM attacks.\n",
    "- You have completed exercises to enhance your understanding of these threat vectors and how to mitigate them.\n",
    "\n",
    "## Submission\n",
    "\n",
    "- Complete the exercises and ensure all solutions are documented.\n",
    "- Save your progress and ensure all solutions are documented and submitted to GitHub."
   ]
  }
 ],
 "metadata": {
  "language_info": {
   "name": "python"
  }
 },
 "nbformat": 4,
 "nbformat_minor": 2
}
