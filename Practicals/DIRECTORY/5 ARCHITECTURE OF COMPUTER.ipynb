{
 "cells": [
  {
   "cell_type": "code",
   "execution_count": 1,
   "metadata": {},
   "outputs": [],
   "source": [
    "def AND_gate(a, b):\n",
    "    return a and b\n",
    "def OR_gate(a, b):\n",
    "    return a or b\n",
    "def NOT_gate(a):\n",
    "    return not a\n",
    "def NAND_gate(a, b):\n",
    "    return not (a and b)\n",
    "def NOR_gate(a, b):\n",
    "    return not (a or b)\n",
    "def XOR_gate(a, b):\n",
    "    return (a and not b) or (not a and b)\n"
   ]
  },
  {
   "attachments": {},
   "cell_type": "markdown",
   "metadata": {},
   "source": [
    "These functions directly implement the behavior of their respective logic gates using Python's built-in boolean operations (and, or, not). You can use these functions with boolean values (True and False) to simulate the behavior of digital logic gates.\n"
   ]
  },
  {
   "cell_type": "code",
   "execution_count": null,
   "metadata": {},
   "outputs": [],
   "source": [
    "def binary_to_decimal(binary):\n",
    "    decimal = 0\n",
    "    power = len(binary) - 1\n",
    "    for digit in binary:\n",
    "        decimal += int(digit) * (2 ** power)\n",
    "        power -= 1\n",
    "    return decimal\n",
    "def decimal_to_binary(decimal):\n",
    "    if decimal == 0:\n",
    "        return '0'\n",
    "    binary = ''\n",
    "    while decimal > 0:\n",
    "        binary = str(decimal % 2) + binary\n",
    "        decimal //= 2\n",
    "    return binary\n",
    "def hexadecimal_to_decimal(hexadecimal):\n",
    "    decimal = 0\n",
    "    power = len(hexadecimal) - 1\n",
    "    for digit in hexadecimal:\n",
    "        if digit.isdigit():\n",
    "            decimal += int(digit) * (16 ** power)\n",
    "        else:\n",
    "            decimal += (ord(digit.upper()) - 55) * (16 ** power)\n",
    "        power -= 1\n",
    "    return decimal\n",
    "def decimal_to_hexadecimal(decimal):\n",
    "    if decimal == 0:\n",
    "        return '0'\n",
    "    hexadecimal = ''\n",
    "    while decimal > 0:\n",
    "        remainder = decimal % 16\n",
    "        if remainder < 10:\n",
    "            hexadecimal = str(remainder) + hexadecimal\n",
    "        else:\n",
    "            hexadecimal = chr(remainder + 55) + hexadecimal\n",
    "        decimal //= 16\n",
    "    return hexadecimal\n"
   ]
  },
  {
   "attachments": {},
   "cell_type": "markdown",
   "metadata": {},
   "source": [
    "These functions cover conversions between binary, decimal, and hexadecimal number systems. Here's how you can use them:\n",
    "\n",
    "Binary to Decimal: binary_to_decimal('1010') returns 10.\n",
    "Decimal to Binary: decimal_to_binary(10) returns '1010'.\n",
    "Hexadecimal to Decimal: hexadecimal_to_decimal('1A') returns 26.\n",
    "Decimal to Hexadecimal: decimal_to_hexadecimal(26) returns '1A'.\n",
    "These functions assume standard representations: binary as a string of '0's and '1's, hexadecimal as a string of digits and uppercase letters ('0'-'9', 'A'-'F'), and decimal as an integer."
   ]
  },
  {
   "cell_type": "code",
   "execution_count": null,
   "metadata": {},
   "outputs": [],
   "source": [
    "MOV A, 5    ; Move the value 5 into register A\n",
    "MOV B, 10   ; Move the value 10 into register B\n",
    "ADD A, B    ; Add the value of register B to register A\n",
    "\n",
    "# Initialize variables A and B\n",
    "A = 5\n",
    "B = 10\n",
    "\n",
    "# Add B to A\n",
    "A = A + B\n",
    "\n",
    "# Print the result (optional)\n",
    "print(\"Result:\", A)\n",
    "\n",
    "\n",
    "MOV A, 5    ; Move the value 5 into register A\n",
    "MOV B, 10   ; Move the value 10 into register B\n",
    "SUB A, B    ; Subtract the value of register B from register A\n",
    "\n",
    "# Initialize variables A and B\n",
    "A = 5\n",
    "B = 10\n",
    "\n",
    "# Subtract B from A\n",
    "A = A - B\n",
    "\n",
    "# Print the result (optional)\n",
    "print(\"Result:\", A)\n"
   ]
  },
  {
   "attachments": {},
   "cell_type": "markdown",
   "metadata": {},
   "source": [
    "In Python:\n",
    "\n",
    "We use variables (A and B) to store the values.\n",
    "A = 5 corresponds to MOV A, 5 in assembly, setting register A to 5.\n",
    "B = 10 corresponds to MOV B, 10 in assembly, setting register B to 10.\n",
    "A = A - B corresponds to SUB A, B in assembly, subtracting the value of B from A.\n",
    "This Python code will perform the subtraction operation and print the result."
   ]
  },
  {
   "cell_type": "code",
   "execution_count": null,
   "metadata": {},
   "outputs": [],
   "source": [
    "MOV A, 5    ; Move the value 5 into register A\n",
    "MOV B, 10   ; Move the value 10 into register B\n",
    "MUL A, B    ; Multiply the value of register A by the value of register B\n",
    "\n",
    "# Initialize variables A and B\n",
    "A = 5\n",
    "B = 10\n",
    "\n",
    "# Multiply A by B\n",
    "A = A * B\n",
    "\n",
    "# Print the result (optional)\n",
    "print(\"Result:\", A)\n"
   ]
  },
  {
   "attachments": {},
   "cell_type": "markdown",
   "metadata": {},
   "source": [
    "n Python:\n",
    "\n",
    "We use variables (A and B) to store the values.\n",
    "A = 5 corresponds to MOV A, 5 in assembly, setting register A to 5.\n",
    "B = 10 corresponds to MOV B, 10 in assembly, setting register B to 10.\n",
    "A = A * B corresponds to MUL A, B in assembly, multiplying the value of B with A and storing the result back in A.\n",
    "This Python code will perform the multiplication operation and print the result.\n",
    "\n"
   ]
  },
  {
   "cell_type": "code",
   "execution_count": null,
   "metadata": {},
   "outputs": [],
   "source": [
    "MOV A, 5    ; Move the value 5 into register A\n",
    "MOV B, 10   ; Move the value 10 into register B\n",
    "DIV A, B    ; Divide the value of register A by the value of register B\n",
    "\n",
    "# Initialize variables A and B\n",
    "A = 5\n",
    "B = 10\n",
    "\n",
    "# Divide A by B\n",
    "A = A // B  # Integer division in Python\n",
    "\n",
    "# Print the result (optional)\n",
    "print(\"Result:\", A)\n"
   ]
  },
  {
   "attachments": {},
   "cell_type": "markdown",
   "metadata": {},
   "source": [
    "In Python:\n",
    "\n",
    "We use variables (A and B) to store the values.\n",
    "A = 5 corresponds to MOV A, 5 in assembly, setting register A to 5.\n",
    "B = 10 corresponds to MOV B, 10 in assembly, setting register B to 10.\n",
    "A = A // B corresponds to DIV A, B in assembly, performing integer division of A by B and storing the quotient back in A."
   ]
  },
  {
   "cell_type": "code",
   "execution_count": null,
   "metadata": {},
   "outputs": [],
   "source": [
    "MOV A, 5    ; Move the value 5 into register A\n",
    "MOV B, 10   ; Move the value 10 into register B\n",
    "ADD A, B    ; Add the value of register B to register A\n",
    "MOV C, 10   ; Move the value 10 into register C\n",
    "SUB C, A    ; Subtract the value of register A from register C\n",
    "MUL C, B    ; Multiply the value of register C by the value of register B\n",
    "\n",
    "# Initialize variables A, B, and C\n",
    "A = 5\n",
    "B = 10\n",
    "C = 10\n",
    "\n",
    "# Add B to A\n",
    "A = A + B\n",
    "\n",
    "# Subtract A from C\n",
    "C = C - A\n",
    "\n",
    "# Multiply C by B\n",
    "C = C * B\n",
    "\n",
    "# Print the result (optional)\n",
    "print(\"Result:\", C)\n"
   ]
  },
  {
   "cell_type": "markdown",
   "metadata": {},
   "source": []
  }
 ],
 "metadata": {
  "kernelspec": {
   "display_name": "Python 3",
   "language": "python",
   "name": "python3"
  },
  "language_info": {
   "codemirror_mode": {
    "name": "ipython",
    "version": 3
   },
   "file_extension": ".py",
   "mimetype": "text/x-python",
   "name": "python",
   "nbconvert_exporter": "python",
   "pygments_lexer": "ipython3",
   "version": "3.9.7"
  },
  "orig_nbformat": 4
 },
 "nbformat": 4,
 "nbformat_minor": 2
}
