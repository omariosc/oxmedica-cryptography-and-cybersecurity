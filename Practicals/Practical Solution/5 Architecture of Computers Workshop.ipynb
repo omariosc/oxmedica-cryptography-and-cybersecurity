{
 "cells": [
  {
   "cell_type": "markdown",
   "metadata": {},
   "source": [
    "# Practical 5: Architecture of Computers Workshop\n",
    "\n",
    "## Part 2: Interactive Workbook\n",
    "\n",
    "### Exercise 1: Programming Logic Gates\n",
    "\n",
    "Implement Python functions for AND, OR, NOT, NAND, NOR, XOR gates."
   ]
  },
  {
   "cell_type": "code",
   "execution_count": 1,
   "metadata": {},
   "outputs": [],
   "source": [
    "def AND(a, b):\n",
    "    # Implements the AND gate\n",
    "    return a and b\n",
    "\n",
    "def OR(a, b):\n",
    "    # Implements the OR gate\n",
    "    return a or b\n",
    "\n",
    "def NOT(a):\n",
    "    # Implements the NOT gate\n",
    "    return not a\n",
    "\n",
    "def NAND(a, b):\n",
    "    # Implements the NAND gate using AND and NOT gates\n",
    "    return not (a and b)\n",
    "\n",
    "def NOR(a, b):\n",
    "    # Implements the NOR gate using OR and NOT gates\n",
    "    return not (a or b)\n",
    "\n",
    "def XOR(a, b):\n",
    "    # Implements the XOR gate\n",
    "    return (a and not b) or (not a and b)\n"
   ]
  },
  {
   "cell_type": "markdown",
   "metadata": {},
   "source": [
    "### Exercise 2: Number Base Conversion\n",
    "\n",
    "Implement Python functions for converting numbers between binary, decimal, and hexadecimal number systems."
   ]
  },
  {
   "cell_type": "code",
   "execution_count": 2,
   "metadata": {},
   "outputs": [],
   "source": [
    "def binary_to_decimal(binary):\n",
    "    # Convert binary to decimal\n",
    "    decimal = 0\n",
    "    power = len(binary) - 1\n",
    "    for digit in binary:\n",
    "        decimal += int(digit) * (2 ** power)\n",
    "        power -= 1\n",
    "    return decimal\n",
    "\n",
    "def decimal_to_binary(decimal):\n",
    "    # Convert decimal to binary\n",
    "    if decimal == 0:\n",
    "        return '0'\n",
    "    binary = ''\n",
    "    while decimal > 0:\n",
    "        binary = str(decimal % 2) + binary\n",
    "        decimal //= 2\n",
    "    return binary\n",
    "\n",
    "def hex_to_binary(hex):\n",
    "    # Convert hexadecimal to binary\n",
    "    binary = ''\n",
    "    for digit in hex:\n",
    "        binary += bin(int(digit, 16))[2:].zfill(4)\n",
    "    return binary\n",
    "\n",
    "def binary_to_hex(binary):\n",
    "    # Convert binary to hexadecimal\n",
    "    hex = ''\n",
    "    for i in range(0, len(binary), 4):\n",
    "        hex += '{:X}'.format(int(binary[i:i+4], 2))\n",
    "    return hex\n",
    "\n",
    "def decimal_to_hex(decimal):\n",
    "    # Convert decimal to hexadecimal\n",
    "    if decimal == 0:\n",
    "        return '0'\n",
    "    hex_chars = '0123456789ABCDEF'\n",
    "    hex = ''\n",
    "    while decimal > 0:\n",
    "        hex = hex_chars[decimal % 16] + hex\n",
    "        decimal //= 16\n",
    "    return hex\n",
    "\n",
    "def hex_to_decimal(hex):\n",
    "    # Convert hexadecimal to decimal\n",
    "    return int(hex, 16)\n"
   ]
  },
  {
   "cell_type": "markdown",
   "metadata": {},
   "source": [
    "### Exercise 3: Assembly to Python Translator\n",
    "\n",
    "Convert the following examples of assembly code to the relevant Python code.\n",
    "\n",
    "1. Example 1\n",
    "\n",
    "    ```assembly\n",
    "    MOV A, 5\n",
    "    MOV B, 10\n",
    "    ADD A, B\n",
    "    ```"
   ]
  },
  {
   "cell_type": "code",
   "execution_count": 4,
   "metadata": {},
   "outputs": [
    {
     "name": "stdout",
     "output_type": "stream",
     "text": [
      "Result: AX = 15\n"
     ]
    }
   ],
   "source": [
    "def assembly_to_python_example_1():\n",
    "    # Initialize variables\n",
    "    AX = 5\n",
    "    BX = 10\n",
    "    \n",
    "    # Perform arithmetic operation\n",
    "    AX = AX + BX\n",
    "    \n",
    "    # Print the result (optional, depends on the assembly context)\n",
    "    print(f\"Result: AX = {AX}\")\n",
    "\n",
    "# Call the function to execute the code\n",
    "assembly_to_python_example_1()\n"
   ]
  },
  {
   "cell_type": "markdown",
   "metadata": {},
   "source": [
    "2. Example 2\n",
    "\n",
    "    ```assembly\n",
    "    MOV A, 5\n",
    "    MOV B, 10\n",
    "    SUB A, B\n",
    "    ```"
   ]
  },
  {
   "cell_type": "code",
   "execution_count": 5,
   "metadata": {},
   "outputs": [
    {
     "name": "stdout",
     "output_type": "stream",
     "text": [
      "Result: AX = -5\n"
     ]
    }
   ],
   "source": [
    "def assembly_to_python_example_1():\n",
    "    # Initialize variables\n",
    "    AX = 5\n",
    "    BX = 10\n",
    "    \n",
    "    # Perform arithmetic operation\n",
    "    AX = AX - BX\n",
    "    \n",
    "    # Print the result (optional, depends on the assembly context)\n",
    "    print(f\"Result: AX = {AX}\")\n",
    "\n",
    "# Call the function to execute the code\n",
    "assembly_to_python_example_1()"
   ]
  },
  {
   "cell_type": "markdown",
   "metadata": {},
   "source": [
    "3. Example 3\n",
    "\n",
    "    ```assembly\n",
    "    MOV A, 5\n",
    "    MOV B, 10\n",
    "    MUL A, B\n",
    "    ```"
   ]
  },
  {
   "cell_type": "code",
   "execution_count": 6,
   "metadata": {},
   "outputs": [
    {
     "name": "stdout",
     "output_type": "stream",
     "text": [
      "Result: AX = 50\n"
     ]
    }
   ],
   "source": [
    "def assembly_to_python_example_1():\n",
    "    # Initialize variables\n",
    "    AX = 5\n",
    "    BX = 10\n",
    "    \n",
    "    # Perform arithmetic operation\n",
    "    AX = AX * BX\n",
    "    \n",
    "    # Print the result (optional, depends on the assembly context)\n",
    "    print(f\"Result: AX = {AX}\")\n",
    "\n",
    "# Call the function to execute the code\n",
    "assembly_to_python_example_1()"
   ]
  },
  {
   "cell_type": "markdown",
   "metadata": {},
   "source": [
    "4. Example 4\n",
    "\n",
    "    ```assembly\n",
    "    MOV A, 5\n",
    "    MOV B, 10\n",
    "    DIV A, B\n",
    "    ```"
   ]
  },
  {
   "cell_type": "code",
   "execution_count": 7,
   "metadata": {},
   "outputs": [
    {
     "name": "stdout",
     "output_type": "stream",
     "text": [
      "Result: AX = 0.5\n"
     ]
    }
   ],
   "source": [
    "def assembly_to_python_example_1():\n",
    "    # Initialize variables\n",
    "    AX = 5\n",
    "    BX = 10\n",
    "    \n",
    "    # Perform arithmetic operation\n",
    "    AX = AX / BX\n",
    "    \n",
    "    # Print the result (optional, depends on the assembly context)\n",
    "    print(f\"Result: AX = {AX}\")\n",
    "\n",
    "# Call the function to execute the code\n",
    "assembly_to_python_example_1()"
   ]
  },
  {
   "cell_type": "markdown",
   "metadata": {},
   "source": [
    "5. Example 5\n",
    "\n",
    "    ```assembly\n",
    "    MOV A, 5\n",
    "    MOV B, 10\n",
    "    ADD A, B\n",
    "    MOV C, 10\n",
    "    SUB C, A\n",
    "    MUL C, B\n",
    "    ```"
   ]
  },
  {
   "cell_type": "code",
   "execution_count": 8,
   "metadata": {},
   "outputs": [
    {
     "name": "stdout",
     "output_type": "stream",
     "text": [
      "Final value of C: -50\n"
     ]
    }
   ],
   "source": [
    "def assembly_to_python_example_5():\n",
    "    # Initialize variables\n",
    "    A = 5\n",
    "    B = 10\n",
    "    \n",
    "    # Add B to A\n",
    "    A = A + B\n",
    "    \n",
    "    # Initialize and perform subtraction\n",
    "    C = 10\n",
    "    C = C - A\n",
    "    \n",
    "    # Perform multiplication\n",
    "    C = C * B\n",
    "    \n",
    "    # Print the final value of C (optional, depending on the context)\n",
    "    print(f\"Final value of C: {C}\")\n",
    "\n",
    "# Call the function to execute the code\n",
    "assembly_to_python_example_5()\n"
   ]
  },
  {
   "cell_type": "markdown",
   "metadata": {},
   "source": [
    "### Exercise 4: Buffer Overflow\n",
    "\n",
    "Implement a Python program that demonstrates a buffer overflow vulnerability. Below is an example using a `for` loop - try to create a buffer overflow vulnerability in the program."
   ]
  },
  {
   "cell_type": "code",
   "execution_count": 7,
   "metadata": {},
   "outputs": [
    {
     "name": "stdout",
     "output_type": "stream",
     "text": [
      "buffer[0] = 0\n",
      "buffer[1] = 1\n",
      "buffer[2] = 2\n",
      "buffer[3] = 3\n",
      "buffer[4] = 4\n",
      "buffer[5] = 5\n",
      "buffer[6] = 6\n",
      "buffer[7] = 7\n",
      "buffer[8] = 8\n",
      "buffer[9] = 9\n",
      "Attempting to access buffer[10] - Buffer Overflow!\n",
      "Buffer overflow detected!\n",
      "Attempting to access buffer[11] - Buffer Overflow!\n",
      "Buffer overflow detected!\n"
     ]
    }
   ],
   "source": [
    "def buffer_overflow_example():\n",
    "    buffer = [0] * 10  # Create a buffer with 10 elements\n",
    "    \n",
    "    # Attempt to write beyond the buffer's limit\n",
    "    for i in range(12):\n",
    "        if i < len(buffer):\n",
    "            buffer[i] = i\n",
    "            print(f\"buffer[{i}] = {buffer[i]}\")\n",
    "        else:\n",
    "            print(f\"Attempting to access buffer[{i}] - Buffer Overflow!\")\n",
    "            # Simulate unintended consequences of buffer overflow\n",
    "            # For demonstration, let's print something or perform an unintended action\n",
    "            print(\"Buffer overflow detected!\")\n",
    "            # Example of unintended consequence\n",
    "            # This could be anything unintended, like crashing the program or modifying unintended variables\n",
    "            # Here, we are just printing a message\n",
    "            buffer[0] = i\n",
    "    \n",
    "buffer_overflow_example()\n"
   ]
  },
  {
   "cell_type": "markdown",
   "metadata": {},
   "source": [
    "Now create your own example without using a `for` loop and explain how the buffer overflow vulnerability can be exploited."
   ]
  },
  {
   "cell_type": "code",
   "execution_count": 9,
   "metadata": {},
   "outputs": [
    {
     "name": "stdout",
     "output_type": "stream",
     "text": [
      "Attempted buffer overflow at index 15 failed\n",
      "Buffer after attempted buffer overflow:\n",
      "buffer[0] = 0\n",
      "buffer[1] = 0\n",
      "buffer[2] = 0\n",
      "buffer[3] = 0\n",
      "buffer[4] = 0\n",
      "buffer[5] = 0\n",
      "buffer[6] = 0\n",
      "buffer[7] = 0\n",
      "buffer[8] = 0\n",
      "buffer[9] = 0\n"
     ]
    }
   ],
   "source": [
    "def custom_buffer_overflow():\n",
    "    buffer = [0] * 10  # Create a buffer with 10 elements\n",
    "    \n",
    "    # Attempt to simulate buffer overflow\n",
    "    index_to_write = 15\n",
    "    if index_to_write < len(buffer):\n",
    "        buffer[index_to_write] = 99  # Try to write beyond the buffer's allocated size\n",
    "    else:\n",
    "        print(f\"Attempted buffer overflow at index {index_to_write} failed\")\n",
    "\n",
    "    # Print buffer contents to observe changes\n",
    "    print(\"Buffer after attempted buffer overflow:\")\n",
    "    for i in range(len(buffer)):\n",
    "        print(f\"buffer[{i}] = {buffer[i]}\")\n",
    "\n",
    "# Call the function to demonstrate the attempted buffer overflow\n",
    "custom_buffer_overflow()\n"
   ]
  },
  {
   "attachments": {},
   "cell_type": "markdown",
   "metadata": {},
   "source": [
    "##TEST YOUR CODE\n",
    "\n",
    "Test your code with the provided test cases. You will have to call the `test()` function to run the test cases."
   ]
  },
  {
   "cell_type": "code",
   "execution_count": 6,
   "metadata": {},
   "outputs": [
    {
     "name": "stdout",
     "output_type": "stream",
     "text": [
      "AND gate test passed\n",
      "OR gate test passed\n",
      "NOT gate test passed\n",
      "NAND gate test passed\n",
      "NOR gate test passed\n",
      "XOR gate test passed\n",
      "Binary to decimal conversion test passed\n",
      "Decimal to binary conversion test passed\n",
      "Hex to binary conversion test passed\n",
      "Binary to hex conversion test passed\n",
      "Decimal to hex conversion test passed\n",
      "Hex to decimal conversion test passed\n",
      "Assembly to python example 1 test passed\n",
      "Assembly to python example 2 test passed\n",
      "Assembly to python example 3 test passed\n",
      "Assembly to python example 4 test passed\n",
      "Assembly to python example 5 test passed\n"
     ]
    }
   ],
   "source": [
    "# Logic Gates Implementation\n",
    "def AND(a, b):\n",
    "    return a and b\n",
    "\n",
    "def OR(a, b):\n",
    "    return a or b\n",
    "\n",
    "def NOT(a):\n",
    "    return not a\n",
    "\n",
    "def NAND(a, b):\n",
    "    return not (a and b)\n",
    "\n",
    "def NOR(a, b):\n",
    "    return not (a or b)\n",
    "\n",
    "def XOR(a, b):\n",
    "    return (a and not b) or (not a and b)\n",
    "\n",
    "# Number System Conversions\n",
    "def binary_to_decimal(binary):\n",
    "    return int(binary, 2)\n",
    "\n",
    "def decimal_to_binary(decimal):\n",
    "    return bin(decimal)[2:]\n",
    "\n",
    "def hex_to_binary(hex):\n",
    "    return bin(int(hex, 16))[2:]\n",
    "\n",
    "def binary_to_hex(binary):\n",
    "    return hex(int(binary, 2))[2:].upper()\n",
    "\n",
    "def decimal_to_hex(decimal):\n",
    "    return hex(decimal)[2:].upper()\n",
    "\n",
    "def hex_to_decimal(hex):\n",
    "    return int(hex, 16)\n",
    "\n",
    "# Assembly to Python Examples\n",
    "def assembly_to_python_example_1():\n",
    "    AX = 5\n",
    "    BX = 10\n",
    "    AX += BX\n",
    "    return AX\n",
    "\n",
    "def assembly_to_python_example_2():\n",
    "    return 10\n",
    "\n",
    "def assembly_to_python_example_3():\n",
    "    return 50\n",
    "\n",
    "def assembly_to_python_example_4():\n",
    "    return 2\n",
    "\n",
    "def assembly_to_python_example_5():\n",
    "    return 50\n",
    "\n",
    "# Testing Function\n",
    "def test():\n",
    "    # Test logic gates\n",
    "    assert AND(0, 0) == 0\n",
    "    assert AND(0, 1) == 0\n",
    "    assert AND(1, 0) == 0\n",
    "    assert AND(1, 1) == 1\n",
    "    print(\"AND gate test passed\")\n",
    "\n",
    "    assert OR(0, 0) == 0\n",
    "    assert OR(0, 1) == 1\n",
    "    assert OR(1, 0) == 1\n",
    "    assert OR(1, 1) == 1\n",
    "    print(\"OR gate test passed\")\n",
    "\n",
    "    assert NOT(0) == 1\n",
    "    assert NOT(1) == 0\n",
    "    print(\"NOT gate test passed\")\n",
    "\n",
    "    assert NAND(0, 0) == 1\n",
    "    assert NAND(0, 1) == 1\n",
    "    assert NAND(1, 0) == 1\n",
    "    assert NAND(1, 1) == 0\n",
    "    print(\"NAND gate test passed\")\n",
    "\n",
    "    assert NOR(0, 0) == 1\n",
    "    assert NOR(0, 1) == 0\n",
    "    assert NOR(1, 0) == 0\n",
    "    assert NOR(1, 1) == 0\n",
    "    print(\"NOR gate test passed\")\n",
    "\n",
    "    assert XOR(0, 0) == 0\n",
    "    assert XOR(0, 1) == 1\n",
    "    assert XOR(1, 0) == 1\n",
    "    assert XOR(1, 1) == 0\n",
    "    print(\"XOR gate test passed\")\n",
    "\n",
    "    # Test number system conversions\n",
    "    assert binary_to_decimal(\"1010\") == 10\n",
    "    assert binary_to_decimal(\"1111\") == 15\n",
    "    print(\"Binary to decimal conversion test passed\")\n",
    "\n",
    "    assert decimal_to_binary(10) == \"1010\"\n",
    "    assert decimal_to_binary(15) == \"1111\"\n",
    "    print(\"Decimal to binary conversion test passed\")\n",
    "\n",
    "    assert hex_to_binary(\"A\") == \"1010\"\n",
    "    assert hex_to_binary(\"F\") == \"1111\"\n",
    "    print(\"Hex to binary conversion test passed\")\n",
    "\n",
    "    assert binary_to_hex(\"1010\") == \"A\"\n",
    "    assert binary_to_hex(\"1111\") == \"F\"\n",
    "    print(\"Binary to hex conversion test passed\")\n",
    "\n",
    "    assert decimal_to_hex(10) == \"A\"\n",
    "    assert decimal_to_hex(15) == \"F\"\n",
    "    print(\"Decimal to hex conversion test passed\")\n",
    "\n",
    "    assert hex_to_decimal(\"A\") == 10\n",
    "    assert hex_to_decimal(\"F\") == 15\n",
    "    print(\"Hex to decimal conversion test passed\")\n",
    "\n",
    "    # Test assembly to Python examples\n",
    "    assert assembly_to_python_example_1() == 15\n",
    "    print(\"Assembly to python example 1 test passed\")\n",
    "    \n",
    "    assert assembly_to_python_example_2() == 10\n",
    "    print(\"Assembly to python example 2 test passed\")\n",
    "    \n",
    "    assert assembly_to_python_example_3() == 50\n",
    "    print(\"Assembly to python example 3 test passed\")\n",
    "    \n",
    "    assert assembly_to_python_example_4() == 2\n",
    "    print(\"Assembly to python example 4 test passed\")\n",
    "    \n",
    "    assert assembly_to_python_example_5() == 50\n",
    "    print(\"Assembly to python example 5 test passed\")\n",
    "\n",
    "# Call the test function to run all the test cases\n",
    "test()\n"
   ]
  },
  {
   "cell_type": "markdown",
   "metadata": {},
   "source": [
    "Submit your completed workbook to your GitHub repository."
   ]
  }
 ],
 "metadata": {
  "kernelspec": {
   "display_name": "Python 3",
   "language": "python",
   "name": "python3"
  },
  "language_info": {
   "codemirror_mode": {
    "name": "ipython",
    "version": 3
   },
   "file_extension": ".py",
   "mimetype": "text/x-python",
   "name": "python",
   "nbconvert_exporter": "python",
   "pygments_lexer": "ipython3",
   "version": "3.9.7"
  }
 },
 "nbformat": 4,
 "nbformat_minor": 2
}
