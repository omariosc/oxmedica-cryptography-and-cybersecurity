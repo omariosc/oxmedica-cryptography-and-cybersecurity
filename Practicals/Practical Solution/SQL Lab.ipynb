{
 "cells": [
  {
   "cell_type": "code",
   "execution_count": null,
   "metadata": {},
   "outputs": [],
   "source": []
  },
  {
   "attachments": {},
   "cell_type": "markdown",
   "metadata": {},
   "source": [
    "SELECT * FROM Raed;\n",
    "INSERT INTO Raed (Account, password) VALUES ('Account1', '98732');\n",
    "UPDATE Raed SET password = '123456' WHERE username = 'Account1';\n",
    "DELETE FROM Raed WHERE username = 'Account1';"
   ]
  },
  {
   "attachments": {},
   "cell_type": "markdown",
   "metadata": {},
   "source": [
    "SELECT * FROM Raed WHERE username = 'Zahrani' -- ' AND password = '765422';"
   ]
  }
 ],
 "metadata": {
  "language_info": {
   "name": "python"
  },
  "orig_nbformat": 4
 },
 "nbformat": 4,
 "nbformat_minor": 2
}
