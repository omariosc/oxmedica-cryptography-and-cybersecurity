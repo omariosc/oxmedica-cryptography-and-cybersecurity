{
 "cells": [
  {
   "cell_type": "code",
   "execution_count": 5,
   "metadata": {},
   "outputs": [
    {
     "ename": "ValueError",
     "evalue": "invalid literal for int() with base 10: 'How old are you? '",
     "output_type": "error",
     "traceback": [
      "\u001b[1;31m---------------------------------------------------------------------------\u001b[0m",
      "\u001b[1;31mValueError\u001b[0m                                Traceback (most recent call last)",
      "Cell \u001b[1;32mIn[5], line 1\u001b[0m\n\u001b[1;32m----> 1\u001b[0m age \u001b[39m=\u001b[39m \u001b[39minput\u001b[39m(\u001b[39mint\u001b[39;49m(\u001b[39m\"\u001b[39;49m\u001b[39mHow old are you? \u001b[39;49m\u001b[39m\"\u001b[39;49m))\n\u001b[0;32m      2\u001b[0m year \u001b[39m=\u001b[39m \u001b[39minput\u001b[39m(\u001b[39mint\u001b[39m(\u001b[39m\"\u001b[39m\u001b[39mWhat year? \u001b[39m\u001b[39m\"\u001b[39m))\n\u001b[0;32m      3\u001b[0m birth \u001b[39m=\u001b[39m age \u001b[39m-\u001b[39m \u001b[39m2024\u001b[39m\n",
      "\u001b[1;31mValueError\u001b[0m: invalid literal for int() with base 10: 'How old are you? '"
     ]
    }
   ],
   "source": [
    "age = input(int(\"How old are you? \"))\n",
    "year = input(int(\"What year? \"))\n",
    "birth = age - 2024\n",
    "res = year - birth\n",
    "print(f\"By {year}, you will be {res} years old\")"
   ]
  }
 ],
 "metadata": {
  "kernelspec": {
   "display_name": "Python 3",
   "language": "python",
   "name": "python3"
  },
  "language_info": {
   "codemirror_mode": {
    "name": "ipython",
    "version": 3
   },
   "file_extension": ".py",
   "mimetype": "text/x-python",
   "name": "python",
   "nbconvert_exporter": "python",
   "pygments_lexer": "ipython3",
   "version": "3.12.1"
  },
  "orig_nbformat": 4
 },
 "nbformat": 4,
 "nbformat_minor": 2
}
