def decimal_to_binary(n):
    return bin(n).replace("0b", "")

def binary_to_decimal(n):
    return int(n, 2)

def decimal_to_hexadecimal(n):
    return hex(n).replace("0x", "")

def hexadecimal_to_decimal(n):
    return int(n, 16)

def binary_to_hexadecimal(n):
    return hex(int(n, 2)).replace("0x", "")

def hexadecimal_to_binary(n):
    return bin(int(n, 16))[2:]


-----------------------------------------------------


def AND(a, b):         
    return a and b 

def OR(a, b):
    return a or b

def NOT(a):
    return not a

def NAND(a, b):
    return not (a and b)

def NOR(a, b):
    return not (a or b)

def XOR(a, b):
    if a == b:
        return 0
    else:
        return 1