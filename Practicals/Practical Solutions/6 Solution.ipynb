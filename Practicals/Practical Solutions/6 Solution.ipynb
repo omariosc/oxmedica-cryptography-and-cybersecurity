{
 "cells": [
  {
   "cell_type": "markdown",
   "metadata": {},
   "source": [
    "*Part 1*\n",
    "\n",
    "# The main componets of a computer.\n",
    "\n",
    "The main comp"
   ]
  }
 ],
 "metadata": {
  "language_info": {
   "name": "python"
  }
 },
 "nbformat": 4,
 "nbformat_minor": 2
}
