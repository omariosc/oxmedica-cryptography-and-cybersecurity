{
 "cells": [
  {
   "cell_type": "markdown",
   "metadata": {},
   "source": [
    "# *Part 1*\n",
    "\n",
    "1.1 \n",
    "\n",
    "# Relational Databases\n",
    "A relational database is a type of database that stores and provides access to data points that are related to one another.\n",
    "d#\n",
    "SQL (Structured Query Language) is an programming language where tou manage and manipluate the databases.\n",
    "# Data Definition Language (DDL)\n",
    "Used to define and manage database structures.\n",
    "\n",
    "*CREATE: Creates a new table, database, index, or view.*\n",
    "*ALTER: Modifies an existing database object, such as a table.*\n",
    "*DROP: Deletes an existing database object.*\n",
    "\n",
    "1.2\n",
    "# Table \n",
    "A table is a collection of related data held in a structured format within a database. It consists of rows and columns.\n",
    "\n",
    "# Rows\n",
    "Rows are also known as records or tuples. Each row in a table represents a single, complete set of data about a specific entity.\n",
    "\n",
    "# Columns \n",
    "Columns are also known as fields or attributes. Each column in a table contains a specific type of data and defines what kind of data is stored in that part of the table.\n",
    "\n",
    "# Relationships Between Tables\n",
    "In a relational database, tables are often related to each other. Relationships between tables are established using keys such as PK, and FK.\n",
    "\n",
    "\n",
    "2. Here's a Basic SQL queries\n",
    " \n",
    "SELECT FirstName, LastName FROM Customers WHERE Email = 'example@example.com';\n",
    "\n",
    "INSERT INTO Customers (FirstName, LastName, Email) VALUES ('John', 'Doe', 'john.doe@example.com');\n",
    "\n",
    "UPDATE Customers SET Email = 'newemail@example.com' WHERE CustomerID = 1;\n",
    "\n",
    "DELETE FROM Customers WHERE CustomerID = 1;\n",
    "\n",
    "\n",
    "\n",
    "# *Part 2*\n",
    "\n",
    "1\n",
    "\n",
    "\n"
   ]
  }
 ],
 "metadata": {
  "language_info": {
   "name": "python"
  }
 },
 "nbformat": 4,
 "nbformat_minor": 2
}
