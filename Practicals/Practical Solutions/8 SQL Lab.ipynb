{
 "cells": [
  {
   "attachments": {},
   "cell_type": "markdown",
   "metadata": {},
   "source": [
    "# Part 1\n",
    "\n",
    "- Discuss the basics of SQL and relational databases.\n",
    "### SQL is a standard language for managing relational databases. It allows users to store, manipulate, and retrieve data efficiently through operations like SELECT, INSERT, UPDATE, and DELETE.\n",
    "- Explain tables, rows, columns, and relationships between tables.\n",
    "### In a database, tables store data in rows and columns. Relationships between tables link related information using keys like primary and foreign keys.\n",
    "\n",
    "---\n",
    "\n",
    "- Write basic SQL queries to select, insert, update, and delete data.\n",
    "\n",
    "1. **Select Query**:\n",
    "   ```sql\n",
    "   SELECT * FROM tableName;\n",
    "   ```\n",
    "\n",
    "2. **Insert Query**:\n",
    "   ```sql\n",
    "   INSERT INTO tableName (column1, column2, ...) VALUES (value1, value2, ...);\n",
    "   ```\n",
    "\n",
    "3. **Update Query**:\n",
    "   ```sql\n",
    "   UPDATE tableName SET column1 = newValue WHERE condition;\n",
    "   ```\n",
    "\n",
    "4. **Delete Query**:\n",
    "   ```sql\n",
    "   DELETE FROM tableName WHERE condition;\n",
    "   ```\n",
    "\n",
    "---\n",
    "\n",
    "- Explain what SQL injection is and how it can be exploited.\n",
    "\n",
    "> An SQL Injection is a code injection technique that enters specific values into any provided entry field for execution. SQL Injections can be exploited to give the user complete access to the system or dump all information.\n",
    "\n",
    "- Provide examples of vulnerable SQL code and how an attacker can exploit it."
   ]
  },
  {
   "cell_type": "code",
   "execution_count": null,
   "metadata": {
    "vscode": {
     "languageId": "sql"
    }
   },
   "outputs": [],
   "source": [
    "SELECT * FROM users WHERE username = '$_POST[username]' AND password = '$_POST[password]'"
   ]
  },
  {
   "attachments": {},
   "cell_type": "markdown",
   "metadata": {},
   "source": [
    "> Here, if an attacker submits `' or '1'='1' --` as the username field and any value for the password field, it will satisfy the 1=1 condition and allow the user access.\n",
    "\n",
    "\n",
    "- Discuss methods to prevent SQL injection, such as using prepared statements and parameterized queries.\n",
    "\n",
    "> SQL injection is when bad actors sneak dangerous SQL commands into input fields to control database queries. To stop this, developers should use prepared statements or parameterized queries. These methods keep SQL commands separate from user input, treating input values as data instead of code that can run. Also, checking input and handling errors carefully helps find and handle suspicious input, making it harder for SQL injection attacks to succeed."
   ]
  },
  {
   "cell_type": "code",
   "execution_count": 3,
   "metadata": {
    "vscode": {
     "languageId": "sql"
    }
   },
   "outputs": [
    {
     "ename": "SyntaxError",
     "evalue": "invalid syntax (2677838111.py, line 1)",
     "output_type": "error",
     "traceback": [
      "\u001b[1;36m  Cell \u001b[1;32mIn[3], line 1\u001b[1;36m\u001b[0m\n\u001b[1;33m    -- Create a table\u001b[0m\n\u001b[1;37m              ^\u001b[0m\n\u001b[1;31mSyntaxError\u001b[0m\u001b[1;31m:\u001b[0m invalid syntax\n"
     ]
    }
   ],
   "source": [
    "-- Create a table\n",
    "CREATE TABLE Products (\n",
    "    id INTEGER PRIMARY KEY,\n",
    "    name TEXT,\n",
    "    price REAL\n",
    ");\n",
    "\n",
    "-- Insert data into the table\n",
    "INSERT INTO Products (name, price) VALUES ('Product1', 10.99);\n",
    "INSERT INTO Products (name, price) VALUES ('Product2', 20.99);\n",
    "\n",
    "-- Select data from the table\n",
    "SELECT * FROM Products;\n",
    "\n",
    "-- Update data in the table\n",
    "UPDATE Products SET price = 15.99 WHERE name = 'Product1';\n",
    "\n",
    "-- Delete data from the table\n",
    "DELETE FROM Products WHERE name = 'Product2';"
   ]
  },
  {
   "cell_type": "code",
   "execution_count": 4,
   "metadata": {
    "vscode": {
     "languageId": "sql"
    }
   },
   "outputs": [
    {
     "name": "stdout",
     "output_type": "stream",
     "text": [
      "(1, 'Product1', 10.99)\n",
      "(2, 'Product2', 20.99)\n"
     ]
    }
   ],
   "source": [
    "# Connect to SQLite database\n",
    "import sqlite3\n",
    "\n",
    "conn = sqlite3.connect('example.db')\n",
    "cursor = conn.cursor()\n",
    "\n",
    "# Create a table\n",
    "cursor.execute('''\n",
    "CREATE TABLE IF NOT EXISTS Products (\n",
    "    id INTEGER PRIMARY KEY,\n",
    "    name TEXT,\n",
    "    price REAL\n",
    ")\n",
    "''')\n",
    "\n",
    "# Insert data into the table\n",
    "cursor.execute('''\n",
    "INSERT INTO Products (name, price) VALUES (?, ?)\n",
    "''', ('Product1', 10.99))\n",
    "\n",
    "cursor.execute('''\n",
    "INSERT INTO Products (name, price) VALUES (?, ?)\n",
    "''', ('Product2', 20.99))\n",
    "\n",
    "# Select data from the table\n",
    "cursor.execute('SELECT * FROM Products')\n",
    "rows = cursor.fetchall()\n",
    "for row in rows:\n",
    "    print(row)\n",
    "\n",
    "# Update data in the table\n",
    "cursor.execute('''\n",
    "UPDATE Products SET price = ? WHERE name = ?\n",
    "''', (15.99, 'Product1'))\n",
    "\n",
    "# Delete data from the table\n",
    "cursor.execute('''\n",
    "DELETE FROM Products WHERE name = ?\n",
    "''', ('Product2',))\n",
    "\n",
    "conn.commit()\n",
    "conn.close()"
   ]
  },
  {
   "attachments": {},
   "cell_type": "markdown",
   "metadata": {},
   "source": [
    "The python script seemed to have run very well, in 0.1s. It outputted the following:\n",
    "\n",
    "> (1, 'Product1', 10.99)\n",
    "> (2, 'Product2', 20.99)\n",
    "\n",
    "The following are the steps it took to reach this point:\n",
    "1. Creates Table\n",
    "2. Inserts Data into the table\n",
    "3. Selects the data\n",
    "4. Updates the data and changes price\n",
    "5. Deletes Product2"
   ]
  }
 ],
 "metadata": {
  "kernelspec": {
   "display_name": "Python 3",
   "language": "python",
   "name": "python3"
  },
  "language_info": {
   "codemirror_mode": {
    "name": "ipython",
    "version": 3
   },
   "file_extension": ".py",
   "mimetype": "text/x-python",
   "name": "python",
   "nbconvert_exporter": "python",
   "pygments_lexer": "ipython3",
   "version": "3.12.1"
  },
  "orig_nbformat": 4
 },
 "nbformat": 4,
 "nbformat_minor": 2
}
