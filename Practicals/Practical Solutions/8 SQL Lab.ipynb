{
 "cells": [
  {
   "cell_type": "code",
   "execution_count": 3,
   "metadata": {},
   "outputs": [
    {
     "name": "stdout",
     "output_type": "stream",
     "text": [
      "(1, 'Product1', 15.99)\n",
      "(2, 'Product1', 10.99)\n",
      "(3, 'Product2', 20.99)\n"
     ]
    }
   ],
   "source": [
    "import sqlite3                                  # sqlite3 provides a SQL-like interface to read, query, and write SQL databases from Python.\n",
    "\n",
    "conn = sqlite3.connect('example.db')  # It made a file under this file named \"example.db\".\n",
    "cursor = conn.cursor()\n",
    "\n",
    "# Create a table\n",
    "cursor.execute('''\n",
    "CREATE TABLE IF NOT EXISTS Products (     \n",
    "    id INTEGER PRIMARY KEY,\n",
    "    name TEXT,\n",
    "    price REAL\n",
    ")    \n",
    "''')        # If the table was not in there, or simply not existed, the user should make it.   The code will make a table that we will insert data soon.\n",
    "\n",
    "# Insert data into the table\n",
    "cursor.execute('''\n",
    "INSERT INTO Products (name, price) VALUES (?, ?)        \n",
    "''', ('Product1', 10.99))                         # The user will insert here hte values, whcih is the name, and price.\n",
    "\n",
    "cursor.execute('''\n",
    "INSERT INTO Products (name, price) VALUES (?, ?)  \n",
    "''', ('Product2', 20.99))                          # Same here, the user shoul imsert the values.\n",
    "\n",
    "# Select data from the table\n",
    "cursor.execute('SELECT * FROM Products')\n",
    "rows = cursor.fetchall()                                # Here, the code is trying to select a data from the table that was made.\n",
    "for row in rows:                                         # It will print the row number.\n",
    "    print(row)\n",
    "\n",
    "# Update data in the table\n",
    "cursor.execute('''\n",
    "UPDATE Products SET price = ? WHERE name = ?                \n",
    "''', (15.99, 'Product1'))                                   # The code will update the table here, if thr user wamted tp.\n",
    "\n",
    "# Delete data from the table\n",
    "cursor.execute('''\n",
    "DELETE FROM Products WHERE name = ?\n",
    "''', ('Product2',))                                          # If the user wanted to delete a data from the table.\n",
    "\n",
    "conn.commit()\n",
    "conn.close()                                                   # Closes the code."
   ]
  },
  {
   "attachments": {},
   "cell_type": "markdown",
   "metadata": {},
   "source": [
    "# SQL is a standard language for accessing and manipulating databases.\n",
    "\n",
    "Example Queries:\n",
    "    SELECT * FROM Users;\n",
    "    INSERT INTO Users (username, password) VALUES ('user1', 'password1');\n",
    "    UPDATE Users SET password = 'newpassword' WHERE username = 'user1';\n",
    "    DELETE FROM Users WHERE username = 'user1';\n",
    "\n",
    "What is an SQL injection?\n",
    "\n",
    "# SQL injection is a code injection technique that might destroy your database.\n",
    "\n",
    "# SQL injection is one of the most common web hacking techniques.\n",
    "\n",
    "# SQL injection is the placement of malicious code in SQL statements, via web page input.\n",
    "\n",
    "Example of SQL injection : \n",
    " Some common SQL injection examples include: Retrieving hidden data, where you can modify a SQL query to return additional results. Subverting application logic, where you can change a query to interfere with the application's logic. UNION attacks, where you can retrieve data from different \n",
    "\n",
    " SELECT * FROM Users WHERE username = 'admin' -- ' AND password = 'password';\n",
    "\n",
    "# Some simple methods to prevent SQL injections;\n",
    "   •Filter database inputs\n",
    "   •Restrict database code\n",
    "   •Restrict database access\n",
    "   •Maintain applications and databases\n",
    "   •Monitor application and database inputs and communications\n",
    "\n",
    "Another example;\n",
    "\n",
    "import sqlite3\n",
    "\n",
    "    conn = sqlite3.connect('example.db')\n",
    "    cursor = conn.cursor()\n",
    "    cursor.execute(\"SELECT * FROM Users WHERE username = ? AND password = ?\", (username, password))\n",
    "\n",
    "\n"
   ]
  }
 ],
 "metadata": {
  "kernelspec": {
   "display_name": "Python 3",
   "language": "python",
   "name": "python3"
  },
  "language_info": {
   "codemirror_mode": {
    "name": "ipython",
    "version": 3
   },
   "file_extension": ".py",
   "mimetype": "text/x-python",
   "name": "python",
   "nbconvert_exporter": "python",
   "pygments_lexer": "ipython3",
   "version": "3.9.7"
  },
  "orig_nbformat": 4
 },
 "nbformat": 4,
 "nbformat_minor": 2
}
