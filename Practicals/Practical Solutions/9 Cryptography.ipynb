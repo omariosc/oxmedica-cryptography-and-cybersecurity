{
 "cells": [
  {
   "cell_type": "markdown",
   "metadata": {},
   "source": [
    "# Encryption the plain text \"Ahmed\"\n",
    "\n",
    "- Plaintext: Ahmed\n",
    "- key: 3\n",
    "- Encryption Steps:\n",
    "A -> D\n",
    "h -> k\n",
    "m -> p\n",
    "e -> h\n",
    "d -> g\n",
    "- Ciphertext: Dkphg\n",
    "\n",
    "\n"
   ]
  }
 ],
 "metadata": {
  "language_info": {
   "name": "python"
  }
 },
 "nbformat": 4,
 "nbformat_minor": 2
}
