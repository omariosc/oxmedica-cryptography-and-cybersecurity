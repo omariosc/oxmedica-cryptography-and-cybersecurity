{
 "cells": [
  {
   "cell_type": "code",
   "execution_count": 4,
   "metadata": {},
   "outputs": [
    {
     "name": "stdout",
     "output_type": "stream",
     "text": [
      "hello world\n",
      "hello world\n",
      "alberteinstien\n"
     ]
    },
    {
     "ename": "NameError",
     "evalue": "name 'bike' is not defined",
     "output_type": "error",
     "traceback": [
      "\u001b[1;31m---------------------------------------------------------------------------\u001b[0m",
      "\u001b[1;31mNameError\u001b[0m                                 Traceback (most recent call last)",
      "Cell \u001b[1;32mIn[4], line 12\u001b[0m\n\u001b[0;32m      9\u001b[0m \u001b[39mprint\u001b[39m (full_name)\n\u001b[0;32m     11\u001b[0m bikes \u001b[39m=\u001b[39m [\u001b[39m'\u001b[39m\u001b[39mtreek\u001b[39m\u001b[39m'\u001b[39m, \u001b[39m'\u001b[39m\u001b[39mredline\u001b[39m\u001b[39m'\u001b[39m, \u001b[39m'\u001b[39m\u001b[39mgiant\u001b[39m\u001b[39m'\u001b[39m]\n\u001b[1;32m---> 12\u001b[0m first_bike \u001b[39m=\u001b[39m bike[\u001b[39m0\u001b[39m]\n\u001b[0;32m     14\u001b[0m \u001b[39mfor\u001b[39;00m bike \u001b[39min\u001b[39;00m bike:\n\u001b[0;32m     15\u001b[0m     \u001b[39mprint\u001b[39m(bike)\n",
      "\u001b[1;31mNameError\u001b[0m: name 'bike' is not defined"
     ]
    }
   ],
   "source": [
    "print (\"hello world\")\n",
    "\n",
    "msg = \"hello world\"\n",
    "print(msg)\n",
    "\n",
    "first_name = 'albert'\n",
    "last_name = 'einstien'\n",
    "full_name = first_name +''+ last_name\n",
    "print (full_name)\n",
    "\n",
    "bikes = ['treek', 'redline', 'giant']\n",
    "first_bike = bike[0]\n",
    "\n",
    "for bike in bike:\n",
    "    print(bike)\n",
    "\n",
    "\n"
   ]
  }
 ],
 "metadata": {
  "kernelspec": {
   "display_name": "Python 3",
   "language": "python",
   "name": "python3"
  },
  "language_info": {
   "codemirror_mode": {
    "name": "ipython",
    "version": 3
   },
   "file_extension": ".py",
   "mimetype": "text/x-python",
   "name": "python",
   "nbconvert_exporter": "python",
   "pygments_lexer": "ipython3",
   "version": "3.9.7"
  },
  "orig_nbformat": 4
 },
 "nbformat": 4,
 "nbformat_minor": 2
}
