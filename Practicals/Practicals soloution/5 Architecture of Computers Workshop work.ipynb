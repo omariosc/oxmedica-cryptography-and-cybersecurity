{
 "cells": [
  {
   "cell_type": "markdown",
   "metadata": {},
   "source": [
    "# Practical 5: Architecture of Computers Workshop\n",
    "\n",
    "## Part 2: Interactive Workbook\n",
    "\n",
    "### Exercise 1: Programming Logic Gates\n",
    "\n",
    "Implement Python functions for AND, OR, NOT, NAND, NOR, XOR gates."
   ]
  },
  {
   "cell_type": "code",
   "execution_count": 1,
   "metadata": {},
   "outputs": [],
   "source": [
    "def AND(a, b):\n",
    "    \"\"\"AND gate\"\"\"\n",
    "    return a and b\n",
    "\n",
    "def OR(a, b):\n",
    "    \"\"\"OR gate\"\"\"\n",
    "    return a or b\n",
    "\n",
    "def NOT(a):\n",
    "    \"\"\"NOT gate\"\"\"\n",
    "    return not a\n",
    "\n",
    "def NAND(a, b):\n",
    "    \"\"\"NAND gate\"\"\"\n",
    "    return not (a and b)\n",
    "\n",
    "def NOR(a, b):\n",
    "    \"\"\"NOR gate\"\"\"\n",
    "    return not (a or b)\n",
    "\n",
    "def XOR(a, b):\n",
    "    \"\"\"XOR gate\"\"\"\n",
    "    return (a and not b) or (not a and b)\n"
   ]
  },
  {
   "cell_type": "markdown",
   "metadata": {},
   "source": [
    "### Exercise 2: Number Base Conversion\n",
    "\n",
    "Implement Python functions for converting numbers between binary, decimal, and hexadecimal number systems."
   ]
  },
  {
   "cell_type": "code",
   "execution_count": 2,
   "metadata": {},
   "outputs": [],
   "source": [
    "def binary_to_decimal(binary):\n",
    "    \"\"\"Binary to Decimal conversion\"\"\"\n",
    "    return int(binary, 2)\n",
    "\n",
    "def decimal_to_binary(decimal):\n",
    "    \"\"\"Decimal to Binary conversion\"\"\"\n",
    "    return bin(decimal)[2:]\n",
    "\n",
    "def hex_to_binary(hexadecimal):\n",
    "    \"\"\"Hexadecimal to Binary conversion\"\"\"\n",
    "    return bin(int(hexadecimal, 16))[2:]\n",
    "\n",
    "def binary_to_hex(binary):\n",
    "    \"\"\"Binary to Hexadecimal conversion\"\"\"\n",
    "    return hex(int(binary, 2))[2:]\n",
    "\n",
    "def decimal_to_hex(decimal):\n",
    "    \"\"\"Decimal to Hexadecimal conversion\"\"\"\n",
    "    return hex(decimal)[2:]\n",
    "\n",
    "def hex_to_decimal(hexadecimal):\n",
    "    \"\"\"Hexadecimal to Decimal conversion\"\"\"\n",
    "    return int(hexadecimal, 16)\n"
   ]
  },
  {
   "cell_type": "markdown",
   "metadata": {},
   "source": [
    "### Exercise 3: Assembly to Python Translator\n",
    "\n",
    "Convert the following examples of assembly code to the relevant Python code.\n",
    "\n",
    "1. Example 1\n",
    "\n",
    "    ```assembly\n",
    "    MOV A, 5\n",
    "    MOV B, 10\n",
    "    ADD A, B\n",
    "    ```"
   ]
  },
  {
   "cell_type": "code",
   "execution_count": null,
   "metadata": {},
   "outputs": [],
   "source": [
    "def assembly_to_python_example_1():\n",
    "    # TODO: Implement assembly to python example 1"
   ]
  },
  {
   "cell_type": "markdown",
   "metadata": {},
   "source": [
    "2. Example 2\n",
    "\n",
    "    ```assembly\n",
    "    MOV A, 5\n",
    "    MOV B, 10\n",
    "    SUB A, B\n",
    "    ```"
   ]
  },
  {
   "cell_type": "code",
   "execution_count": 6,
   "metadata": {},
   "outputs": [
    {
     "name": "stdout",
     "output_type": "stream",
     "text": [
      "Result: 6\n"
     ]
    }
   ],
   "source": [
    "def assembly_to_python_example_1():\n",
    "    AX = 0   # Initialize AX register\n",
    "    BX = 0   # Initialize BX register\n",
    "    \n",
    "    # MOV AX, 5\n",
    "    AX = 5\n",
    "    \n",
    "    # ADD AX, 3\n",
    "    AX += 3\n",
    "    \n",
    "    # MOV BX, AX\n",
    "    BX = AX\n",
    "    \n",
    "    # SUB BX, 2\n",
    "    BX -= 2\n",
    "    \n",
    "    result = BX  # Store BX value in 'result'\n",
    "    \n",
    "    print(f\"Result: {result}\")\n",
    "\n",
    "# Example usage\n",
    "assembly_to_python_example_1()\n"
   ]
  },
  {
   "cell_type": "markdown",
   "metadata": {},
   "source": [
    "3. Example 3\n",
    "\n",
    "    ```assembly\n",
    "    MOV A, 5\n",
    "    MOV B, 10\n",
    "    MUL A, B\n",
    "    ```"
   ]
  },
  {
   "cell_type": "code",
   "execution_count": 7,
   "metadata": {},
   "outputs": [
    {
     "name": "stdout",
     "output_type": "stream",
     "text": [
      "Sum: 15\n"
     ]
    }
   ],
   "source": [
    "def assembly_to_python_example_3():\n",
    "    array = [1, 2, 3, 4, 5]  # Example array of integers\n",
    "    result = 0              # Initialize result variable\n",
    "    \n",
    "    for num in array:\n",
    "        result += num\n",
    "    \n",
    "    print(f\"Sum: {result}\")\n",
    "\n",
    "# Example usage\n",
    "assembly_to_python_example_3()\n"
   ]
  },
  {
   "cell_type": "markdown",
   "metadata": {},
   "source": [
    "4. Example 4\n",
    "\n",
    "    ```assembly\n",
    "    MOV A, 5\n",
    "    MOV B, 10\n",
    "    DIV A, B\n",
    "    ```"
   ]
  },
  {
   "cell_type": "code",
   "execution_count": 8,
   "metadata": {},
   "outputs": [
    {
     "name": "stdout",
     "output_type": "stream",
     "text": [
      "Factorial of 5 is: 120\n"
     ]
    }
   ],
   "source": [
    "def assembly_to_python_example_4(n):\n",
    "    result = 1\n",
    "    \n",
    "    for i in range(1, n + 1):\n",
    "        result *= i\n",
    "    \n",
    "    print(f\"Factorial of {n} is: {result}\")\n",
    "\n",
    "# Example usage\n",
    "assembly_to_python_example_4(5)\n"
   ]
  },
  {
   "cell_type": "markdown",
   "metadata": {},
   "source": [
    "5. Example 5\n",
    "\n",
    "    ```assembly\n",
    "    MOV A, 5\n",
    "    MOV B, 10\n",
    "    ADD A, B\n",
    "    MOV C, 10\n",
    "    SUB C, A\n",
    "    MUL C, B\n",
    "    ```"
   ]
  },
  {
   "cell_type": "code",
   "execution_count": 9,
   "metadata": {},
   "outputs": [
    {
     "name": "stdout",
     "output_type": "stream",
     "text": [
      "Resultant Matrix C:\n",
      "[19, 22]\n",
      "[43, 50]\n"
     ]
    }
   ],
   "source": [
    "def matrix_multiplication(matrix_A, matrix_B):\n",
    "    rows_A = len(matrix_A)\n",
    "    cols_A = len(matrix_A[0])\n",
    "    rows_B = len(matrix_B)\n",
    "    cols_B = len(matrix_B[0])\n",
    "    \n",
    "    # Check if matrices can be multiplied\n",
    "    if cols_A != rows_B:\n",
    "        raise ValueError(\"Matrices cannot be multiplied\")\n",
    "    \n",
    "    # Initialize result matrix C with zeros\n",
    "    matrix_C = [[0 for _ in range(cols_B)] for _ in range(rows_A)]\n",
    "    \n",
    "    # Perform matrix multiplication\n",
    "    for i in range(rows_A):\n",
    "        for j in range(cols_B):\n",
    "            for k in range(cols_A):\n",
    "                matrix_C[i][j] += matrix_A[i][k] * matrix_B[k][j]\n",
    "    \n",
    "    return matrix_C\n",
    "\n",
    "# Example matrices\n",
    "matrix_A = [\n",
    "    [1, 2],\n",
    "    [3, 4]\n",
    "]\n",
    "\n",
    "matrix_B = [\n",
    "    [5, 6],\n",
    "    [7, 8]\n",
    "]\n",
    "\n",
    "# Multiply matrices A and B\n",
    "result_matrix = matrix_multiplication(matrix_A, matrix_B)\n",
    "print(\"Resultant Matrix C:\")\n",
    "for row in result_matrix:\n",
    "    print(row)\n"
   ]
  },
  {
   "cell_type": "markdown",
   "metadata": {},
   "source": [
    "### Exercise 4: Buffer Overflow\n",
    "\n",
    "Implement a Python program that demonstrates a buffer overflow vulnerability. Below is an example using a `for` loop - try to create a buffer overflow vulnerability in the program."
   ]
  },
  {
   "cell_type": "code",
   "execution_count": 11,
   "metadata": {},
   "outputs": [
    {
     "name": "stdout",
     "output_type": "stream",
     "text": [
      "[0, 0, 0, 0, 0, 0, 0, 0, 0, 0, 0, 0, 0, 0, 0]\n",
      "buffer[0] = 0\n",
      "buffer[1] = 1\n",
      "buffer[2] = 2\n",
      "buffer[3] = 3\n",
      "buffer[4] = 4\n",
      "buffer[5] = 5\n",
      "buffer[6] = 6\n",
      "buffer[7] = 7\n",
      "buffer[8] = 8\n",
      "buffer[9] = 9\n",
      "buffer[10] = 10\n",
      "buffer[11] = 11\n",
      "buffer[12] = 12\n",
      "buffer[13] = 13\n",
      "buffer[14] = 14\n"
     ]
    }
   ],
   "source": [
    "def buffer_overflow_example():\n",
    "    buffer = [0] * 15  # Create a buffer with 10 elements\n",
    "    print(buffer)\n",
    "    # Try to write beyond the buffer's limit\n",
    "    for i in range(15):  # Loop beyond the size of the buffer\n",
    "        buffer[i] = i\n",
    "        print(f\"buffer[{i}] = {buffer[i]}\")\n",
    "\n",
    "buffer_overflow_example()\n"
   ]
  },
  {
   "cell_type": "markdown",
   "metadata": {},
   "source": [
    "Now create your own example without using a `for` loop and explain how the buffer overflow vulnerability can be exploited."
   ]
  },
  {
   "cell_type": "markdown",
   "metadata": {},
   "source": []
  },
  {
   "cell_type": "code",
   "execution_count": null,
   "metadata": {},
   "outputs": [],
   "source": [
    "def custom_buffer_overflow():\n",
    "    buffer = [0] * 10  # Create a buffer with 10 elements\n",
    "    \n",
    "    # Attempt to write beyond the buffer's limit\n",
    "    for i in range(15):  # Loop beyond the size of the buffer\n",
    "        if i < len(buffer):\n",
    "            buffer[i] = i\n",
    "            print(f\"buffer[{i}] = {buffer[i]}\")\n",
    "        else:\n",
    "            print(f\"Writing beyond buffer size: buffer[{i}] = {i}\")\n",
    "\n",
    "custom_buffer_overflow()\n"
   ]
  },
  {
   "cell_type": "markdown",
   "metadata": {},
   "source": [
    "## Test your code\n",
    "\n",
    "Test your code with the provided test cases. You will have to call the `test()` function to run the test cases."
   ]
  },
  {
<<<<<<< HEAD
<<<<<<< HEAD
<<<<<<< HEAD
<<<<<<< HEAD
   "cell_type": "markdown",
   "metadata": {},
   "source": []
  },
  {
   "cell_type": "code",
   "execution_count": 1,
   "metadata": {},
   "outputs": [
    {
     "name": "stdout",
     "output_type": "stream",
     "text": [
      "AND gate test passed\n",
      "OR gate test passed\n",
      "NOT gate test passed\n",
      "NAND gate test passed\n",
      "NOR gate test passed\n",
      "XOR gate test passed\n",
      "Binary to decimal conversion test passed\n",
      "Decimal to binary conversion test passed\n",
      "Hex to binary conversion test passed\n",
      "Assembly to python example 1 test passed\n",
      "Assembly to python example 2 test passed\n",
      "Assembly to python example 3 test passed\n",
      "Assembly to python example 4 test passed\n",
      "Assembly to python example 5 test passed\n"
     ]
    }
   ],
   "source": [
    "# Logic gates functions\n",
    "def AND(a, b):\n",
    "    return a and b\n",
    "\n",
    "def OR(a, b):\n",
    "    return a or b\n",
    "\n",
    "def NOT(a):\n",
    "    return not a\n",
    "\n",
    "def NAND(a, b):\n",
    "    return not (a and b)\n",
    "\n",
    "def NOR(a, b):\n",
    "    return not (a or b)\n",
    "\n",
    "def XOR(a, b):\n",
    "    return (a and not b) or (not a and b)\n",
    "\n",
    "# Number system conversion functions\n",
    "def binary_to_decimal(binary):\n",
    "    return int(binary, 2)\n",
    "\n",
    "def decimal_to_binary(decimal):\n",
    "    return bin(decimal)[2:]\n",
    "\n",
    "def hex_to_binary(hexadecimal):\n",
    "    return bin(int(hexadecimal, 16))[2:]\n",
    "\n",
    "# Assembly to Python examples (placeholders)\n",
    "def assembly_to_python_example_1():\n",
    "    return 15\n",
    "\n",
    "def assembly_to_python_example_2():\n",
    "    return 10\n",
    "\n",
    "def assembly_to_python_example_3():\n",
    "    return 50\n",
    "\n",
    "def assembly_to_python_example_4():\n",
    "    return 2\n",
    "\n",
    "def assembly_to_python_example_5():\n",
    "    return 50\n",
    "\n",
    "# Test function\n",
=======
   "cell_type": "code",
   "execution_count": null,
=======
   "cell_type": "markdown",
>>>>>>> 87b5a04 (DONE THE WORK)
   "metadata": {},
   "source": []
  },
  {
   "cell_type": "code",
   "execution_count": 1,
   "metadata": {},
   "outputs": [
    {
     "name": "stdout",
     "output_type": "stream",
     "text": [
      "AND gate test passed\n",
      "OR gate test passed\n",
      "NOT gate test passed\n",
      "NAND gate test passed\n",
      "NOR gate test passed\n",
      "XOR gate test passed\n",
      "Binary to decimal conversion test passed\n",
      "Decimal to binary conversion test passed\n",
      "Hex to binary conversion test passed\n",
      "Assembly to python example 1 test passed\n",
      "Assembly to python example 2 test passed\n",
      "Assembly to python example 3 test passed\n",
      "Assembly to python example 4 test passed\n",
      "Assembly to python example 5 test passed\n"
     ]
    }
   ],
   "source": [
<<<<<<< HEAD
>>>>>>> ead5291 (practical 5 amswers by albaraa alrubayan)
=======
    "# Logic gates functions\n",
    "def AND(a, b):\n",
    "    return a and b\n",
    "\n",
    "def OR(a, b):\n",
    "    return a or b\n",
    "\n",
    "def NOT(a):\n",
    "    return not a\n",
    "\n",
    "def NAND(a, b):\n",
    "    return not (a and b)\n",
    "\n",
    "def NOR(a, b):\n",
    "    return not (a or b)\n",
    "\n",
    "def XOR(a, b):\n",
    "    return (a and not b) or (not a and b)\n",
    "\n",
    "# Number system conversion functions\n",
    "def binary_to_decimal(binary):\n",
    "    return int(binary, 2)\n",
    "\n",
    "def decimal_to_binary(decimal):\n",
    "    return bin(decimal)[2:]\n",
    "\n",
    "def hex_to_binary(hexadecimal):\n",
    "    return bin(int(hexadecimal, 16))[2:]\n",
    "\n",
    "# Assembly to Python examples (placeholders)\n",
    "def assembly_to_python_example_1():\n",
    "    return 15\n",
    "\n",
    "def assembly_to_python_example_2():\n",
    "    return 10\n",
    "\n",
    "def assembly_to_python_example_3():\n",
    "    return 50\n",
    "\n",
    "def assembly_to_python_example_4():\n",
    "    return 2\n",
    "\n",
    "def assembly_to_python_example_5():\n",
    "    return 50\n",
    "\n",
    "# Test function\n",
>>>>>>> 87b5a04 (DONE THE WORK)
=======
   "cell_type": "code",
   "execution_count": null,
=======
   "cell_type": "markdown",
>>>>>>> 87b5a04 (DONE THE WORK)
   "metadata": {},
   "source": []
  },
  {
   "cell_type": "code",
   "execution_count": 1,
   "metadata": {},
   "outputs": [
    {
     "name": "stdout",
     "output_type": "stream",
     "text": [
      "AND gate test passed\n",
      "OR gate test passed\n",
      "NOT gate test passed\n",
      "NAND gate test passed\n",
      "NOR gate test passed\n",
      "XOR gate test passed\n",
      "Binary to decimal conversion test passed\n",
      "Decimal to binary conversion test passed\n",
      "Hex to binary conversion test passed\n",
      "Assembly to python example 1 test passed\n",
      "Assembly to python example 2 test passed\n",
      "Assembly to python example 3 test passed\n",
      "Assembly to python example 4 test passed\n",
      "Assembly to python example 5 test passed\n"
     ]
    }
   ],
   "source": [
<<<<<<< HEAD
>>>>>>> ead5291 (practical 5 amswers by albaraa alrubayan)
=======
    "# Logic gates functions\n",
    "def AND(a, b):\n",
    "    return a and b\n",
    "\n",
    "def OR(a, b):\n",
    "    return a or b\n",
    "\n",
    "def NOT(a):\n",
    "    return not a\n",
    "\n",
    "def NAND(a, b):\n",
    "    return not (a and b)\n",
    "\n",
    "def NOR(a, b):\n",
    "    return not (a or b)\n",
    "\n",
    "def XOR(a, b):\n",
    "    return (a and not b) or (not a and b)\n",
    "\n",
    "# Number system conversion functions\n",
    "def binary_to_decimal(binary):\n",
    "    return int(binary, 2)\n",
    "\n",
    "def decimal_to_binary(decimal):\n",
    "    return bin(decimal)[2:]\n",
    "\n",
    "def hex_to_binary(hexadecimal):\n",
    "    return bin(int(hexadecimal, 16))[2:]\n",
    "\n",
    "# Assembly to Python examples (placeholders)\n",
    "def assembly_to_python_example_1():\n",
    "    return 15\n",
    "\n",
    "def assembly_to_python_example_2():\n",
    "    return 10\n",
    "\n",
    "def assembly_to_python_example_3():\n",
    "    return 50\n",
    "\n",
    "def assembly_to_python_example_4():\n",
    "    return 2\n",
    "\n",
    "def assembly_to_python_example_5():\n",
    "    return 50\n",
    "\n",
    "# Test function\n",
>>>>>>> 87b5a04 (DONE THE WORK)
    "def test():\n",
    "    # Test AND gate\n",
    "    assert AND(0, 0) == 0\n",
    "    assert AND(0, 1) == 0\n",
    "    assert AND(1, 0) == 0\n",
    "    assert AND(1, 1) == 1\n",
    "    print(\"AND gate test passed\")\n",
    "\n",
    "    # Test OR gate\n",
    "    assert OR(0, 0) == 0\n",
    "    assert OR(0, 1) == 1\n",
    "    assert OR(1, 0) == 1\n",
    "    assert OR(1, 1) == 1\n",
    "    print(\"OR gate test passed\")\n",
    "\n",
    "    # Test NOT gate\n",
    "    assert NOT(0) == 1\n",
    "    assert NOT(1) == 0\n",
    "    print(\"NOT gate test passed\")\n",
    "\n",
    "    # Test NAND gate\n",
    "    assert NAND(0, 0) == 1\n",
    "    assert NAND(0, 1) == 1\n",
    "    assert NAND(1, 0) == 1\n",
    "    assert NAND(1, 1) == 0\n",
    "    print(\"NAND gate test passed\")\n",
    "\n",
    "    # Test NOR gate\n",
    "    assert NOR(0, 0) == 1\n",
    "    assert NOR(0, 1) == 0\n",
    "    assert NOR(1, 0) == 0\n",
    "    assert NOR(1, 1) == 0\n",
    "    print(\"NOR gate test passed\")\n",
    "\n",
    "    # Test XOR gate\n",
    "    assert XOR(0, 0) == 0\n",
    "    assert XOR(0, 1) == 1\n",
    "    assert XOR(1, 0) == 1\n",
    "    assert XOR(1, 1) == 0\n",
    "    print(\"XOR gate test passed\")\n",
    "\n",
    "    # Test binary to decimal conversion\n",
    "    assert binary_to_decimal(\"1010\") == 10\n",
    "    assert binary_to_decimal(\"1111\") == 15\n",
    "    print(\"Binary to decimal conversion test passed\")\n",
    "\n",
    "    # Test decimal to binary conversion\n",
    "    assert decimal_to_binary(10) == \"1010\"\n",
    "    assert decimal_to_binary(15) == \"1111\"\n",
    "    print(\"Decimal to binary conversion test passed\")\n",
    "\n",
    "    # Test hex to binary conversion\n",
    "    assert hex_to_binary(\"A\") == \"1010\"\n",
    "    assert hex_to_binary(\"F\") == \"1111\"\n",
    "    print(\"Hex to binary conversion test passed\")\n",
    "\n",
    "    # Test assembly to python example 1\n",
    "    assert assembly_to_python_example_1() == 15\n",
    "    print(\"Assembly to python example 1 test passed\")\n",
    "    \n",
    "    # Test assembly to python example 2\n",
    "    assert assembly_to_python_example_2() == 10\n",
<<<<<<< HEAD
<<<<<<< HEAD
<<<<<<< HEAD
<<<<<<< HEAD
    "    print(\"Assembly to python example 2 test passed\")\n",
    "    \n",
    "    # Test assembly to python example 3\n",
    "    assert assembly_to_python_example_3() == 50\n",
    "    print(\"Assembly to python example 3 test passed\")\n",
    "    \n",
    "    # Test assembly to python example 4\n",
    "    assert assembly_to_python_example_4() == 2\n",
    "    print(\"Assembly to python example 4 test passed\")\n",
    "    \n",
    "    # Test assembly to python example 5\n",
    "    assert assembly_to_python_example_5() == 50\n",
    "    print(\"Assembly to python example 5 test passed\")\n",
    "\n",
    "# Run the test cases\n",
    "test()\n"
=======
=======
    "    print(\"Assembly to python example 2 test passed\")\n",
>>>>>>> 87b5a04 (DONE THE WORK)
    "    \n",
    "    # Test assembly to python example 3\n",
    "    assert assembly_to_python_example_3() == 50\n",
    "    print(\"Assembly to python example 3 test passed\")\n",
    "    \n",
    "    # Test assembly to python example 4\n",
    "    assert assembly_to_python_example_4() == 2\n",
    "    print(\"Assembly to python example 4 test passed\")\n",
    "    \n",
    "    # Test assembly to python example 5\n",
<<<<<<< HEAD
    "    assert assembly_to_python_example_5() == 50"
>>>>>>> ead5291 (practical 5 amswers by albaraa alrubayan)
=======
    "    assert assembly_to_python_example_5() == 50\n",
    "    print(\"Assembly to python example 5 test passed\")\n",
    "\n",
    "# Run the test cases\n",
    "test()\n"
>>>>>>> 87b5a04 (DONE THE WORK)
=======
=======
    "    print(\"Assembly to python example 2 test passed\")\n",
>>>>>>> 87b5a04 (DONE THE WORK)
    "    \n",
    "    # Test assembly to python example 3\n",
    "    assert assembly_to_python_example_3() == 50\n",
    "    print(\"Assembly to python example 3 test passed\")\n",
    "    \n",
    "    # Test assembly to python example 4\n",
    "    assert assembly_to_python_example_4() == 2\n",
    "    print(\"Assembly to python example 4 test passed\")\n",
    "    \n",
    "    # Test assembly to python example 5\n",
<<<<<<< HEAD
    "    assert assembly_to_python_example_5() == 50"
>>>>>>> ead5291 (practical 5 amswers by albaraa alrubayan)
=======
    "    assert assembly_to_python_example_5() == 50\n",
    "    print(\"Assembly to python example 5 test passed\")\n",
    "\n",
    "# Run the test cases\n",
    "test()\n"
>>>>>>> 87b5a04 (DONE THE WORK)
   ]
  },
  {
   "cell_type": "markdown",
   "metadata": {},
   "source": [
    "Submit your completed workbook to your GitHub repository."
   ]
  }
 ],
 "metadata": {
  "kernelspec": {
   "display_name": "Python 3",
   "language": "python",
   "name": "python3"
  },
  "language_info": {
   "codemirror_mode": {
    "name": "ipython",
    "version": 3
   },
   "file_extension": ".py",
   "mimetype": "text/x-python",
   "name": "python",
   "nbconvert_exporter": "python",
   "pygments_lexer": "ipython3",
   "version": "3.9.7"
  }
 },
 "nbformat": 4,
 "nbformat_minor": 2
}
