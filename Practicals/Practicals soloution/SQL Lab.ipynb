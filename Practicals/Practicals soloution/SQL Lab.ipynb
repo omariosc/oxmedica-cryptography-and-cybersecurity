{
 "cells": [
  {
   "cell_type": "code",
   "execution_count": 17,
   "metadata": {},
   "outputs": [
    {
     "ename": "IndentationError",
     "evalue": "unexpected indent (1035438195.py, line 2)",
     "output_type": "error",
     "traceback": [
      "\u001b[1;36m  Cell \u001b[1;32mIn[17], line 2\u001b[1;36m\u001b[0m\n\u001b[1;33m    import sqlite3\u001b[0m\n\u001b[1;37m    ^\u001b[0m\n\u001b[1;31mIndentationError\u001b[0m\u001b[1;31m:\u001b[0m unexpected indent\n"
     ]
    }
   ],
   "source": [
    " # Connect to SQLite database\n",
    "     import sqlite3\n",
    "\n",
    "     conn = sqlite3.connect('example.db')\n",
    "     cursor = conn.cursor()\n",
    "\n",
    "     # Create a table\n",
    "     cursor.execute('''\n",
    "     CREATE TABLE IF NOT EXISTS Products (\n",
    "         id INTEGER PRIMARY KEY,\n",
    "         name TEXT,\n",
    "         price REAL\n",
    "     )\n",
    "     ''')\n",
    "\n",
    "     # Insert data into the table\n",
    "     cursor.execute('''\n",
    "     INSERT INTO Products (name, price) VALUES (?, ?)\n",
    "     ''', ('Product1', 10.99))\n",
    "\n",
    "     cursor.execute('''\n",
    "     INSERT INTO Products (name, price) VALUES (?, ?)\n",
    "     ''', ('Product2', 20.99))\n",
    "\n",
    "     # Select data from the table\n",
    "     cursor.execute('SELECT * FROM Products')\n",
    "     rows = cursor.fetchall()\n",
    "     for row in rows:\n",
    "         print(row)\n",
    "\n",
    "     # Update data in the table\n",
    "     cursor.execute('''\n",
    "     UPDATE Products SET price = ? WHERE name = ?\n",
    "     ''', (15.99, 'Product1'))\n",
    "\n",
    "     # Delete data from the table\n",
    "     cursor.execute('''\n",
    "     DELETE FROM Products WHERE name = ?\n",
    "     ''', ('Product2',))\n",
    "\n",
    "     conn.commit()\n",
    "     conn.close()\n",
    "     ```"
   ]
  },
  {
   "attachments": {},
   "cell_type": "markdown",
   "metadata": {},
   "source": [
    "SELECT * FROM Users;\n",
    "    INSERT INTO Users (username, password) VALUES ('XSPLYTS', 'COOL101');\n",
    "    UPDATE Users SET password = '123' WHERE username = 'XSPLYTS';\n",
    "    DELETE FROM Users WHERE username = 'XSPLYTS';"
   ]
  }
 ],
 "metadata": {
  "kernelspec": {
   "display_name": "Python 3",
   "language": "python",
   "name": "python3"
  },
  "language_info": {
   "codemirror_mode": {
    "name": "ipython",
    "version": 3
   },
   "file_extension": ".py",
   "mimetype": "text/x-python",
   "name": "python",
   "nbconvert_exporter": "python",
   "pygments_lexer": "ipython3",
   "version": "3.9.7"
  },
  "orig_nbformat": 4
 },
 "nbformat": 4,
 "nbformat_minor": 2
}
