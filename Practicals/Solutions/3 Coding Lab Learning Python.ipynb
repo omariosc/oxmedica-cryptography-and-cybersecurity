{
 "cells": [
  {
   "cell_type": "code",
   "execution_count": 7,
   "metadata": {},
   "outputs": [
    {
     "name": "stdout",
     "output_type": "stream",
     "text": [
      "trek\n",
      "redline\n",
      "giant\n",
      "[1, 4, 9, 16, 25, 36, 49, 64, 81, 100]\n"
     ]
    }
   ],
   "source": [
    "print(\"Hello World!\")\n",
    "msg = \"Hello World!\"\n",
    "print(msg)\n",
    "first_name = 'Nasser'\n",
    "last_name = 'Alkhaldi'\n",
    "full_name = first_name + ' ' + last_name\n",
    "print(full_name)\n",
    "bikes = ['trek', 'redline', 'giant']\n",
    "first_bike = bikes[0]\n",
    "last_bike = bikes[-1]\n",
    "for bike in bikes:\n",
    " print(bike)\n",
    "bikes = []\n",
    "bikes.append('trek')\n",
    "bikes.append('redline')\n",
    "bikes.append('giant')\n",
    "squares = []\n",
    "for x in range(1, 11):\n",
    " squares.append(x**2)\n",
    "print(squares)\n",
    "squares = [x**2 for x in range(1, 11)]\n",
    "finishers = ['sam', 'bob', 'ada', 'bea']\n",
    "first_two = finishers[:2]\n",
    "copy_of_bikes = bikes[:]\n",
    "dimensions = (1920, 1080)\n",
    "equals x == 42\n",
    "not equal x != 42\n",
    "greater than x > 42\n",
    " or equal to x >= 42\n",
    "less than x < 42\n",
    " or equal to x <= 42"
   ]
  }
 ],
 "metadata": {
  "kernelspec": {
   "display_name": "Python 3",
   "language": "python",
   "name": "python3"
  },
  "language_info": {
   "codemirror_mode": {
    "name": "ipython",
    "version": 3
   },
   "file_extension": ".py",
   "mimetype": "text/x-python",
   "name": "python",
   "nbconvert_exporter": "python",
   "pygments_lexer": "ipython3",
   "version": "3.12.4"
  }
 },
 "nbformat": 4,
 "nbformat_minor": 2
}
