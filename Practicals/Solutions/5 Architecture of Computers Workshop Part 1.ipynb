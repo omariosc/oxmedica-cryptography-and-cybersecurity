{
 "cells": [
  {
   "cell_type": "markdown",
   "metadata": {},
   "source": [
    "1. | A | B | AND | OR | NOT A |\n",
    "   |---|---|-----|----|-------|\n",
    "   | 0 | 0 |  0  | 0  |   1   |\n",
    "   | 0 | 1 |  0  | 1  |   1   |\n",
    "   | 1 | 0 |  0  | 1  |   0   |\n",
    "   | 1 | 1 |  1  | 1  |   0   |"
   ]
  },
  {
   "cell_type": "markdown",
   "metadata": {},
   "source": [
    "Binary: Uses only one's and zero's to give true or false marks.\n",
    "Decimal: Its the basic numeral system that we use today from 0-9\n",
    "Hexadecimal: it uses numbers between 0-9 and letters between A-F"
   ]
  },
  {
   "cell_type": "markdown",
   "metadata": {},
   "source": [
    "### Binary to Decimal\n",
    "1. Multiply each binary digit by 2 raised to the power of its position.\n",
    "2. Sum the results.\n",
    "\n",
    "### Decimal to Binary\n",
    "1. Divide the decimal number by 2.\n",
    "2. Record the remainder.\n",
    "3. Repeat with the quotient until the quotient is 0.\n",
    "4. Read the remainders in reverse order.\n",
    "\n",
    "### Hexadecimal to Decimal\n",
    "1. Multiply each hexadecimal digit by 16 raised to the power of its position.\n",
    "2. Sum the results.\n",
    "\n",
    "### Decimal to Hexadecimal\n",
    "1. Divide the decimal number by 16.\n",
    "2. Record the remainder.\n",
    "3. Repeat with the quotient until the quotient is 0.\n",
    "4. Read the remainders in reverse order.\n",
    "\n",
    "### Binary to Hexadecimal\n",
    "1. Group binary digits into sets of four, starting from the right.\n",
    "2. Convert each group to its hexadecimal equivalent.\n",
    "\n",
    "### Hexadecimal to Binary\n",
    "1. Convert each hexadecimal digit to its 4-bit binary equivalent.\n",
    "2. Concatenate the binary groups.\n",
    "\n",
    "Improvised using ChatGPT "
   ]
  },
  {
   "cell_type": "markdown",
   "metadata": {},
   "source": [
    "RAM (Random Access Memory): is more of a short term memory that is used in current running applications.\n",
    "ROM (Read-Only Memory): is used to store memory so that it is not lost even after a shutdown."
   ]
  },
  {
   "cell_type": "markdown",
   "metadata": {},
   "source": [
    "Operating systems manage hardware (like CPUs, memory, and storage) and software (processes, security, and user interfaces) resources to ensure efficient operation and maximize system performance and security. \n",
    "\n",
    "Written using ChatGPT"
   ]
  },
  {
   "cell_type": "markdown",
   "metadata": {},
   "source": [
    "CPU (Central Procesing Unit): Is used for processing and computing the necessary actions.\n",
    "GPU (Graphics Processing Unit): Used to run the graphics that are displayed on screen."
   ]
  },
  {
   "cell_type": "markdown",
   "metadata": {},
   "source": [
    "CPU focuses heavily on the things running in the background that cant be seen.\n",
    "GPU focuses on the stuff displayed  on screen."
   ]
  },
  {
   "cell_type": "markdown",
   "metadata": {},
   "source": []
  }
 ],
 "metadata": {
  "language_info": {
   "name": "python"
  }
 },
 "nbformat": 4,
 "nbformat_minor": 2
}
