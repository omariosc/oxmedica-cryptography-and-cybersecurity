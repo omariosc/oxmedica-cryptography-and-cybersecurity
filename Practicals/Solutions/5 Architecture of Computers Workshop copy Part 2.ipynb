{
 "cells": [
  {
   "cell_type": "markdown",
   "metadata": {},
   "source": [
    "# Practical 5: Architecture of Computers Workshop\n",
    "\n",
    "## Part 2: Interactive Workbook\n",
    "\n",
    "### Exercise 1: Programming Logic Gates\n",
    "\n",
    "Implement Python functions for AND, OR, NOT, NAND, NOR, XOR gates."
   ]
  },
  {
   "cell_type": "code",
   "execution_count": null,
   "metadata": {},
   "outputs": [],
   "source": [
    "def AND(a, b):\n",
    "    # TODO: Implement AND gate  \n",
    "\n",
    "def OR(a, b):\n",
    "    # TODO: Implement OR gate\n",
    "\n",
    "def NOT(a):\n",
    "    # TODO: Implement NOT gate\n",
    "\n",
    "def NAND(a, b):\n",
    "    # TODO: Implement NAND gate\n",
    "\n",
    "def NOR(a, b):\n",
    "    # TODO: Implement NOR gate\n",
    "\n",
    "def XOR(a, b):\n",
    "    # TODO: Implement XOR gate"
   ]
  },
  {
   "cell_type": "code",
   "execution_count": 4,
   "metadata": {},
   "outputs": [
    {
     "name": "stdout",
     "output_type": "stream",
     "text": [
      "Result of A AND B is: 0\n"
     ]
    }
   ],
   "source": [
    "user_input_A = input(\"Enter the value of A (0 or 1): \")\n",
    "user_input_B = input(\"Enter the value of B (0 or 1): \")\n",
    "\n",
    "if user_input_A not in ['0', '1'] or user_input_B not in ['0', '1']:\n",
    "    print(\"Invalid input. Please enter either 0 or 1 for A and B.\")\n",
    "else:\n",
    "    A = int(user_input_A)\n",
    "    B = int(user_input_B)\n",
    "\n",
    "    user_input_function = input(\"Choose a function:\\n 1.AND 2.OR 3.NOT 4.NAND 5.NOR 6.XOR \")\n",
    "\n",
    "    if user_input_function == '1':  \n",
    "        result = A and B\n",
    "        print(f\"Result of A AND B is: {result}\")\n",
    "\n",
    "    elif user_input_function == '2': \n",
    "        result = A or B\n",
    "        print(f\"Result of A OR B is: {result}\")\n",
    "\n",
    "    elif user_input_function == '3': \n",
    "        result_A = not A\n",
    "        result_B = not B\n",
    "        print(f\"Result of NOT A is: {result_A}\")\n",
    "        print(f\"Result of NOT B is: {result_B}\")\n",
    "\n",
    "    elif user_input_function == '4':  # NAND operation\n",
    "        result = not (A and B)\n",
    "        print(f\"Result of A NAND B is: {result}\")\n",
    "\n",
    "    elif user_input_function == '5':  # NOR operation\n",
    "        result = not (A or B)\n",
    "        print(f\"Result of A NOR B is: {result}\")\n",
    "\n",
    "    elif user_input_function == '6':  # XOR operation\n",
    "        result = A ^ B\n",
    "        print(f\"Result of A XOR B is: {result}\")\n",
    "\n",
    "    else:\n",
    "        print(\"Invalid choice. Please choose a number from 1 to 6.\")\n"
   ]
  },
  {
   "cell_type": "markdown",
   "metadata": {},
   "source": [
    "### Exercise 2: Number Base Conversion\n",
    "\n",
    "Implement Python functions for converting numbers between binary, decimal, and hexadecimal number systems."
   ]
  },
  {
   "cell_type": "code",
   "execution_count": null,
   "metadata": {},
   "outputs": [],
   "source": [
    "def binary_to_decimal(binary):\n",
    "    # TODO: Implement binary to decimal conversion\n",
    "    \n",
    "def decimal_to_binary(decimal):\n",
    "    # TODO: Implement decimal to binary conversion\n",
    "    \n",
    "def hex_to_binary(hex):\n",
    "    # TODO: Implement hex to binary conversion\n",
    "    \n",
    "def binary_to_hex(binary):\n",
    "    # TODO: Implement binary to hex conversion\n",
    "    \n",
    "def decimal_to_hex(decimal):\n",
    "    # TODO: Implement decimal to hex conversion\n",
    "    \n",
    "def hex_to_decimal(hex):\n",
    "    # TODO: Implement hex to decimal conversion"
   ]
  },
  {
   "cell_type": "code",
   "execution_count": 17,
   "metadata": {},
   "outputs": [
    {
     "name": "stdout",
     "output_type": "stream",
     "text": [
      "The binary equivalent of decimal 11 is 0b1011.\n"
     ]
    }
   ],
   "source": [
    "service = input(\"What kind of conversion would you like to do? :1.Bin to Dec 2.Bin to Hex 3.Dec to Bin 4.Dec to Hex 5.Hex to Bin 6.Hex to Dec\")\n",
    "\n",
    "if service == '1':\n",
    "    user_input = input(\"Please enter your binary number: \")\n",
    "    try:\n",
    "        conversion = int(user_input, 2)\n",
    "        print(f\"The decimal equivalent of binary {user_input} is {conversion}.\")\n",
    "    except ValueError:\n",
    "        print(\"Invalid binary number entered.\")\n",
    "elif service == '2':\n",
    "    user_input = input(\"Please enter your binary number: \")\n",
    "    try:\n",
    "        decimal_value = int(user_input, 2)  \n",
    "        hex_value = hex(decimal_value)\n",
    "        print(f\"The hexadecimal equivalent of binary {user_input} is {hex_value}.\")\n",
    "    except ValueError:\n",
    "        print(\"Invalid binary number entered.\")\n",
    "elif service == '3':\n",
    "    user_input = input(\"Please enter your decimal number: \")\n",
    "    try:\n",
    "        decimal_value = int(user_input)  \n",
    "        binary_value = bin(decimal_value) \n",
    "        print(f\"The binary equivalent of decimal {user_input} is {binary_value}.\")\n",
    "    except ValueError:\n",
    "        print(\"Invalid decimal number entered.\")\n",
    "\n",
    "\n"
   ]
  },
  {
   "cell_type": "markdown",
   "metadata": {},
   "source": [
    "### Exercise 3: Assembly to Python Translator\n",
    "\n",
    "Convert the following examples of assembly code to the relevant Python code.\n",
    "\n",
    "1. Example 1\n",
    "\n",
    "    ```assembly\n",
    "    MOV A, 5\n",
    "    MOV B, 10\n",
    "    ADD A, B\n",
    "    ```"
   ]
  },
  {
   "cell_type": "code",
   "execution_count": null,
   "metadata": {},
   "outputs": [],
   "source": [
    "def assembly_to_python_example_1():\n",
    "    # TODO: Implement assembly to python example 1"
   ]
  },
  {
   "cell_type": "markdown",
   "metadata": {},
   "source": [
    "2. Example 2\n",
    "\n",
    "    ```assembly\n",
    "    MOV A, 5\n",
    "    MOV B, 10\n",
    "    SUB A, B\n",
    "    ```"
   ]
  },
  {
   "cell_type": "code",
   "execution_count": null,
   "metadata": {},
   "outputs": [],
   "source": [
    "def assembly_to_python_example_2():\n",
    "    # TODO: Implement assembly to python example 2"
   ]
  },
  {
   "cell_type": "markdown",
   "metadata": {},
   "source": [
    "3. Example 3\n",
    "\n",
    "    ```assembly\n",
    "    MOV A, 5\n",
    "    MOV B, 10\n",
    "    MUL A, B\n",
    "    ```"
   ]
  },
  {
   "cell_type": "code",
   "execution_count": null,
   "metadata": {},
   "outputs": [],
   "source": [
    "def assembly_to_python_example_3():\n",
    "    # TODO: Implement assembly to python example 3"
   ]
  },
  {
   "cell_type": "markdown",
   "metadata": {},
   "source": [
    "4. Example 4\n",
    "\n",
    "    ```assembly\n",
    "    MOV A, 5\n",
    "    MOV B, 10\n",
    "    DIV A, B\n",
    "    ```"
   ]
  },
  {
   "cell_type": "code",
   "execution_count": null,
   "metadata": {},
   "outputs": [],
   "source": [
    "def assembly_to_python_example_4():\n",
    "    # TODO: Implement assembly to python example 4"
   ]
  },
  {
   "cell_type": "markdown",
   "metadata": {},
   "source": [
    "5. Example 5\n",
    "\n",
    "    ```assembly\n",
    "    MOV A, 5\n",
    "    MOV B, 10\n",
    "    ADD A, B\n",
    "    MOV C, 10\n",
    "    SUB C, A\n",
    "    MUL C, B\n",
    "    ```"
   ]
  },
  {
   "cell_type": "code",
   "execution_count": null,
   "metadata": {},
   "outputs": [],
   "source": [
    "def assembly_to_python_example_5():\n",
    "    # TODO: Implement assembly to python example 5"
   ]
  },
  {
   "cell_type": "markdown",
   "metadata": {},
   "source": [
    "### Exercise 4: Buffer Overflow\n",
    "\n",
    "Implement a Python program that demonstrates a buffer overflow vulnerability. Below is an example using a `for` loop - try to create a buffer overflow vulnerability in the program."
   ]
  },
  {
   "cell_type": "code",
   "execution_count": 2,
   "metadata": {},
   "outputs": [
    {
     "name": "stdout",
     "output_type": "stream",
     "text": [
      "buffer[0] = 0\n",
      "buffer[1] = 1\n",
      "buffer[2] = 2\n",
      "buffer[3] = 3\n",
      "buffer[4] = 4\n",
      "buffer[5] = 5\n",
      "buffer[6] = 6\n",
      "buffer[7] = 7\n",
      "buffer[8] = 8\n"
     ]
    }
   ],
   "source": [
    "def buffer_overflow_example():\n",
    "    buffer = [0] * 10  # Create a buffer with 10 elements\n",
    "    for i in range(9):  # Hint: Try to write beyond the buffer's limit\n",
    "        buffer[i] = i\n",
    "        print(f\"buffer[{i}] = {buffer[i]}\")\n",
    "\n",
    "\n",
    "buffer_overflow_example()"
   ]
  },
  {
   "cell_type": "markdown",
   "metadata": {},
   "source": [
    "Now create your own example without using a `for` loop and explain how the buffer overflow vulnerability can be exploited."
   ]
  },
  {
   "cell_type": "code",
   "execution_count": null,
   "metadata": {},
   "outputs": [],
   "source": [
    "def custom_buffer_overflow():\n",
    "    # TODO: Implement a custom buffer overflow example"
   ]
  },
  {
   "cell_type": "markdown",
   "metadata": {},
   "source": [
    "## Test your code\n",
    "\n",
    "Test your code with the provided test cases. You will have to call the `test()` function to run the test cases."
   ]
  },
  {
   "cell_type": "code",
   "execution_count": null,
   "metadata": {},
   "outputs": [],
   "source": [
    "def test():\n",
    "    # Test AND gate\n",
    "    assert AND(0, 0) == 0\n",
    "    assert AND(0, 1) == 0\n",
    "    assert AND(1, 0) == 0\n",
    "    assert AND(1, 1) == 1\n",
    "    print(\"AND gate test passed\")\n",
    "\n",
    "    # Test OR gate\n",
    "    assert OR(0, 0) == 0\n",
    "    assert OR(0, 1) == 1\n",
    "    assert OR(1, 0) == 1\n",
    "    assert OR(1, 1) == 1\n",
    "    print(\"OR gate test passed\")\n",
    "\n",
    "    # Test NOT gate\n",
    "    assert NOT(0) == 1\n",
    "    assert NOT(1) == 0\n",
    "    print(\"NOT gate test passed\")\n",
    "\n",
    "    # Test NAND gate\n",
    "    assert NAND(0, 0) == 1\n",
    "    assert NAND(0, 1) == 1\n",
    "    assert NAND(1, 0) == 1\n",
    "    assert NAND(1, 1) == 0\n",
    "    print(\"NAND gate test passed\")\n",
    "\n",
    "    # Test NOR gate\n",
    "    assert NOR(0, 0) == 1\n",
    "    assert NOR(0, 1) == 0\n",
    "    assert NOR(1, 0) == 0\n",
    "    assert NOR(1, 1) == 0\n",
    "    print(\"NOR gate test passed\")\n",
    "\n",
    "    # Test XOR gate\n",
    "    assert XOR(0, 0) == 0\n",
    "    assert XOR(0, 1) == 1\n",
    "    assert XOR(1, 0) == 1\n",
    "    assert XOR(1, 1) == 0\n",
    "    print(\"XOR gate test passed\")\n",
    "\n",
    "    # Test binary to decimal conversion\n",
    "    assert binary_to_decimal(\"1010\") == 10\n",
    "    assert binary_to_decimal(\"1111\") == 15\n",
    "    print(\"Binary to decimal conversion test passed\")\n",
    "\n",
    "    # Test decimal to binary conversion\n",
    "    assert decimal_to_binary(10) == \"1010\"\n",
    "    assert decimal_to_binary(15) == \"1111\"\n",
    "    print(\"Decimal to binary conversion test passed\")\n",
    "\n",
    "    # Test hex to binary conversion\n",
    "    assert hex_to_binary(\"A\") == \"1010\"\n",
    "    assert hex_to_binary(\"F\") == \"1111\"\n",
    "    print(\"Hex to binary conversion test passed\")\n",
    "\n",
    "    # Test assembly to python example 1\n",
    "    assert assembly_to_python_example_1() == 15\n",
    "    print(\"Assembly to python example 1 test passed\")\n",
    "    \n",
    "    # Test assembly to python example 2\n",
    "    assert assembly_to_python_example_2() == 10\n",
    "    \n",
    "    # Test assembly to python example 3\n",
    "    assert assembly_to_python_example_3() == 50\n",
    "    \n",
    "    # Test assembly to python example 4\n",
    "    assert assembly_to_python_example_4() == 2\n",
    "    \n",
    "    # Test assembly to python example 5\n",
    "    assert assembly_to_python_example_5() == 50"
   ]
  },
  {
   "cell_type": "markdown",
   "metadata": {},
   "source": [
    "Submit your completed workbook to your GitHub repository."
   ]
  }
 ],
 "metadata": {
  "kernelspec": {
   "display_name": "Python 3",
   "language": "python",
   "name": "python3"
  },
  "language_info": {
   "codemirror_mode": {
    "name": "ipython",
    "version": 3
   },
   "file_extension": ".py",
   "mimetype": "text/x-python",
   "name": "python",
   "nbconvert_exporter": "python",
   "pygments_lexer": "ipython3",
   "version": "3.12.4"
  }
 },
 "nbformat": 4,
 "nbformat_minor": 2
}
