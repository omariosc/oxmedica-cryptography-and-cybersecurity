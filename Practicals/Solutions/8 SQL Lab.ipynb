{
 "cells": [
  {
   "cell_type": "code",
   "execution_count": 6,
   "metadata": {},
   "outputs": [
    {
     "name": "stdout",
     "output_type": "stream",
     "text": [
      "(1, 1.0, 'North st')\n",
      "(2, 2.0, 'West st')\n"
     ]
    }
   ],
   "source": [
    "     # Connect to SQLite database\n",
    "     import sqlite3\n",
    "\n",
    "     conn = sqlite3.connect('residence.db')\n",
    "     cursor = conn.cursor()\n",
    "\n",
    "     # Create a table\n",
    "     cursor.execute('''\n",
    "     CREATE TABLE IF NOT EXISTS residents (\n",
    "         addressid INTEGER PRIMARY KEY,\n",
    "         home_num REAL,\n",
    "         st_name TEXT\n",
    "     )\n",
    "     ''')\n",
    "\n",
    "     # Insert data into the table\n",
    "     cursor.execute('''\n",
    "     INSERT INTO residents (home_num, st_name) VALUES (?, ?)\n",
    "     ''', (1, 'North st'))\n",
    "\n",
    "     cursor.execute('''\n",
    "     INSERT INTO residents (home_num, st_name) VALUES (?, ?)\n",
    "     ''', (2, 'West st'))\n",
    "\n",
    "     # Select data from the table\n",
    "     cursor.execute('SELECT * FROM residents')\n",
    "     rows = cursor.fetchall()\n",
    "     for row in rows:\n",
    "         print(row)\n",
    "\n",
    "     # Update data in the table\n",
    "     cursor.execute('''\n",
    "     UPDATE residents SET home_num = ? WHERE st_name = ?\n",
    "     ''', (3, 'North st'))\n",
    "\n",
    "     # Delete data from the table\n",
    "     cursor.execute('''\n",
    "     DELETE FROM residents WHERE st_name = ?\n",
    "     ''', ('West st',))\n",
    "\n",
    "     conn.commit()\n",
    "     conn.close()"
   ]
  },
  {
   "cell_type": "markdown",
   "metadata": {},
   "source": [
    "SELECT * FROM Residents:\n",
    "INSERT INTO Residents (address, home_number) VALUES ('address1', 'home_number1');\n",
    "Update Residents SET home_number = 'new_home_number' WHERE address = 'address1';\n",
    "DELETE FROM Residents WHERE address = 'address1';"
   ]
  },
  {
   "cell_type": "markdown",
   "metadata": {},
   "source": [
    "    SELECT * FROM Residents WHERE address = 'Coordinator' -- ' AND home_number = 'home_number';"
   ]
  },
  {
   "cell_type": "markdown",
   "metadata": {},
   "source": [
    "    import sqlite3\n",
    "\n",
    "    conn = sqlite3.connect('residence.db')\n",
    "    cursor = conn.cursor()\n",
    "    cursor.execute(\"SELECT * FROM Users WHERE address = + AND home_number = +\", (address, home_number))"
   ]
  }
 ],
 "metadata": {
  "kernelspec": {
   "display_name": "Python 3",
   "language": "python",
   "name": "python3"
  },
  "language_info": {
   "codemirror_mode": {
    "name": "ipython",
    "version": 3
   },
   "file_extension": ".py",
   "mimetype": "text/x-python",
   "name": "python",
   "nbconvert_exporter": "python",
   "pygments_lexer": "ipython3",
   "version": "3.12.4"
  }
 },
 "nbformat": 4,
 "nbformat_minor": 2
}
