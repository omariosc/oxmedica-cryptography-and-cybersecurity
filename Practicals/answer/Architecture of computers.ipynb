{
 "cells": [
  {
   "cell_type": "code",
   "execution_count": null,
   "metadata": {},
   "outputs": [],
   "source": []
  },
  {
   "cell_type": "markdown",
   "metadata": {},
   "source": []
  },
  {
   "cell_type": "code",
   "execution_count": 1,
   "metadata": {},
   "outputs": [
    {
     "name": "stdout",
     "output_type": "stream",
     "text": [
      "AND(1, 1): 1\n",
      "AND(1, 0): 0\n",
      "OR(1, 0): 1\n",
      "OR(0, 0): 0\n",
      "NOT(1): False\n",
      "NOT(0): True\n",
      "NAND(1, 1): False\n"
     ]
    }
   ],
   "source": [
    "def AND(a, b):\n",
    "    return a and b\n",
    "\n",
    "def OR(a, b):\n",
    "    return a or b\n",
    "\n",
    "def NOT(a):\n",
    "    return not a\n",
    "\n",
    "def NAND(a, b):\n",
    "    return not (a and b)\n",
    "\n",
    "def NOR(a, b):\n",
    "    return not (a or b)\n",
    "\n",
    "def XOR(a, b):\n",
    "    return a != b  # XOR is true if a and b are different\n",
    "\n",
    "# Testing the functions\n",
    "print(\"AND(1, 1):\", AND(1, 1))  # Expected output: True\n",
    "print(\"AND(1, 0):\", AND(1, 0))  # Expected output: False\n",
    "\n",
    "print(\"OR(1, 0):\", OR(1, 0))    # Expected output: True\n",
    "print(\"OR(0, 0):\", OR(0, 0))    # Expected output: False\n",
    "\n",
    "print(\"NOT(1):\", NOT(1))        # Expected output: False\n",
    "print(\"NOT(0):\", NOT(0))        # Expected output: True\n",
    "\n",
    "print(\"NAND(1, 1):\", NAND(1, 1))\n"
   ]
  }
 ],
 "metadata": {
  "kernelspec": {
   "display_name": "Python 3",
   "language": "python",
   "name": "python3"
  },
  "language_info": {
   "codemirror_mode": {
    "name": "ipython",
    "version": 3
   },
   "file_extension": ".py",
   "mimetype": "text/x-python",
   "name": "python",
   "nbconvert_exporter": "python",
   "pygments_lexer": "ipython3",
   "version": "3.12.4"
  }
 },
 "nbformat": 4,
 "nbformat_minor": 2
}
