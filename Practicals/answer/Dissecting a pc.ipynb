{
 "cells": [
  {
   "cell_type": "code",
   "execution_count": null,
   "metadata": {},
   "outputs": [],
   "source": []
  },
  {
   "cell_type": "markdown",
   "metadata": {},
   "source": [
    " Introduction to Computer Components \n",
    "Overview of a Computer:\n",
    "\n",
    "Discuss the main components of a computer and their functions.\n",
    "Components to cover:\n",
    "CPU: The brain of the computer, responsible for processing instructions.\n",
    "GPU: Handles rendering of images, video, and animations.\n",
    "RAM: Temporary storage that provides space for the computer to read and write data to be accessed by the CPU quickly.\n",
    "Motherboard: The main circuit board that connects all components of the computer.\n",
    "Power Supply Unit (PSU): Converts electricity from the outlet into a usable form for the computer components.\n",
    "Hard Drive/SSD (Storage): Stores all data, including the operating system, applications, and files.\n",
    "Cooling System: Keeps the computer components cool to prevent overheating.\n",
    "Case: The enclosure that houses all the computer components.\n",
    "Tools and Safety:\n",
    "\n",
    "Explain the tools needed to safely open a computer case:\n",
    "Screwdrivers (usually Phillips-head)\n",
    "Anti-static wrist strap\n",
    "Plastic or nylon pry tool (optional)\n",
    "\n",
    "Emphasize the importance of grounding to avoid static electricity damage:\n",
    "Always wear an anti-static wrist strap and connect it to a grounded metal object.\n",
    "Work on a non-conductive surface.\n",
    "\n",
    "\n",
    "\n"
   ]
  }
 ],
 "metadata": {
  "language_info": {
   "name": "python"
  }
 },
 "nbformat": 4,
 "nbformat_minor": 2
}
