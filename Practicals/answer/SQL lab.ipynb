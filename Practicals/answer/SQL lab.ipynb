{
 "cells": [
  {
   "cell_type": "markdown",
   "metadata": {},
   "source": [
    "  import -- Create a new database called 'DatabaseName'\n",
    "  -- Connect to the 'master' database to run this snippet\n",
    "  USE master\n",
    "  GO\n",
    "  -- Create the new database if it does not exist already\n",
    "  IF NOT EXISTS (\n",
    "    SELECT name\n",
    "        FROM sys.databases\n",
    "        WHERE name = N'car_company'\n",
    "  )\n",
    "  CREATE DATABASE car_company\n",
    "  GO\n",
    "\n",
    "  \n",
    " SELECT * FROM cars;\n",
    "    INSERT INTO cars (carname, value) VALUES ('carname1', 'value1');\n",
    "    UPDATE cars SET value = 'newvalue' WHERE carname = 'carname1';\n",
    "    DELETE FROM cars WHERE carname = 'carname1';\n",
    "\n",
    " SELECT * FROM cars WHERE carname = 'admin' -- ' AND password = 'password';\n",
    "\n",
    "  conn = sqlite3.connect('example.db')\n",
    "    cursor = conn.cursor()\n",
    "    cursor.execute(\"SELECT * FROM cars WHERE carname = ? AND value = ?\", (carname, value))\n",
    " \n",
    "\n",
    "\n",
    "   CREATE TABLE Products (\n",
    "         id INTEGER PRIMARY KEY,\n",
    "         name TEXT,\n",
    "         price REAL\n",
    "     );\n",
    "\n",
    "   INSERT INTO Products (name, price) VALUES ('Product1', 10.99);\n",
    "     INSERT INTO Products (name, price) VALUES ('Product2', 20.99);\n"
   ]
  },
  {
   "cell_type": "code",
   "execution_count": null,
   "metadata": {
    "vscode": {
     "languageId": "plaintext"
    }
   },
   "outputs": [],
   "source": [
    "CREATE TABLE Products (\n",
    "         id INTEGER PRIMARY KEY,\n",
    "         name TEXT,\n",
    "         price REAL\n",
    "     );\n",
    "\n",
    "     INSERT INTO Products (name, price) VALUES ('Product1', 10.99);\n",
    "     INSERT INTO Products (name, price) VALUES ('Product2', 20.99);\n",
    " SELECT * FROM Products;\n",
    "\n",
    "  UPDATE Products SET price = 15.99 WHERE name = 'Product1';\n",
    "DELETE FROM Products WHERE name = 'Product2';"
   ]
  },
  {
   "cell_type": "code",
   "execution_count": null,
   "metadata": {
    "vscode": {
     "languageId": "plaintext"
    }
   },
   "outputs": [],
   "source": []
  },
  {
   "cell_type": "code",
   "execution_count": null,
   "metadata": {
    "vscode": {
     "languageId": "plaintext"
    }
   },
   "outputs": [],
   "source": []
  },
  {
   "cell_type": "code",
   "execution_count": null,
   "metadata": {
    "vscode": {
     "languageId": "plaintext"
    }
   },
   "outputs": [],
   "source": [
    "import sqlite3\n",
    "\n",
    "     conn = sqlite3.connect('example.db')\n",
    "     cursor = conn.cursor()\n",
    "\n",
    "     # Create a table\n",
    "     cursor.execute('''\n",
    "     CREATE TABLE IF NOT EXISTS Products (\n",
    "         id INTEGER PRIMARY KEY,\n",
    "         name TEXT,\n",
    "         price REAL\n",
    "     )\n",
    "     ''')\n",
    "\n",
    "     # Insert data into the table\n",
    "     cursor.execute('''\n",
    "     INSERT INTO Products (name, price) VALUES (?, ?)\n",
    "     ''', ('Product1', 10.99))\n",
    "\n",
    "     cursor.execute('''\n",
    "     INSERT INTO Products (name, price) VALUES (?, ?)\n",
    "     ''', ('Product2', 20.99))\n",
    "\n",
    "     # Select data from the table\n",
    "     cursor.execute('SELECT * FROM Products')\n",
    "     rows = cursor.fetchall()\n",
    "     for row in rows:\n",
    "         print(row)\n",
    "\n",
    "     # Update data in the table\n",
    "     cursor.execute('''\n",
    "     UPDATE Products SET price = ? WHERE name = ?\n",
    "     ''', (15.99, 'Product1'))\n",
    "\n",
    "     # Delete data from the table\n",
    "     cursor.execute('''\n"
   ]
  },
  {
   "cell_type": "code",
   "execution_count": null,
   "metadata": {
    "vscode": {
     "languageId": "plaintext"
    }
   },
   "outputs": [],
   "source": [
    "     DELETE FROM Products WHERE name = ?\n",
    "     ''', ('Product2',))\n",
    "\n",
    "     conn.commit()\n",
    "     conn.close()\n",
    "     ```\n"
   ]
  }
 ],
 "metadata": {
  "language_info": {
   "name": "python"
  }
 },
 "nbformat": 4,
 "nbformat_minor": 2
}
