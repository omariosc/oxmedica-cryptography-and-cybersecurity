{
 "cells": [
  {
   "cell_type": "code",
   "execution_count": 1,
   "metadata": {},
   "outputs": [
    {
     "name": "stdout",
     "output_type": "stream",
     "text": [
      "Decimal 73 is equivalent to binary 0b1001001\n"
     ]
    }
   ],
   "source": [
    "decimal_number = 73\n",
    "binary_number = bin(decimal_number)\n",
    "\n",
    "print(f\"Decimal {decimal_number} is equivalent to binary {binary_number}\")\n",
    "\n"
   ]
  },
  {
   "cell_type": "code",
   "execution_count": null,
   "metadata": {},
   "outputs": [],
   "source": [
    "decimal_number = 314\n",
    "hexadecimal_number = hex(decimal_number)\n",
    "\n",
    "print(f\"Decimal {decimal_number} is equivalent to hexadecimal {hexadecimal_number}\")\n"
   ]
  },
  {
   "cell_type": "code",
   "execution_count": null,
   "metadata": {},
   "outputs": [],
   "source": [
    "binary_number = '1011'\n",
    "decimal_number = int(binary_number, 2)\n",
    "\n",
    "print(f\"Binary {binary_number} is equivalent to decimal {decimal_number}\")\n"
   ]
  },
  {
   "cell_type": "code",
   "execution_count": null,
   "metadata": {},
   "outputs": [],
   "source": [
    "binary_number = '1011'\n",
    "decimal_number = int(binary_number, 2)\n",
    "\n",
    "print(f\"Binary {binary_number} is equivalent to decimal {decimal_number}\")\n"
   ]
  }
 ],
 "metadata": {
  "kernelspec": {
   "display_name": "Python 3",
   "language": "python",
   "name": "python3"
  },
  "language_info": {
   "codemirror_mode": {
    "name": "ipython",
    "version": 3
   },
   "file_extension": ".py",
   "mimetype": "text/x-python",
   "name": "python",
   "nbconvert_exporter": "python",
   "pygments_lexer": "ipython3",
   "version": "3.9.7"
  },
  "orig_nbformat": 4
 },
 "nbformat": 4,
 "nbformat_minor": 2
}
