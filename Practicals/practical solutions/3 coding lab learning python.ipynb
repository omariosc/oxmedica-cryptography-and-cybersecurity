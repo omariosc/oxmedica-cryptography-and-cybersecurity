{
 "cells": [
  {
   "cell_type": "code",
   "execution_count": 7,
   "metadata": {},
   "outputs": [
    {
     "name": "stdout",
     "output_type": "stream",
     "text": [
      "HELLO WORLD!\n",
      "msg\n",
      "albert einstein\n",
      "trek\n",
      "redline\n",
      "giant\n",
      "['tuxedo', 'calico', 'siamese']\n"
     ]
    }
   ],
   "source": [
    "print('HELLO WORLD!')\n",
    "\n",
    "msg=\"hello world!\"\n",
    "print(\"msg\")\n",
    "\n",
    "first_name= 'albert'\n",
    "last_name= 'einstein'\n",
    "full_name=first_name + ' ' + last_name \n",
    "print(full_name)\n",
    "\n",
    "bikes= ['trek','redline','giant']\n",
    "first_bike=bikes[0]\n",
    "last_bike=bikes[-1]\n",
    "\n",
    "for bikes in bikes: print(bikes)\n",
    "\n",
    "cats=[]\n",
    "cats.append('tuxedo')\n",
    "cats.append('calico')\n",
    "cats.append('siamese')\n",
    "print(cats)"
   ]
  }
 ],
 "metadata": {
  "kernelspec": {
   "display_name": "Python 3",
   "language": "python",
   "name": "python3"
  },
  "language_info": {
   "codemirror_mode": {
    "name": "ipython",
    "version": 3
   },
   "file_extension": ".py",
   "mimetype": "text/x-python",
   "name": "python",
   "nbconvert_exporter": "python",
   "pygments_lexer": "ipython3",
   "version": "3.9.7"
  },
  "orig_nbformat": 4
 },
 "nbformat": 4,
 "nbformat_minor": 2
}
