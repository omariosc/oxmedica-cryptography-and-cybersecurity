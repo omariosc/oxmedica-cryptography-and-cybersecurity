{
 "cells": [
  {
   "cell_type": "code",
   "execution_count": 37,
   "metadata": {},
   "outputs": [
    {
     "name": "stdout",
     "output_type": "stream",
     "text": [
      "hello world\n",
      "Abdulaziz Almatrafi\n",
      "2024-07-01 11:32:07.410472\n",
      "[1, 4, 9, 16, 25]\n",
      "[4, 16]\n"
     ]
    }
   ],
   "source": [
    "print(\"hello world\")\n",
    "\n",
    "\n",
    "\n",
    "first_name = 'Abdulaziz'\n",
    "last_name = 'Almatrafi'\n",
    "full_name = first_name + ' ' + last_name\n",
    "print(full_name)\n",
    "\n",
    "\n",
    "\n",
    "from datetime import datetime, timedelta\n",
    "\n",
    "now = datetime.now()\n",
    "print(now)\n",
    "\n",
    "\n",
    "\n",
    "squares = [x**2 for x in range(1, 6)]\n",
    "print(squares)  \n",
    "\n",
    "\n",
    "even_squares = [x**2 for x in range(1, 6) if x % 2 == 0]\n",
    "print(even_squares)   "
   ]
  }
 ],
 "metadata": {
  "kernelspec": {
   "display_name": "Python 3",
   "language": "python",
   "name": "python3"
  },
  "language_info": {
   "name": "python",
   "version": "3.9.7"
  },
  "orig_nbformat": 4
 },
 "nbformat": 4,
 "nbformat_minor": 2
}
