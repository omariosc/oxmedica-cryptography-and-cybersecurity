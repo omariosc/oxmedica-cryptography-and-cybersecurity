{
 "cells": [
  {
   "cell_type": "code",
   "execution_count": null,
   "metadata": {},
   "outputs": [],
   "source": [
    "cpu:process data and instructcions provide it by software programs\n",
    "memory/ram:encompasses various types of storagetechnologies\n",
    "\n"
   ]
  }
 ],
 "metadata": {
  "language_info": {
   "name": "python"
  },
  "orig_nbformat": 4
 },
 "nbformat": 4,
 "nbformat_minor": 2
}
