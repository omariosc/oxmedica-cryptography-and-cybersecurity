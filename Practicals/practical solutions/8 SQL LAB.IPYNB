{
 "cells": [
  {
   "attachments": {},
   "cell_type": "markdown",
   "metadata": {},
   "source": [
    "SELECT * FROM FOOD;\n",
    "    INSERT INTO FOOD (ZA3TAR, NA3NA3) VALUES ('ZA3TAR1', 'NA3NA31');\n",
    "    UPDATE FOOD SET NA3NA3 = 'SUPERNA3NA3' WHERE ZA3TAR= 'ZA3TAR1';\n",
    "    DELETE FROM FOOD WHERE ZA3TAR = 'ZA3TAQR1';"
   ]
  },
  {
   "attachments": {},
   "cell_type": "markdown",
   "metadata": {},
   "source": [
    ", is a common attack vector that uses malicious SQL code for backend database manipulation to access information that was not intended to be displayed.\n",
    "\n",
    "when you ask a user for input, like their username/userid, and instead of a name/id, the user gives you an SQL statement that you will unknowingly run on your database\n",
    "\n",
    "Retrieving hidden data\n",
    "\n",
    "Filter Database Inputs"
   ]
  },
  {
   "cell_type": "code",
   "execution_count": 3,
   "metadata": {},
   "outputs": [
    {
     "ename": "SyntaxError",
     "evalue": "invalid syntax (3064648573.py, line 1)",
     "output_type": "error",
     "traceback": [
      "\u001b[1;36m  Cell \u001b[1;32mIn[3], line 1\u001b[1;36m\u001b[0m\n\u001b[1;33m    CREATE TABLE Products (\u001b[0m\n\u001b[1;37m           ^\u001b[0m\n\u001b[1;31mSyntaxError\u001b[0m\u001b[1;31m:\u001b[0m invalid syntax\n"
     ]
    }
   ],
   "source": [
    "product=('id integer primary key','name text','rice real');\n"
   ]
  }
 ],
 "metadata": {
  "kernelspec": {
   "display_name": "Python 3",
   "language": "python",
   "name": "python3"
  },
  "language_info": {
   "codemirror_mode": {
    "name": "ipython",
    "version": 3
   },
   "file_extension": ".py",
   "mimetype": "text/x-python",
   "name": "python",
   "nbconvert_exporter": "python",
   "pygments_lexer": "ipython3",
   "version": "3.9.7"
  },
  "orig_nbformat": 4
 },
 "nbformat": 4,
 "nbformat_minor": 2
}
