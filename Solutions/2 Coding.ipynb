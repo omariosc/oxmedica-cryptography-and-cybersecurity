{
 "cells": [
  {
   "cell_type": "code",
   "execution_count": 14,
   "metadata": {},
   "outputs": [
    {
     "name": "stdout",
     "output_type": "stream",
     "text": [
      "there is 7 registers in the program\n",
      "On Its Way....\n",
      "['ahmed', 'ali', 'mohammed', 'nasseer', 'faisal', 'fahad', 'omar']\n",
      "OK, Now Theres a input box will show to you after 4 secs to be at exact, PLEASE ENTER YOUR NAME\n",
      "OK, Your name is successuflly registerd\n",
      "The list Of Persons registerd will show up right now\n",
      "['ahmed', 'ali', 'mohammed', 'nasseer', 'faisal', 'fahad', 'omar', 'AHMED ABDULLAH']\n"
     ]
    }
   ],
   "source": [
    "import time\n",
    "persons = ['ahmed', 'ali', 'mohammed', 'nasseer', 'faisal', 'fahad', 'omar']\n",
    "num_persons = len(persons)\n",
    "print(\"there is \" + str(num_persons) + \" registers in the program\")\n",
    "time.sleep(2)\n",
    "user_input = input(\"Do you want to Show Names Registerd? (yes/no): \")\n",
    "if user_input.lower() == \"yes\":\n",
    "    print(\"On Its Way....\")\n",
    "    time.sleep(2)\n",
    "    print(persons)\n",
    "else:\n",
    "    print(\"Exiting...\")\n",
    "\n",
    "user_input = input(\"Do you want to Register? (yes/no): \")\n",
    "if user_input.lower() == \"yes\":\n",
    "    print(\"OK, Now Theres a input box will show to you after 2 secs to be at exact, PLEASE ENTER YOUR NAME\")\n",
    "    time.sleep(2)\n",
    "    user_input = input(\"PLEASE ENTER YOUR NAME HERE\")\n",
    "    persons.append(user_input)\n",
    "    time.sleep(2)\n",
    "    print(\"OK, Your name is successuflly registerd\")\n",
    "    print(\"The list Of Persons registerd will show up right now\")\n",
    "    time.sleep(1)\n",
    "    print(persons)\n",
    "else:\n",
    "    print(\"Exiting...\")\n",
    "\n"
   ]
  },
  {
   "attachments": {},
   "cell_type": "markdown",
   "metadata": {},
   "source": [
    "Hi, What i did here is an project for registering names for programs and other uses\n",
    "\n",
    "i took my help and inspiriton from these websites:\n",
    "\n",
    "- https://www.w3schools.com/python/python_lists_add.asp\n",
    "\n",
    "- https://stackoverflow.com/questions/56534154/adding-names-to-a-python-list\n",
    "\n",
    "Questions:\n",
    "\n",
    "1 - How did it go? Very good and easy.\n",
    "2 - Any Problems? No Errors or Problems.\n",
    "3 - Extra Work You Wanted to Do? Just Changing The way The Names Shows to Be Better and easy to read for everybody."
   ]
  }
 ],
 "metadata": {
  "kernelspec": {
   "display_name": "Python 3",
   "language": "python",
   "name": "python3"
  },
  "language_info": {
   "codemirror_mode": {
    "name": "ipython",
    "version": 3
   },
   "file_extension": ".py",
   "mimetype": "text/x-python",
   "name": "python",
   "nbconvert_exporter": "python",
   "pygments_lexer": "ipython3",
   "version": "3.9.7"
  },
  "orig_nbformat": 4
 },
 "nbformat": 4,
 "nbformat_minor": 2
}
