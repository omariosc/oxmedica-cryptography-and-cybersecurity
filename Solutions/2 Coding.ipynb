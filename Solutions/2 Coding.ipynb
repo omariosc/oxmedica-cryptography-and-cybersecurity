{
 "cells": [
  {
   "cell_type": "code",
   "execution_count": null,
   "metadata": {},
   "outputs": [],
   "source": [
    "#function for checking even or odd status\n",
    "def check_even_odd(num):\n",
    "    if num % 2 == 0:\n",
    "        return \"thats an even number!\"\n",
    "    else:\n",
    "        return \"thats an odd number!\"\n",
    "\n",
    "# input required from the user\n",
    "user_input = input(\"please enter a number\")\n",
    "\n",
    "# checking if the input is a decimal or whole number \n",
    "try:\n",
    "    number = float(user_input)\n",
    "    if number.is_integer():\n",
    "        number = int(number)  #changing number to a whole number if it actually is as verification \n",
    "        result = check_even_odd(number)\n",
    "        print(result)\n",
    "    else:\n",
    "        print(\"please enter a whole number! not a decimal!\")\n",
    "except ValueError:\n",
    "    print(\"please enter a valid number!\")\n",
    "    #took way too much time for what its worth honestly"
   ]
  },
  {
   "cell_type": "markdown",
   "metadata": {},
   "source": [
    "markdown notes: wanted to make a calculator originally but could not figure out the proper syntax for many numbers, decided on one number and changing the purpose of the code to check for even or odd numbers. Could not find out how to test against numbers that werent whole"
   ]
  }
 ],
 "metadata": {
  "kernelspec": {
   "display_name": "Python 3",
   "language": "python",
   "name": "python3"
  },
  "language_info": {
   "codemirror_mode": {
    "name": "ipython",
    "version": 3
   },
   "file_extension": ".py",
   "mimetype": "text/x-python",
   "name": "python",
   "nbconvert_exporter": "python",
   "pygments_lexer": "ipython3",
   "version": "3.12.4"
  }
 },
 "nbformat": 4,
 "nbformat_minor": 2
}
