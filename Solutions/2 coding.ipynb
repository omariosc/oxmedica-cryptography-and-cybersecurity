{
 "cells": [
  {
   "cell_type": "code",
   "execution_count": 16,
   "metadata": {},
   "outputs": [
    {
     "name": "stdout",
     "output_type": "stream",
     "text": [
      "Help Menu: \n",
      "For Addition enter 'Add'.\n",
      "For Subtraction enter 'Sub'.\n",
      "For Divion enter 'Div'\n",
      "For Multiplication enter 'Mult'.\n",
      "its equal to  6\n"
     ]
    }
   ],
   "source": [
    "##Name = Abdulaziz Badr M Aljoaid\n",
    "\n",
    "##this recives the two numbers you want to add and returns it.\n",
    "def Add():\n",
    "    user_input_x = int(input(\"What do you want to Add?\\n\"))\n",
    "    user_input_y = int(input(\"What do you want to Add it to?\\n\"))\n",
    "    c =  user_input_x +  user_input_y\n",
    "    return c\n",
    "\n",
    "##this recives the two numbers you want to subtract and returns it.\n",
    "def Sub():\n",
    "    user_input_x = int(input(\"What do you want to Subtracte from?\\n\"))\n",
    "    user_input_y = int(input(\"What do you want to Subtracte from it?\\n\"))\n",
    "    c =  user_input_x - user_input_y\n",
    "    return c\n",
    "\n",
    "##this recives the two numbers you want to Divide and returns it.\n",
    "def Div():\n",
    "    user_input_x = int(input(\"What do you want to divide from?\\n\"))\n",
    "    user_input_y = int(input(\"What do you want to divide from it?\\n\"))\n",
    "    c =  user_input_x / user_input_y\n",
    "    return c\n",
    "\n",
    "##this recives the two numbers you want to Multiply and returns it.\n",
    "def Mult():\n",
    "    user_input_x = int(input(\"What do you want to multiply?\\n\"))\n",
    "    user_input_y = int(input(\"What do you want to multiply with?\\n\"))\n",
    "    c =  user_input_x * user_input_y\n",
    "    return c\n",
    "\n",
    "\n",
    "##This acts as a Main manu for our code, so when we finish a function it loops back to here.\n",
    "def main():\n",
    "\n",
    "    user_input = input(\"What would you like to do today\")\n",
    "    if user_input == quit:\n",
    "        print(\"thank you\")\n",
    "    elif user_input == 'Add':\n",
    "        sum = str(Add())\n",
    "        print (\"its equal to  \" + sum)\n",
    "    elif user_input == 'Sub':\n",
    "        value = str(Sub())\n",
    "        print (\"its equal to  \" + value)\n",
    "    elif user_input == 'Div':\n",
    "        value = str(Div())\n",
    "        print (\"its equal to  \" + value)\n",
    "    elif user_input == 'Mult':\n",
    "        value = str(Mult())\n",
    "        print (\"its equal to  \" + value)\n",
    "print(\"Help Menu: \\nFor Addition enter 'Add'.\\nFor Subtraction enter 'Sub'.\\nFor Divion enter 'Div'\\nFor Multiplication enter 'Mult'.\")\n",
    "main()\n"
   ]
  },
  {
   "cell_type": "code",
   "execution_count": null,
   "metadata": {},
   "outputs": [],
   "source": [
    "##1.I didn't have any problems other then coming up with an idea of something to do.\n",
    "##2.i wanted to make it so its says somthing like \"2 plus 3 is equal to 5\" but i only had 2 mins left so i just made sure there were no errors.\n",
    "##3.I forgot to add the main point of my code, i wanted my code to restart its self thats why i made a main menu function, i was going to add \"Main()\" at the end of the function but i forgot ToT."
   ]
  }
 ],
 "metadata": {
  "kernelspec": {
   "display_name": "Python 3",
   "language": "python",
   "name": "python3"
  },
  "language_info": {
   "codemirror_mode": {
    "name": "ipython",
    "version": 3
   },
   "file_extension": ".py",
   "mimetype": "text/x-python",
   "name": "python",
   "nbconvert_exporter": "python",
   "pygments_lexer": "ipython3",
   "version": "3.9.13"
  },
  "orig_nbformat": 4
 },
 "nbformat": 4,
 "nbformat_minor": 2
}
