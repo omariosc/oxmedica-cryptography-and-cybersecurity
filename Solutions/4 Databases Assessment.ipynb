{
 "cells": [
  {
   "attachments": {},
   "cell_type": "markdown",
   "metadata": {},
   "source": [
    "AHMED ALGHAMDI\n",
    "FIRAS ALZHRANI"
   ]
  },
  {
   "attachments": {},
   "cell_type": "markdown",
   "metadata": {},
   "source": [
    "# CREATE TABLES USING PYTHON AND SQL\n",
    "Creating The Tables Books, Members, and Borrowing using SQLite in Python."
   ]
  },
  {
   "cell_type": "code",
   "execution_count": 2,
   "metadata": {},
   "outputs": [
    {
     "name": "stdout",
     "output_type": "stream",
     "text": [
      "Tables created successfully.\n"
     ]
    }
   ],
   "source": [
    "import sqlite3\n",
    "\n",
    "conn = sqlite3.connect('library.db')\n",
    "cursor = conn.cursor()\n",
    "\n",
    "cursor.execute('''\n",
    "    CREATE TABLE IF NOT EXISTS Books (\n",
    "        id INTEGER PRIMARY KEY,\n",
    "        title TEXT,\n",
    "        author TEXT,\n",
    "        isbn TEXT\n",
    "    )\n",
    "''')\n",
    "\n",
    "cursor.execute('''\n",
    "    CREATE TABLE IF NOT EXISTS Members (\n",
    "        id INTEGER PRIMARY KEY,\n",
    "        name TEXT,\n",
    "        email TEXT\n",
    "    )\n",
    "''')\n",
    "\n",
    "cursor.execute('''\n",
    "    CREATE TABLE IF NOT EXISTS Borrowing (\n",
    "        id INTEGER PRIMARY KEY,\n",
    "        member_id INTEGER,\n",
    "        book_id INTEGER,\n",
    "        borrowed_date DATE,\n",
    "        return_date DATE,\n",
    "        FOREIGN KEY (member_id) REFERENCES Members(id),\n",
    "        FOREIGN KEY (book_id) REFERENCES Books(id)\n",
    "    )\n",
    "''')\n",
    "\n",
    "conn.commit()\n",
    "conn.close()\n",
    "\n",
    "print(\"Tables created successfully.\")"
   ]
  },
  {
   "attachments": {},
   "cell_type": "markdown",
   "metadata": {},
   "source": [
    "# ADD RECORDS TO THE TABLE\n",
    "Adding A New Book, A New Member, And A New Borrowing To The Tables."
   ]
  },
  {
   "cell_type": "code",
   "execution_count": 3,
   "metadata": {},
   "outputs": [
    {
     "name": "stdout",
     "output_type": "stream",
     "text": [
      "Records added successfully.\n"
     ]
    }
   ],
   "source": [
    "conn = sqlite3.connect('library.db')\n",
    "cursor = conn.cursor()\n",
    "\n",
    "cursor.execute('''\n",
    "    INSERT INTO Books (title, author, isbn) VALUES (?, ?, ?)\n",
    "''', ('BOOK', 'J.D. Salinger', '9780316769488'))\n",
    "book_id = cursor.lastrowid\n",
    "\n",
    "cursor.execute('''\n",
    "    INSERT INTO Members (name, email) VALUES (?, ?)\n",
    "''', ('Ahmed', 'Ahmed@gmail.com'))\n",
    "member_id = cursor.lastrowid\n",
    "\n",
    "cursor.execute('''\n",
    "    INSERT INTO Borrowing (member_id, book_id, borrowed_date, return_date) VALUES (?, ?, ?, ?)\n",
    "''', (member_id, book_id, '2024-07-02', '2024-08-02'))\n",
    "borrowing_id = cursor.lastrowid\n",
    "\n",
    "conn.commit()\n",
    "conn.close()\n",
    "\n",
    "print(\"Records added successfully.\")"
   ]
  },
  {
   "attachments": {},
   "cell_type": "markdown",
   "metadata": {},
   "source": [
    "# PREVINTING SQL INJECTIONS\n",
    "To Prevent SQL injection, I Should Always Use Parameterized Queries. Heres How You Can Fix The Vulnerable Code:"
   ]
  },
  {
   "cell_type": "code",
   "execution_count": 4,
   "metadata": {},
   "outputs": [
    {
     "name": "stdout",
     "output_type": "stream",
     "text": [
      "(1, 'John Doe', 'johndoe@example.com')\n"
     ]
    }
   ],
   "source": [
    "safe_variable = (1,)\n",
    "query = \"SELECT * FROM Members WHERE id = ?\"\n",
    "\n",
    "conn = sqlite3.connect('library.db')\n",
    "cursor = conn.cursor()\n",
    "cursor.execute(query, safe_variable)\n",
    "rows = cursor.fetchall()\n",
    "\n",
    "for row in rows:\n",
    "    print(row)\n",
    "\n",
    "conn.close()"
   ]
  }
 ],
 "metadata": {
  "kernelspec": {
   "display_name": "Python 3",
   "language": "python",
   "name": "python3"
  },
  "language_info": {
   "codemirror_mode": {
    "name": "ipython",
    "version": 3
   },
   "file_extension": ".py",
   "mimetype": "text/x-python",
   "name": "python",
   "nbconvert_exporter": "python",
   "pygments_lexer": "ipython3",
   "version": "3.9.7"
  },
  "orig_nbformat": 4
 },
 "nbformat": 4,
 "nbformat_minor": 2
}
