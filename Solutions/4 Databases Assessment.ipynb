{
 "cells": [
  {
   "cell_type": "code",
   "execution_count": 4,
   "metadata": {
    "vscode": {
     "languageId": "sql"
    }
   },
   "outputs": [
    {
     "ename": "SyntaxError",
     "evalue": "invalid syntax (791921442.py, line 1)",
     "output_type": "error",
     "traceback": [
      "\u001b[1;36m  Cell \u001b[1;32mIn[4], line 1\u001b[1;36m\u001b[0m\n\u001b[1;33m    CREATE TABLE Products(\u001b[0m\n\u001b[1;37m           ^\u001b[0m\n\u001b[1;31mSyntaxError\u001b[0m\u001b[1;31m:\u001b[0m invalid syntax\n"
     ]
    }
   ],
   "source": [
    "CREATE TABLE Products(\n",
    "    id INTEGER PRIMARY KEY,\n",
    "    name TEXT,\n",
    "    price REAL\n",
    ");"
   ]
  },
  {
   "cell_type": "code",
   "execution_count": 1,
   "metadata": {},
   "outputs": [
    {
     "name": "stdout",
     "output_type": "stream",
     "text": [
      "(2, 'the art of war', 'Sun Tzu', 2009)\n",
      "(2, 'Abdulaziz', '2010-02-01')\n",
      "(2, 2, 2, '2024-01-01', '2024-01-10')\n",
      "Results of SQL Injection attempt:\n",
      "(2, 'Abdulaziz', '2010-02-01')\n",
      "Results after fixing SQL Injection:\n"
     ]
    }
   ],
   "source": [
    "import sqlite3\n",
    "import time\n",
    "\n",
    "##Nasser Alhalidi,Abdulaziz badr,Fahad Abdulallah,Abdulallah.\n",
    "\n",
    "def execute_with_retry(cursor, query, params=(), retries=5):\n",
    "    for i in range(retries):\n",
    "        try:\n",
    "            cursor.execute(query, params)\n",
    "            return\n",
    "        except sqlite3.OperationalError as e:\n",
    "            if \"locked\" in str(e):\n",
    "                wait_time = (i + 1) * 2  # increasing wait time\n",
    "                time.sleep(wait_time)  # wait before retrying\n",
    "            else:\n",
    "                raise\n",
    "    raise Exception(\"Database is locked after multiple retries\")\n",
    "\n",
    "# Connect to the database\n",
    "conn = sqlite3.connect('library.db')\n",
    "cursor = conn.cursor()\n",
    "\n",
    "# Create the Books table\n",
    "execute_with_retry(cursor, '''\n",
    "CREATE TABLE IF NOT EXISTS Books (\n",
    "    id INT PRIMARY KEY,\n",
    "    title VARCHAR(255),\n",
    "    author VARCHAR(255),\n",
    "    publication_year INT\n",
    ");\n",
    "''')\n",
    "\n",
    "# Create the Members table\n",
    "execute_with_retry(cursor, '''\n",
    "CREATE TABLE IF NOT EXISTS Members (\n",
    "    member_id INT PRIMARY KEY,\n",
    "    name VARCHAR(255),\n",
    "    date_of_membership DATE\n",
    ");\n",
    "''')\n",
    "\n",
    "# Create the BorrowingHistory table\n",
    "execute_with_retry(cursor, '''\n",
    "CREATE TABLE IF NOT EXISTS BorrowingHistory (\n",
    "    borrow_id INT PRIMARY KEY,\n",
    "    book_id INT,\n",
    "    member_id INT,\n",
    "    borrow_date TEXT,\n",
    "    return_date TEXT,\n",
    "    FOREIGN KEY (book_id) REFERENCES Books(id),\n",
    "    FOREIGN KEY (member_id) REFERENCES Members(member_id)\n",
    ");\n",
    "''')\n",
    "\n",
    "# Add a new book with a different id\n",
    "execute_with_retry(cursor, '''\n",
    "    INSERT INTO Books (id, title, author, publication_year) VALUES (?, ?, ?, ?)\n",
    "''', (2, 'the art of war', 'Sun Tzu', 2009))\n",
    "\n",
    "# Add a new member with a different member_id\n",
    "execute_with_retry(cursor, '''\n",
    "    INSERT INTO Members (member_id, name, date_of_membership) VALUES (?, ?, ?)\n",
    "''', (2, 'Abdulaziz', '2010-02-01'))\n",
    "\n",
    "# Add a new borrowing with different borrow_id, book_id, and member_id\n",
    "execute_with_retry(cursor, '''\n",
    "    INSERT INTO BorrowingHistory (borrow_id, book_id, member_id, borrow_date, return_date) VALUES (?, ?, ?, ?, ?)\n",
    "''', (2, 2, 2, '2024-01-01', '2024-01-10'))\n",
    "\n",
    "# Display the Books table\n",
    "execute_with_retry(cursor, 'SELECT * FROM Books')\n",
    "rows = cursor.fetchall()\n",
    "for row in rows:\n",
    "    print(row)\n",
    "\n",
    "# Display the Members table\n",
    "execute_with_retry(cursor, 'SELECT * FROM Members')\n",
    "rows = cursor.fetchall()\n",
    "for row in rows:\n",
    "    print(row)\n",
    "\n",
    "# Display the BorrowingHistory table\n",
    "execute_with_retry(cursor, 'SELECT * FROM BorrowingHistory')\n",
    "rows = cursor.fetchall()\n",
    "for row in rows:\n",
    "    print(row)\n",
    "\n",
    "# SQL Injection example (unsafe)\n",
    "unsafe_input = \"' OR '1'='1\"\n",
    "query = f\"SELECT * FROM Members WHERE name = '{unsafe_input}'\"\n",
    "execute_with_retry(cursor, query)\n",
    "rows = cursor.fetchall()\n",
    "print(\"Results of SQL Injection attempt:\")\n",
    "for row in rows:\n",
    "    print(row)\n",
    "\n",
    "# Fix SQL Injection using parameterized queries\n",
    "safe_input = \"' OR '1'='1\"\n",
    "execute_with_retry(cursor, \"SELECT * FROM Members WHERE name = ?\", (safe_input,))\n",
    "rows = cursor.fetchall()\n",
    "print(\"Results after fixing SQL Injection:\")\n",
    "for row in rows:\n",
    "    print(row)\n",
    "\n",
    "# Commit the changes and close the connection\n",
    "conn.commit()\n",
    "conn.close()\n"
   ]
  }
 ],
 "metadata": {
  "kernelspec": {
   "display_name": "Python 3",
   "language": "python",
   "name": "python3"
  },
  "language_info": {
   "codemirror_mode": {
    "name": "ipython",
    "version": 3
   },
   "file_extension": ".py",
   "mimetype": "text/x-python",
   "name": "python",
   "nbconvert_exporter": "python",
   "pygments_lexer": "ipython3",
   "version": "3.9.13"
  },
  "orig_nbformat": 4
 },
 "nbformat": 4,
 "nbformat_minor": 2
}
