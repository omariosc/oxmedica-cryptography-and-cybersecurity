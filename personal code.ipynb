{
 "cells": [
  {
   "cell_type": "code",
   "execution_count": 17,
   "metadata": {},
   "outputs": [
    {
     "ename": "OperationalError",
     "evalue": "near \"FROM\": syntax error",
     "output_type": "error",
     "traceback": [
      "\u001b[1;31m---------------------------------------------------------------------------\u001b[0m",
      "\u001b[1;31mOperationalError\u001b[0m                          Traceback (most recent call last)",
      "Cell \u001b[1;32mIn[17], line 48\u001b[0m\n\u001b[0;32m     46\u001b[0m     user_input_name \u001b[39m=\u001b[39m \u001b[39mstr\u001b[39m(\u001b[39minput\u001b[39m(\u001b[39m\"\u001b[39m\u001b[39muser name? \u001b[39m\u001b[39m\"\u001b[39m))\n\u001b[0;32m     47\u001b[0m     user_input_pass \u001b[39m=\u001b[39m \u001b[39mstr\u001b[39m(\u001b[39minput\u001b[39m(\u001b[39m\"\u001b[39m\u001b[39mUser Password? \u001b[39m\u001b[39m\"\u001b[39m))\n\u001b[1;32m---> 48\u001b[0m     cursor\u001b[39m.\u001b[39;49mexecute(\u001b[39m'''\u001b[39;49m\n\u001b[0;32m     49\u001b[0m \u001b[39m    SELECT FROM Products WHERE name = ? AND password = ?\u001b[39;49m\n\u001b[0;32m     50\u001b[0m \u001b[39m    \u001b[39;49m\u001b[39m'''\u001b[39;49m, (user_input_name, user_input_pass))\n\u001b[0;32m     52\u001b[0m \u001b[39melif\u001b[39;00m user_input \u001b[39m==\u001b[39m \u001b[39m\"\u001b[39m\u001b[39mprint\u001b[39m\u001b[39m\"\u001b[39m:\n\u001b[0;32m     53\u001b[0m     Print()\n",
      "\u001b[1;31mOperationalError\u001b[0m: near \"FROM\": syntax error"
     ]
    }
   ],
   "source": [
    "import sqlite3\n",
    "\n",
    "conn = sqlite3.connect('example.db')\n",
    "cursor = conn.cursor()\n",
    "\n",
    "user_input = input(\"what do you want to do? \\n\")\n",
    "\n",
    "cursor.execute('''\n",
    "CREATE TABLE IF NOT EXISTS Products (\n",
    "    id INTEGER PRIMARY KEY,\n",
    "    name TEXT,\n",
    "    Password TEXT\n",
    ")\n",
    "''')\n",
    "\n",
    "def Print():\n",
    "    cursor.execute('SELECT * FROM Products')\n",
    "    columns = cursor.fetchall()\n",
    "    for column in columns:\n",
    "        print(columns)\n",
    "\n",
    "if user_input == \"Add\":\n",
    "    user_input_name = str(input(\"user name? \"))\n",
    "    user_input_pass = str(input(\"User Password? \"))\n",
    "    cursor.execute('''\n",
    "    INSERT INTO Products (name, Password) VALUES (?, ?)\n",
    "    ''', (user_input_name, user_input_pass))\n",
    "    Print()\n",
    "\n",
    "elif user_input == \"Del\":\n",
    "    user_input = input(\"how much? \")\n",
    "    if user_input == \"One\":\n",
    "        user_input_name = str(input(\"user name? \"))\n",
    "        user_input_pass = str(input(\"User Password? \"))\n",
    "        cursor.execute('''\n",
    "        DELETE FROM Products WHERE name = ? AND password = ?\n",
    "        ''', (user_input_name, user_input_pass))\n",
    "        Print()\n",
    "    elif user_input == \"All\":\n",
    "        cursor.execute('''\n",
    "        Delete From Products \n",
    "        ''')\n",
    "        Print()\n",
    "\n",
    "elif user_input == \"Sel\":\n",
    "    user_input_name = str(input(\"user name? \"))\n",
    "    user_input_pass = str(input(\"User Password? \"))\n",
    "    cursor.execute('''\n",
    "    SELECT FROM Products WHERE name = ? AND password = ?\n",
    "    ''', (user_input_name, user_input_pass))\n",
    "\n",
    "elif user_input == \"print\":\n",
    "    Print()\n",
    "\n",
    "\n",
    "\n",
    "conn.commit()\n",
    "conn.close()"
   ]
  }
 ],
 "metadata": {
  "kernelspec": {
   "display_name": "Python 3",
   "language": "python",
   "name": "python3"
  },
  "language_info": {
   "codemirror_mode": {
    "name": "ipython",
    "version": 3
   },
   "file_extension": ".py",
   "mimetype": "text/x-python",
   "name": "python",
   "nbconvert_exporter": "python",
   "pygments_lexer": "ipython3",
   "version": "3.9.13"
  },
  "orig_nbformat": 4
 },
 "nbformat": 4,
 "nbformat_minor": 2
}
