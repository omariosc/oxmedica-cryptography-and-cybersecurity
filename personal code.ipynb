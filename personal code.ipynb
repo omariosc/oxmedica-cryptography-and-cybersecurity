{
 "cells": [
  {
   "cell_type": "code",
   "execution_count": 16,
   "metadata": {},
   "outputs": [
    {
     "name": "stdout",
     "output_type": "stream",
     "text": [
      "(2, 'B', 321.0)\n",
      "(3, '\" or \"\"=\"', '\" or \"\"=\"')\n",
      "(4, 'john', '105; DROP TABLE Products')\n"
     ]
    }
   ],
   "source": [
    "import sqlite3\n",
    "\n",
    "conn = sqlite3.connect('example.db')\n",
    "cursor = conn.cursor()\n",
    "\n",
    "user_input = input(\"what do you want to do? \\n\")\n",
    "\n",
    "cursor.execute('''\n",
    "CREATE TABLE IF NOT EXISTS Products (\n",
    "    id INTEGER PRIMARY KEY,\n",
    "    name TEXT,\n",
    "    Password TEXT\n",
    ")\n",
    "''')\n",
    "\n",
    "def Print():\n",
    "    cursor.execute('SELECT * FROM Products')\n",
    "    rows = cursor.fetchall()\n",
    "    for row in rows:\n",
    "        print(row)\n",
    "\n",
    "if user_input == \"Add\":\n",
    "    user_input_name = str(input(\"user name? \"))\n",
    "    user_input_pass = str(input(\"User Password? \"))\n",
    "    cursor.execute('''\n",
    "    INSERT INTO Products (name, Password) VALUES (?, ?)\n",
    "    ''', (user_input_name, user_input_pass))\n",
    "    Print()\n",
    "\n",
    "elif user_input == \"Del\":\n",
    "    user_input = input(\"how much? \")\n",
    "    if user_input == \"One\":\n",
    "        user_input_name = str(input(\"user name? \"))\n",
    "        user_input_pass = str(input(\"User Password? \"))\n",
    "        cursor.execute('''\n",
    "        DELETE FROM Products WHERE name = ? AND password = ?\n",
    "        ''', (user_input_name, user_input_pass))\n",
    "        Print()\n",
    "    elif user_input == \"All\":\n",
    "        cursor.execute('''\n",
    "        Delete From Products \n",
    "        ''')\n",
    "        Print()\n",
    "\n",
    "elif user_input == \"Sel\":\n",
    "    user_input_name = str(input(\"user name? \"))\n",
    "    user_input_pass = str(input(\"User Password? \"))\n",
    "    cursor.execute('''\n",
    "    SELECT FROM Products WHERE name = ? AND password = ?\n",
    "    ''', (user_input_name, user_input_pass))\n",
    "    \n",
    "\n",
    "\n",
    "conn.commit()\n",
    "conn.close()"
   ]
  }
 ],
 "metadata": {
  "kernelspec": {
   "display_name": "Python 3",
   "language": "python",
   "name": "python3"
  },
  "language_info": {
   "codemirror_mode": {
    "name": "ipython",
    "version": 3
   },
   "file_extension": ".py",
   "mimetype": "text/x-python",
   "name": "python",
   "nbconvert_exporter": "python",
   "pygments_lexer": "ipython3",
   "version": "3.9.13"
  },
  "orig_nbformat": 4
 },
 "nbformat": 4,
 "nbformat_minor": 2
}
