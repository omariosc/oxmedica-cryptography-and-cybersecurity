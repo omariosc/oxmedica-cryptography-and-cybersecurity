{
 "cells": [
  {
   "cell_type": "code",
   "execution_count": 1,
   "metadata": {},
   "outputs": [
    {
     "data": {
      "text/plain": [
       "{}"
      ]
     },
     "execution_count": 1,
     "metadata": {},
     "output_type": "execute_result"
    }
   ],
   "source": [
    "# pyton written assesment\n",
    "\n",
    "\n",
    "\n",
    "#text file input\n",
    "text_file = input()\n",
    "dic = {}\n",
    "words = text_file.split()\n",
    "#number of ocurence counter\n",
    "for raw_word in words:\n",
    "    word = raw_word.lower()\n",
    "    if word in dic:\n",
    "        dic[word] += 1\n",
    "    else:\n",
    "        dic[word] = 1\n",
    "\n",
    "print; dic\n"
   ]
  },
  {
   "cell_type": "code",
   "execution_count": null,
   "metadata": {
    "vscode": {
     "languageId": "sql"
    }
   },
   "outputs": [],
   "source": [
    "create table fahad_expres(\n",
    "product_id int(123) primary key,\n",
    "product_name str(\"nuclear_bomb\"),\n",
    "prosuct_desc str(\"boom\"),\n",
    "price int(2));\n",
    "\n",
    "create table customer(\n",
    "customer_id int(321) primary key,\n",
    "customer_name str(\"kim_jung_un\"),\n",
    "email str(\"kim_jung_un@gmail.com\"),\n",
    "addres str(\"north korea\"),);\n",
    "\n",
    "create table orders(\n",
    "product_id int(123) primary key,\n",
    "customer_id int(321),\n",
    "order_date int(2024),\n",
    "amount int(999),\n",
    "FOREIGN KEY (customer_id) REFERENCES customer(customer_id)\n",
    "FOREIGN KEY (product_id) REFERENCES fahad_expres(product_id)\n",
    ");"
   ]
  }
 ],
 "metadata": {
  "kernelspec": {
   "display_name": "Python 3",
   "language": "python",
   "name": "python3"
  },
  "language_info": {
   "codemirror_mode": {
    "name": "ipython",
    "version": 3
   },
   "file_extension": ".py",
   "mimetype": "text/x-python",
   "name": "python",
   "nbconvert_exporter": "python",
   "pygments_lexer": "ipython3",
   "version": "3.9.7"
  },
  "orig_nbformat": 4
 },
 "nbformat": 4,
 "nbformat_minor": 2
}
