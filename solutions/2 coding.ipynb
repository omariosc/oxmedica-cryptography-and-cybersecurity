{
 "cells": [
  {
   "cell_type": "code",
   "execution_count": 1,
   "metadata": {},
   "outputs": [],
   "source": []
  },
  {
   "cell_type": "code",
   "execution_count": null,
   "metadata": {},
   "outputs": [],
   "source": [
    "#an if loop wich checks a list with inputs \n",
    "name=str\n",
    "#a baan list \n",
    "usslesvar =(\"b\")\n",
    "people = [\"frank\",\"bob\", \"vinny\",]\n",
    "name= str(name)\n",
    "input(name)\n",
    "people .append (name)\n",
    "if  (name) not in people:\n",
    "    print(\"welcome new user\")\n",
    "    \n",
    "else :print(\"you have been banned from this expirence\")\n",
    "#to an input based loop\n",
    "if name  in people:\n",
    "    age = int\n",
    "    print(\"what is your age ?\")\n",
    "    input(age)\n",
    "age >18 == True\n",
    "print(\"you are eligble for this exprience\")\n",
    "#end of expirence \n",
    "print(\"thanks\")\n",
    "print(\"would you like some adds 1 for yes 0 for no\")\n",
    "#int reply line\n",
    "rerply = int\n",
    "input=(rerply)\n",
    "if rerply==1:\n",
    "    #adds\n",
    "    (\"error no adds\")\n",
    "else:print(\"no\")"
   ]
  },
  {
   "attachments": {},
   "cell_type": "markdown",
   "metadata": {},
   "source": [
    "# i wanted to be able to complete the line amount and add a litle bit more codde \n",
    "i think the main issue was that i couldnt  get any ideas with long lines of code \n"
   ]
  },
  {
   "cell_type": "code",
   "execution_count": null,
   "metadata": {},
   "outputs": [
    {
     "ename": "",
     "evalue": "",
     "output_type": "error",
     "traceback": [
      "\u001b[1;31mRunning cells with 'c:\\Program Files\\Python39\\python.exe' requires the ipykernel package.\n",
      "\u001b[1;31mRun the following command to install 'ipykernel' into the Python environment. \n",
      "\u001b[1;31mCommand: '\"c:/Program Files/Python39/python.exe\" -m pip install ipykernel -U --user --force-reinstall'"
     ]
    }
   ],
   "source": []
  }
 ],
 "metadata": {
  "kernelspec": {
   "display_name": "Python 3",
   "language": "python",
   "name": "python3"
  },
  "language_info": {
   "codemirror_mode": {
    "name": "ipython",
    "version": 3
   },
   "file_extension": ".py",
   "mimetype": "text/x-python",
   "name": "python",
   "nbconvert_exporter": "python",
   "pygments_lexer": "ipython3",
   "version": "3.9.7"
  },
  "orig_nbformat": 4
 },
 "nbformat": 4,
 "nbformat_minor": 2
}
